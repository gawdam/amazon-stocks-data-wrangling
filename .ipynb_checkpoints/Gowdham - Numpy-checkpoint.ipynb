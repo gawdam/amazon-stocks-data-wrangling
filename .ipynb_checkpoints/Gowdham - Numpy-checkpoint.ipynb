{
 "cells": [
  {
   "cell_type": "markdown",
   "id": "statewide-africa",
   "metadata": {},
   "source": [
    "# <font color = red> Numpy"
   ]
  },
  {
   "cell_type": "code",
   "execution_count": 2,
   "id": "b4970212",
   "metadata": {
    "id": "b4970212"
   },
   "outputs": [],
   "source": [
    "import numpy as np\n",
    "import warnings\n",
    "warnings.filterwarnings(\"ignore\")"
   ]
  },
  {
   "cell_type": "markdown",
   "id": "fancy-former",
   "metadata": {},
   "source": [
    "## <font color = blue> Creating a numpy array\n",
    "\n",
    "### Using `np.array()`"
   ]
  },
  {
   "cell_type": "code",
   "execution_count": 3,
   "id": "b82d9507",
   "metadata": {
    "id": "b82d9507",
    "outputId": "732fc3d3-c4a7-4aaa-cf90-3b82ef2b5c4f"
   },
   "outputs": [
    {
     "name": "stdout",
     "output_type": "stream",
     "text": [
      "[[11 23 32]\n",
      " [12 34 56]\n",
      " [77 77 54]]\n",
      "\n",
      "(3, 3)\n"
     ]
    }
   ],
   "source": [
    "# Create a numpy array\n",
    "\n",
    "np_arr = np.array([[11,23,32],[12,34,56],[77,77,54]])\n",
    "print(np_arr)\n",
    "print()\n",
    "print(np_arr.shape)"
   ]
  },
  {
   "cell_type": "code",
   "execution_count": 4,
   "id": "ecacd49b",
   "metadata": {
    "colab": {
     "base_uri": "https://localhost:8080/",
     "height": 214
    },
    "executionInfo": {
     "elapsed": 1496,
     "status": "error",
     "timestamp": 1634147084496,
     "user": {
      "displayName": "Gowdham Ravichandran",
      "photoUrl": "https://lh3.googleusercontent.com/a-/AOh14Gh0QQnGEYvqia-wXXOBfhB190-PhCdgoqaLfCxn=s64",
      "userId": "02295107535681367825"
     },
     "user_tz": -330
    },
    "id": "ecacd49b",
    "outputId": "ff3bf2bd-da52-4986-eccd-930a5e2ca911"
   },
   "outputs": [
    {
     "name": "stdout",
     "output_type": "stream",
     "text": [
      "[list([11, 23, 32]) list([12, 34, 56]) list([77, 77])]\n",
      "\n",
      "(3,)\n"
     ]
    }
   ],
   "source": [
    "np_arr = np.array([[11,23,32],[12,34,56],[77,77]])\n",
    "print(np_arr)\n",
    "print()\n",
    "print(np_arr.shape)"
   ]
  },
  {
   "cell_type": "code",
   "execution_count": null,
   "id": "c1950969",
   "metadata": {
    "id": "c1950969",
    "outputId": "1d4c69b6-093d-49c8-d15a-04190efc72de"
   },
   "outputs": [
    {
     "name": "stdout",
     "output_type": "stream",
     "text": [
      "[[11 23 32]\n",
      " [12 34 56]\n",
      " [77 77 None]]\n",
      "\n",
      "(3, 3)\n"
     ]
    }
   ],
   "source": [
    "np_arr = np.array([[11,23,32],[12,34,56],[77,77,None]])\n",
    "print(np_arr)\n",
    "print()\n",
    "print(np_arr.shape)"
   ]
  },
  {
   "cell_type": "markdown",
   "id": "0f12e642",
   "metadata": {
    "id": "0f12e642"
   },
   "source": [
    "### `np.zeros() and np.ones()`"
   ]
  },
  {
   "cell_type": "code",
   "execution_count": null,
   "id": "7445e6e7",
   "metadata": {
    "id": "7445e6e7",
    "outputId": "ebad7244-cbe1-49ce-df42-71eb2b3b2d7b"
   },
   "outputs": [
    {
     "data": {
      "text/plain": [
       "array([[0., 0., 0., 0.],\n",
       "       [0., 0., 0., 0.]])"
      ]
     },
     "execution_count": 5,
     "metadata": {},
     "output_type": "execute_result"
    }
   ],
   "source": [
    "np_zeros = np.zeros([2,4])\n",
    "np_zeros"
   ]
  },
  {
   "cell_type": "code",
   "execution_count": null,
   "id": "912fe210",
   "metadata": {
    "id": "912fe210",
    "outputId": "1980028e-d63f-4fc8-f5a5-8e5c0c6751c9"
   },
   "outputs": [
    {
     "data": {
      "text/plain": [
       "array([[1., 1., 1., 1.],\n",
       "       [1., 1., 1., 1.]])"
      ]
     },
     "execution_count": 9,
     "metadata": {},
     "output_type": "execute_result"
    }
   ],
   "source": [
    "np_ones = np.ones([2,4])\n",
    "np_ones"
   ]
  },
  {
   "cell_type": "markdown",
   "id": "9cf43913",
   "metadata": {
    "id": "9cf43913"
   },
   "source": [
    "### `np.full()`"
   ]
  },
  {
   "cell_type": "code",
   "execution_count": null,
   "id": "85fd9741",
   "metadata": {
    "id": "85fd9741",
    "outputId": "c90efd75-10bc-45cc-90a0-0c8b12096eb0"
   },
   "outputs": [
    {
     "data": {
      "text/plain": [
       "array([[4, 4],\n",
       "       [4, 4],\n",
       "       [4, 4]])"
      ]
     },
     "execution_count": 12,
     "metadata": {},
     "output_type": "execute_result"
    }
   ],
   "source": [
    "np.full((3,2),4)"
   ]
  },
  {
   "cell_type": "markdown",
   "id": "republican-casino",
   "metadata": {},
   "source": [
    "### `np.arange()`\n"
   ]
  },
  {
   "cell_type": "code",
   "execution_count": null,
   "id": "127068b5",
   "metadata": {
    "id": "127068b5",
    "outputId": "71e21d05-1440-42f9-ae34-19bae89a057e"
   },
   "outputs": [
    {
     "data": {
      "text/plain": [
       "array([ 0,  1,  2,  3,  4,  5,  6,  7,  8,  9, 10, 11])"
      ]
     },
     "execution_count": 17,
     "metadata": {},
     "output_type": "execute_result"
    }
   ],
   "source": [
    "np.arange(12)"
   ]
  },
  {
   "cell_type": "markdown",
   "id": "7486b597",
   "metadata": {
    "id": "7486b597"
   },
   "source": [
    "### `np.linspace()`\n",
    "\n",
    "the `linspace()` function generates an array with evenly spaced values between specified start, end values, using a specified number of elements"
   ]
  },
  {
   "cell_type": "code",
   "execution_count": null,
   "id": "5b982bac",
   "metadata": {
    "id": "5b982bac",
    "outputId": "68bac5ce-8e1f-45ef-f92f-83846b3cb748"
   },
   "outputs": [
    {
     "data": {
      "text/plain": [
       "array([0.  , 0.25, 0.5 , 0.75, 1.  ])"
      ]
     },
     "execution_count": 75,
     "metadata": {},
     "output_type": "execute_result"
    }
   ],
   "source": [
    "np.linspace(0, 1, 5)"
   ]
  },
  {
   "cell_type": "code",
   "execution_count": null,
   "id": "1bf54867",
   "metadata": {
    "id": "1bf54867",
    "outputId": "624b3b46-318a-4294-93e8-acbbfe992818"
   },
   "outputs": [
    {
     "data": {
      "text/plain": [
       "array([0.        , 0.05263158, 0.10526316, 0.15789474, 0.21052632,\n",
       "       0.26315789, 0.31578947, 0.36842105, 0.42105263, 0.47368421,\n",
       "       0.52631579, 0.57894737, 0.63157895, 0.68421053, 0.73684211,\n",
       "       0.78947368, 0.84210526, 0.89473684, 0.94736842, 1.        ])"
      ]
     },
     "execution_count": 76,
     "metadata": {},
     "output_type": "execute_result"
    }
   ],
   "source": [
    "np.linspace(0, 1, 20)\n",
    "# 20 points equally spaced between 0 and 1"
   ]
  },
  {
   "cell_type": "code",
   "execution_count": null,
   "id": "ce7064fc",
   "metadata": {
    "id": "ce7064fc",
    "outputId": "2856b665-ecbb-4ed7-9072-420afaf7b044"
   },
   "outputs": [
    {
     "data": {
      "text/plain": [
       "array([0.  , 0.05, 0.1 , 0.15, 0.2 , 0.25, 0.3 , 0.35, 0.4 , 0.45, 0.5 ,\n",
       "       0.55, 0.6 , 0.65, 0.7 , 0.75, 0.8 , 0.85, 0.9 , 0.95])"
      ]
     },
     "execution_count": 77,
     "metadata": {},
     "output_type": "execute_result"
    }
   ],
   "source": [
    "np.linspace(0, 1, 20, False)\n",
    "# 20 points Unequally spaced between 0 and 1"
   ]
  },
  {
   "cell_type": "markdown",
   "id": "80fab194",
   "metadata": {
    "id": "80fab194"
   },
   "source": [
    "---\n",
    "### `identity`"
   ]
  },
  {
   "cell_type": "code",
   "execution_count": null,
   "id": "8f415f4b",
   "metadata": {
    "id": "8f415f4b",
    "outputId": "eba6f5ea-7843-41b1-9961-b9826e730332"
   },
   "outputs": [
    {
     "data": {
      "text/plain": [
       "array([[1., 0., 0.],\n",
       "       [0., 1., 0.],\n",
       "       [0., 0., 1.]])"
      ]
     },
     "execution_count": 78,
     "metadata": {},
     "output_type": "execute_result"
    }
   ],
   "source": [
    "np.identity(3)"
   ]
  },
  {
   "cell_type": "markdown",
   "id": "1db0ce8a",
   "metadata": {
    "id": "1db0ce8a"
   },
   "source": [
    "### `np.random()` "
   ]
  },
  {
   "cell_type": "code",
   "execution_count": null,
   "id": "be6f479d",
   "metadata": {
    "id": "be6f479d",
    "outputId": "b3c27851-a847-4aa6-fb30-daf199f8d2b2"
   },
   "outputs": [
    {
     "data": {
      "text/plain": [
       "array([0.66018062, 0.61165426])"
      ]
     },
     "execution_count": 72,
     "metadata": {},
     "output_type": "execute_result"
    }
   ],
   "source": [
    "np.random.random(size=2)\n",
    "# Return random floats in the half-open interval [0.0, 1.0).\n",
    "# Results are from the “continuous uniform” distribution over the stated interval."
   ]
  },
  {
   "cell_type": "code",
   "execution_count": null,
   "id": "bbd8beb2",
   "metadata": {
    "id": "bbd8beb2",
    "outputId": "50cadc59-ddc2-4cac-8bf6-8163f1e75480"
   },
   "outputs": [
    {
     "data": {
      "text/plain": [
       "array([-0.50271929, -0.89775109])"
      ]
     },
     "execution_count": 73,
     "metadata": {},
     "output_type": "execute_result"
    }
   ],
   "source": [
    "np.random.normal(size=2)\n",
    "# creates an array of specified shape and fills it with random values which \n",
    "# is actually a part of Normal(Gaussian)Distribution. \n",
    "# This is Distribution is also known as Bell Curve because of its characteristics shape.\n",
    "\n",
    "# https://www.geeksforgeeks.org/rand-vs-normal-numpy-random-python/"
   ]
  },
  {
   "cell_type": "code",
   "execution_count": null,
   "id": "45d8b3fd",
   "metadata": {
    "id": "45d8b3fd",
    "outputId": "4c3173ef-2043-4bbe-813d-a6def082cc0d"
   },
   "outputs": [
    {
     "data": {
      "text/plain": [
       "array([[3, 5, 6, 7, 2],\n",
       "       [5, 8, 9, 3, 5],\n",
       "       [2, 4, 2, 5, 5],\n",
       "       [2, 6, 5, 6, 9],\n",
       "       [5, 4, 5, 5, 8]])"
      ]
     },
     "execution_count": 109,
     "metadata": {},
     "output_type": "execute_result"
    }
   ],
   "source": [
    "np.random.randint(2,10, size =(5,5) )  # 25 random numbers between 2 and 10 in a 5x5 matrix"
   ]
  },
  {
   "cell_type": "code",
   "execution_count": null,
   "id": "e9a50efb",
   "metadata": {
    "id": "e9a50efb",
    "outputId": "c1e0654e-3738-4874-84d4-7367722383a7"
   },
   "outputs": [
    {
     "data": {
      "text/plain": [
       "array([[0.03095338, 0.94749641, 0.37644835, 0.53019146],\n",
       "       [0.62435959, 0.41807392, 0.60394879, 0.62182976]])"
      ]
     },
     "execution_count": 74,
     "metadata": {},
     "output_type": "execute_result"
    }
   ],
   "source": [
    "np.random.rand(2, 4)"
   ]
  },
  {
   "cell_type": "markdown",
   "id": "framed-engine",
   "metadata": {},
   "source": [
    "## <font color = blue> Reshaping the array"
   ]
  },
  {
   "cell_type": "markdown",
   "id": "hundred-briefs",
   "metadata": {},
   "source": [
    "### `np.arange()`"
   ]
  },
  {
   "cell_type": "code",
   "execution_count": null,
   "id": "30632723",
   "metadata": {
    "id": "30632723",
    "outputId": "b8f849ab-0b0e-4e84-e375-1cb6ecbcb723"
   },
   "outputs": [
    {
     "data": {
      "text/plain": [
       "array([[ 0,  1,  2,  3],\n",
       "       [ 4,  5,  6,  7],\n",
       "       [ 8,  9, 10, 11]])"
      ]
     },
     "execution_count": 18,
     "metadata": {},
     "output_type": "execute_result"
    }
   ],
   "source": [
    "np.arange(12).reshape(3,4)"
   ]
  },
  {
   "cell_type": "code",
   "execution_count": null,
   "id": "7d229a49",
   "metadata": {
    "id": "7d229a49",
    "outputId": "87bf3bc1-d137-4f78-ad3e-759824580d30"
   },
   "outputs": [
    {
     "data": {
      "text/plain": [
       "array([[ 0,  1,  2],\n",
       "       [ 3,  4,  5],\n",
       "       [ 6,  7,  8],\n",
       "       [ 9, 10, 11]])"
      ]
     },
     "execution_count": 19,
     "metadata": {},
     "output_type": "execute_result"
    }
   ],
   "source": [
    "np.arange(12).reshape(4,3)"
   ]
  },
  {
   "cell_type": "code",
   "execution_count": null,
   "id": "35aee197",
   "metadata": {
    "id": "35aee197",
    "outputId": "fa248654-820d-4228-fd8b-71725c84ed9f"
   },
   "outputs": [
    {
     "data": {
      "text/plain": [
       "array([[ 0],\n",
       "       [ 1],\n",
       "       [ 2],\n",
       "       [ 3],\n",
       "       [ 4],\n",
       "       [ 5],\n",
       "       [ 6],\n",
       "       [ 7],\n",
       "       [ 8],\n",
       "       [ 9],\n",
       "       [10],\n",
       "       [11]])"
      ]
     },
     "execution_count": 21,
     "metadata": {},
     "output_type": "execute_result"
    }
   ],
   "source": [
    "np.arange(12).reshape(12,1)"
   ]
  },
  {
   "cell_type": "markdown",
   "id": "charitable-westminster",
   "metadata": {},
   "source": [
    "`arr.flatten()`"
   ]
  },
  {
   "cell_type": "code",
   "execution_count": 14,
   "id": "777fa6ca",
   "metadata": {
    "id": "777fa6ca",
    "outputId": "c46c33fc-fc02-4035-ede7-dc2e54071885"
   },
   "outputs": [
    {
     "data": {
      "text/plain": [
       "array([10, 20, 30, 40, 50, 60, 18, 18, 18])"
      ]
     },
     "execution_count": 14,
     "metadata": {},
     "output_type": "execute_result"
    }
   ],
   "source": [
    "arr = np.array([[10,20,30],[40,50,60],[18,18,18]])\n",
    "arr.flatten()"
   ]
  },
  {
   "cell_type": "code",
   "execution_count": 15,
   "id": "divine-potter",
   "metadata": {},
   "outputs": [
    {
     "data": {
      "text/plain": [
       "(9,)"
      ]
     },
     "execution_count": 15,
     "metadata": {},
     "output_type": "execute_result"
    }
   ],
   "source": [
    "arr.flatten().shape"
   ]
  },
  {
   "cell_type": "markdown",
   "id": "2eac0492",
   "metadata": {
    "id": "2eac0492"
   },
   "source": [
    "There are two ways to flatten a matrix depending on the data type. For Numpy arrays, we use np.array.flatten() command; for non-array matrices, we use matrix.ravel(). Please try it out."
   ]
  },
  {
   "cell_type": "markdown",
   "id": "05cc6702",
   "metadata": {
    "id": "05cc6702"
   },
   "source": [
    "The numpy module of Python provides a function called numpy.ravel, which is used to change a 2-dimensional array or a multi-dimensional array into a contiguous flattened array. The returned array has the same data type as the source array or input array. If the input array is a masked array, the returned array will also be a masked array."
   ]
  },
  {
   "cell_type": "markdown",
   "id": "sitting-falls",
   "metadata": {
    "id": "7df29959"
   },
   "source": [
    "- Syntax: numpy.ravel(x, order='C')  \n",
    "- Parameters: x: array_like\n",
    "\n",
    "This parameter defines the input array, which we want to change in a contiguous flattened array. The array elements are read in the order specified by the order parameter and packed as a 1-D array.\n",
    "\n",
    "order: {'C','F', 'A', 'K'}(optional)\n",
    "\n",
    "If we set the order parameter to 'C', it means that the array gets flattened in row-major order. If 'F' is set, the array gets flattened in column-major order. The array is flattened in column-major order only when 'A' is Fortran contiguous in memory, and when we set the order parameter to 'A'. The last order is 'K', which flatten the array in same order in which the elements occurred in the memory. By default, this parameter is set to 'C'.\n",
    "\n",
    "Returns:\n",
    "This function returns a contiguous flatten array with the same data type as an input array and has shape equal to (x.size)."
   ]
  },
  {
   "cell_type": "code",
   "execution_count": null,
   "id": "fa4a9f4e",
   "metadata": {
    "id": "fa4a9f4e",
    "outputId": "45a7b4b3-77fa-45c3-d50b-7563dd3b8881"
   },
   "outputs": [
    {
     "data": {
      "text/plain": [
       "array([[ 3,  4,  5,  6],\n",
       "       [ 7,  8,  9, 10],\n",
       "       [11, 12, 13, 14],\n",
       "       [15, 16, 17, 18]])"
      ]
     },
     "execution_count": 86,
     "metadata": {},
     "output_type": "execute_result"
    }
   ],
   "source": [
    "arr"
   ]
  },
  {
   "cell_type": "code",
   "execution_count": null,
   "id": "ebca126c",
   "metadata": {
    "id": "ebca126c",
    "outputId": "1e2bb088-7b83-4b20-dbc6-12a07109cd04"
   },
   "outputs": [
    {
     "name": "stdout",
     "output_type": "stream",
     "text": [
      "[ 3  4  5  6  7  8  9 10 11 12 13 14 15 16 17 18]\n"
     ]
    }
   ],
   "source": [
    "arr_ravel = np.ravel(arr)  \n",
    "print(arr_ravel)"
   ]
  },
  {
   "cell_type": "code",
   "execution_count": null,
   "id": "12fa6dbc",
   "metadata": {
    "id": "12fa6dbc",
    "outputId": "4f0fe818-b1d5-4d1f-b09b-49b4958b6d59",
    "scrolled": true
   },
   "outputs": [
    {
     "data": {
      "text/plain": [
       "array([ 3,  4,  5,  6,  7,  8,  9, 10, 11, 12, 13, 14, 15, 16, 17, 18])"
      ]
     },
     "execution_count": 88,
     "metadata": {},
     "output_type": "execute_result"
    }
   ],
   "source": [
    " np.ravel(arr, order='C')"
   ]
  },
  {
   "cell_type": "code",
   "execution_count": null,
   "id": "338c728b",
   "metadata": {
    "id": "338c728b",
    "outputId": "28ba7e4e-b83c-438d-dde5-0264cf115383"
   },
   "outputs": [
    {
     "data": {
      "text/plain": [
       "array([ 3,  7, 11, 15,  4,  8, 12, 16,  5,  9, 13, 17,  6, 10, 14, 18])"
      ]
     },
     "execution_count": 89,
     "metadata": {},
     "output_type": "execute_result"
    }
   ],
   "source": [
    " np.ravel(arr, order='F')"
   ]
  },
  {
   "cell_type": "markdown",
   "id": "5f0cff16",
   "metadata": {
    "id": "5f0cff16"
   },
   "source": [
    "## <font color = blue> Basic Slicing and Indexing"
   ]
  },
  {
   "cell_type": "markdown",
   "id": "legislative-probe",
   "metadata": {},
   "source": [
    "### `Location based indexing`"
   ]
  },
  {
   "cell_type": "code",
   "execution_count": 17,
   "id": "8c7e4352",
   "metadata": {
    "id": "8c7e4352",
    "outputId": "d9e38f1f-8d41-4f29-8288-c950e3772b02"
   },
   "outputs": [],
   "source": [
    "arr = np.array([[10,20,30],[40,50,60],[70,80,90]])"
   ]
  },
  {
   "cell_type": "code",
   "execution_count": 18,
   "id": "hungarian-vitamin",
   "metadata": {},
   "outputs": [
    {
     "name": "stdout",
     "output_type": "stream",
     "text": [
      "[10 20 30]\n"
     ]
    }
   ],
   "source": [
    "print(arr[0])"
   ]
  },
  {
   "cell_type": "code",
   "execution_count": 19,
   "id": "departmental-tourist",
   "metadata": {},
   "outputs": [
    {
     "name": "stdout",
     "output_type": "stream",
     "text": [
      "10\n"
     ]
    }
   ],
   "source": [
    "print(arr[0][0])"
   ]
  },
  {
   "cell_type": "code",
   "execution_count": 20,
   "id": "intimate-reconstruction",
   "metadata": {},
   "outputs": [
    {
     "name": "stdout",
     "output_type": "stream",
     "text": [
      "10\n"
     ]
    }
   ],
   "source": [
    "print(arr[0,0])"
   ]
  },
  {
   "cell_type": "code",
   "execution_count": 21,
   "id": "civilian-combining",
   "metadata": {},
   "outputs": [
    {
     "name": "stdout",
     "output_type": "stream",
     "text": [
      "[70 80 90]\n"
     ]
    }
   ],
   "source": [
    "print(arr[-1])"
   ]
  },
  {
   "cell_type": "code",
   "execution_count": 22,
   "id": "light-baseball",
   "metadata": {},
   "outputs": [
    {
     "name": "stdout",
     "output_type": "stream",
     "text": [
      "[[20 30]\n",
      " [50 60]\n",
      " [80 90]]\n"
     ]
    }
   ],
   "source": [
    "print(arr[:,1:3])"
   ]
  },
  {
   "cell_type": "code",
   "execution_count": 23,
   "id": "0d2388da",
   "metadata": {
    "id": "0d2388da",
    "outputId": "a3d36da0-ce53-45d7-b66c-3146ec5b375b"
   },
   "outputs": [
    {
     "name": "stdout",
     "output_type": "stream",
     "text": [
      "[20 40 70]\n"
     ]
    }
   ],
   "source": [
    "print(arr[[0,1,2],[1,0,0]])"
   ]
  },
  {
   "cell_type": "markdown",
   "id": "c5c5eb72",
   "metadata": {
    "id": "c5c5eb72"
   },
   "source": [
    "### `Boolean Indexing`"
   ]
  },
  {
   "cell_type": "markdown",
   "id": "eba41879",
   "metadata": {
    "id": "eba41879"
   },
   "source": [
    "### `np.where(  )`\n",
    "\n",
    "- Returns the index based on the boolean\n",
    "\n",
    "### `np.isnan()` \n",
    "- Returns the boolean of data == np.nan"
   ]
  },
  {
   "cell_type": "code",
   "execution_count": 74,
   "id": "aab86b24",
   "metadata": {
    "id": "aab86b24",
    "outputId": "b3e96af4-3072-4b01-fcde-61db6dc05e3b"
   },
   "outputs": [
    {
     "name": "stdout",
     "output_type": "stream",
     "text": [
      "[[ 2.  7.  8.  7.  5.]\n",
      " [ 1.  7. nan  1.  7.]\n",
      " [ 6.  4.  2.  7.  1.]\n",
      " [ 3.  3.  3.  6.  1.]\n",
      " [ 1.  8.  6. nan  7.]]\n"
     ]
    }
   ],
   "source": [
    "location = np.array([\"Mumbai\",\"Mumbai\",\"Delhi\",\"Chennai\",\"Bangalore\"]) #2 branches in Mumbai\n",
    "sales_data = np.random.randint(1,10,size=(5,5))\n",
    "sales_data = sales_data.astype(float)\n",
    "sales_data[[[1,4],[2,3]]] = np.nan\n",
    "print(sales_data)"
   ]
  },
  {
   "cell_type": "code",
   "execution_count": 75,
   "id": "caa4e65a",
   "metadata": {
    "id": "caa4e65a",
    "outputId": "46ad0cf3-73a1-4bd3-f5e6-03d2f6502376"
   },
   "outputs": [
    {
     "data": {
      "text/plain": [
       "array([[ 2.,  7.,  8.,  7.,  5.],\n",
       "       [ 1.,  7., nan,  1.,  7.]])"
      ]
     },
     "execution_count": 75,
     "metadata": {},
     "output_type": "execute_result"
    }
   ],
   "source": [
    "sales_data[location ==\"Mumbai\"]\n",
    "# depending on which index is True, it prints that row\n",
    "# In this case, mumbai is at index 2, therefore row no. 2 will be printed"
   ]
  },
  {
   "cell_type": "code",
   "execution_count": 76,
   "id": "75a1e3d8",
   "metadata": {
    "id": "75a1e3d8",
    "outputId": "5f73e76c-d247-4ede-bdc2-d6cca785180e"
   },
   "outputs": [
    {
     "data": {
      "text/plain": [
       "array([ True,  True, False, False, False])"
      ]
     },
     "execution_count": 76,
     "metadata": {},
     "output_type": "execute_result"
    }
   ],
   "source": [
    "(location ==\"Mumbai\")"
   ]
  },
  {
   "cell_type": "code",
   "execution_count": 77,
   "id": "brief-representative",
   "metadata": {},
   "outputs": [
    {
     "data": {
      "text/plain": [
       "(array([0, 1], dtype=int32),)"
      ]
     },
     "execution_count": 77,
     "metadata": {},
     "output_type": "execute_result"
    }
   ],
   "source": [
    "np.where(location == \"Mumbai\")"
   ]
  },
  {
   "cell_type": "code",
   "execution_count": 78,
   "id": "c8c7794e",
   "metadata": {
    "id": "c8c7794e",
    "outputId": "6fe6ca84-ed06-418c-c13f-17c1d06446d2"
   },
   "outputs": [
    {
     "data": {
      "text/plain": [
       "array([], shape=(0, 5), dtype=float64)"
      ]
     },
     "execution_count": 78,
     "metadata": {},
     "output_type": "execute_result"
    }
   ],
   "source": [
    "# if the match does not happen , then all values are false.\n",
    "sales_data[location ==\"Kolkata\"]\n",
    "# the o/p in such a case is indicating shape as(0 rows, 3 features)"
   ]
  },
  {
   "cell_type": "markdown",
   "id": "legislative-component",
   "metadata": {
    "id": "68e4e774"
   },
   "source": [
    "We can also use Boolean indexing for selecting some elements of an array that satisfy a\n",
    "particular condition. For example, in the previous array suppose we want to only select\n",
    "non-zero elements.\n",
    "We can do that easily using the following code."
   ]
  },
  {
   "cell_type": "code",
   "execution_count": 79,
   "id": "2031b785",
   "metadata": {
    "id": "2031b785",
    "outputId": "a5768bca-c6bb-414f-cc11-68f695b00bec"
   },
   "outputs": [
    {
     "data": {
      "text/plain": [
       "array([[False,  True,  True,  True,  True],\n",
       "       [False,  True, False, False,  True],\n",
       "       [ True, False, False,  True, False],\n",
       "       [False, False, False,  True, False],\n",
       "       [False,  True,  True, False,  True]])"
      ]
     },
     "execution_count": 79,
     "metadata": {},
     "output_type": "execute_result"
    }
   ],
   "source": [
    "sales_data >4"
   ]
  },
  {
   "cell_type": "markdown",
   "id": "martial-penguin",
   "metadata": {},
   "source": [
    "`np.nan==np.nan`"
   ]
  },
  {
   "cell_type": "code",
   "execution_count": 84,
   "id": "tamil-international",
   "metadata": {},
   "outputs": [
    {
     "data": {
      "text/plain": [
       "array([[False, False, False, False, False],\n",
       "       [False, False, False, False, False],\n",
       "       [False, False, False, False, False],\n",
       "       [False, False, False, False, False],\n",
       "       [False, False, False, False, False]])"
      ]
     },
     "execution_count": 84,
     "metadata": {},
     "output_type": "execute_result"
    }
   ],
   "source": [
    "np.isnan(sales_data)"
   ]
  },
  {
   "cell_type": "code",
   "execution_count": 80,
   "id": "perfect-escape",
   "metadata": {},
   "outputs": [
    {
     "data": {
      "text/plain": [
       "(array([1, 4], dtype=int32), array([2, 3], dtype=int32))"
      ]
     },
     "execution_count": 80,
     "metadata": {},
     "output_type": "execute_result"
    }
   ],
   "source": [
    "np.where(np.isnan(sales_data))"
   ]
  },
  {
   "cell_type": "code",
   "execution_count": 81,
   "id": "b541dfba",
   "metadata": {
    "id": "b541dfba"
   },
   "outputs": [
    {
     "data": {
      "text/plain": [
       "array([[2., 7., 8., 7., 5.],\n",
       "       [1., 7., 0., 1., 7.],\n",
       "       [6., 4., 2., 7., 1.],\n",
       "       [3., 3., 3., 6., 1.],\n",
       "       [1., 8., 6., 0., 7.]])"
      ]
     },
     "execution_count": 81,
     "metadata": {},
     "output_type": "execute_result"
    }
   ],
   "source": [
    "sales_data[np.isnan(sales_data)] = 0.0 # all nan values will be reset to 0\n",
    "sales_data"
   ]
  },
  {
   "cell_type": "markdown",
   "id": "696b7126",
   "metadata": {
    "id": "696b7126"
   },
   "source": [
    "###  `np.ndenumerate()`\n",
    "\n",
    "ndenumerate return the co-ordinates and corresponding values in the co-ordinates"
   ]
  },
  {
   "cell_type": "code",
   "execution_count": 86,
   "id": "606b9ad6",
   "metadata": {
    "id": "606b9ad6",
    "outputId": "0e800813-e5ad-44f2-be22-f66eb3438afc"
   },
   "outputs": [],
   "source": [
    "A = np.array([[11, 22, 23], [33, 43, 55]])"
   ]
  },
  {
   "cell_type": "code",
   "execution_count": 87,
   "id": "suffering-supervisor",
   "metadata": {},
   "outputs": [
    {
     "data": {
      "text/plain": [
       "<numpy.ndenumerate at 0xafecdc0>"
      ]
     },
     "execution_count": 87,
     "metadata": {},
     "output_type": "execute_result"
    }
   ],
   "source": [
    "np.ndenumerate(A)"
   ]
  },
  {
   "cell_type": "code",
   "execution_count": 88,
   "id": "broken-listing",
   "metadata": {},
   "outputs": [
    {
     "name": "stdout",
     "output_type": "stream",
     "text": [
      "(0, 0) 11\n",
      "(0, 1) 22\n",
      "(0, 2) 23\n",
      "(1, 0) 33\n",
      "(1, 1) 43\n",
      "(1, 2) 55\n"
     ]
    }
   ],
   "source": [
    "for index, x in np.ndenumerate(A):\n",
    "    print(index, x)"
   ]
  },
  {
   "cell_type": "markdown",
   "id": "a4e9695d",
   "metadata": {
    "id": "a4e9695d"
   },
   "source": [
    "## <font color=blue> Operations on Arrays\n"
   ]
  },
  {
   "cell_type": "code",
   "execution_count": 91,
   "id": "3cc79b8b",
   "metadata": {
    "id": "3cc79b8b",
    "outputId": "9d4d7b72-2c0b-45b0-b25a-640641a2aa93"
   },
   "outputs": [
    {
     "data": {
      "text/plain": [
       "array([[ 0,  1,  2],\n",
       "       [ 3,  4,  5],\n",
       "       [ 6,  7,  8],\n",
       "       [ 9, 10, 11],\n",
       "       [12, 13, 14]])"
      ]
     },
     "execution_count": 91,
     "metadata": {},
     "output_type": "execute_result"
    }
   ],
   "source": [
    "arr1 = np.arange(15).reshape(5,3)\n",
    "arr1"
   ]
  },
  {
   "cell_type": "code",
   "execution_count": 92,
   "id": "e84954a3",
   "metadata": {
    "id": "e84954a3",
    "outputId": "6a71c637-1955-422e-80a0-bd31a5cf8eab"
   },
   "outputs": [
    {
     "data": {
      "text/plain": [
       "array([[ 5,  6,  7],\n",
       "       [ 8,  9, 10],\n",
       "       [11, 12, 13],\n",
       "       [14, 15, 16],\n",
       "       [17, 18, 19]])"
      ]
     },
     "execution_count": 92,
     "metadata": {},
     "output_type": "execute_result"
    }
   ],
   "source": [
    "arr1 + 5 "
   ]
  },
  {
   "cell_type": "code",
   "execution_count": 93,
   "id": "686e1a4f",
   "metadata": {
    "id": "686e1a4f",
    "outputId": "dea39d89-364c-4730-e469-bc8f46cef419"
   },
   "outputs": [
    {
     "data": {
      "text/plain": [
       "array([[ 0,  2,  4],\n",
       "       [ 6,  8, 10],\n",
       "       [12, 14, 16],\n",
       "       [18, 20, 22],\n",
       "       [24, 26, 28]])"
      ]
     },
     "execution_count": 93,
     "metadata": {},
     "output_type": "execute_result"
    }
   ],
   "source": [
    "arr1 * 2"
   ]
  },
  {
   "cell_type": "code",
   "execution_count": 94,
   "id": "27750b63",
   "metadata": {
    "id": "27750b63",
    "outputId": "486dfb68-6c7f-4534-abd2-b72645088094"
   },
   "outputs": [
    {
     "name": "stdout",
     "output_type": "stream",
     "text": [
      "[[0]\n",
      " [1]\n",
      " [2]\n",
      " [3]\n",
      " [4]]\n"
     ]
    }
   ],
   "source": [
    "arr2 = np.arange(5).reshape(5,1) \n",
    "print(arr2)\n"
   ]
  },
  {
   "cell_type": "code",
   "execution_count": 95,
   "id": "according-queen",
   "metadata": {},
   "outputs": [
    {
     "name": "stdout",
     "output_type": "stream",
     "text": [
      "[[ 0  1  2]\n",
      " [ 4  5  6]\n",
      " [ 8  9 10]\n",
      " [12 13 14]\n",
      " [16 17 18]]\n"
     ]
    }
   ],
   "source": [
    "print(arr2 + arr1 ) # arr2[i] + arr1's entire row"
   ]
  },
  {
   "cell_type": "markdown",
   "id": "11d33899",
   "metadata": {
    "id": "11d33899"
   },
   "source": [
    "## <font color=blue>  Joining and Stacking\n",
    "\n",
    "- Vertical stacking (row wise) using `vstack()`\n",
    "- Horizontal stacking (column wise) using `hstack()`\n",
    "- Depth wise stacking (along third axis) using `dstack()`\n",
    "- `concatenate()` function creates a new array by appending arrays after each other, along a given axis\n",
    "- `append()` function appends an element to an array and creates a new copy of the array"
   ]
  },
  {
   "cell_type": "code",
   "execution_count": 97,
   "id": "14e09cc1",
   "metadata": {
    "id": "14e09cc1",
    "outputId": "a88250bc-ed1b-42ac-9976-c4ac06ab736c"
   },
   "outputs": [
    {
     "name": "stdout",
     "output_type": "stream",
     "text": [
      "[[0 1 2 3 4]\n",
      " [5 6 7 8 9]]\n",
      "------------------------------\n",
      "[[13 14 15 16 17]\n",
      " [18 19 20 21 22]]\n"
     ]
    }
   ],
   "source": [
    "import numpy as np\n",
    "\n",
    "\n",
    "array_1 = np.arange(10).reshape(2,5)\n",
    "print(array_1)\n",
    "\n",
    "print(\"-\"*30)\n",
    "\n",
    "array_2 = np.arange(13,23,1).reshape(2,5)\n",
    "print(array_2)"
   ]
  },
  {
   "cell_type": "code",
   "execution_count": 102,
   "id": "030dbf27",
   "metadata": {
    "id": "030dbf27",
    "outputId": "a9d76cb7-9d95-4e16-bba3-ee27e098f267"
   },
   "outputs": [
    {
     "name": "stdout",
     "output_type": "stream",
     "text": [
      "[[ 0  1  2  3  4]\n",
      " [ 5  6  7  8  9]\n",
      " [13 14 15 16 17]\n",
      " [18 19 20 21 22]]\n"
     ]
    }
   ],
   "source": [
    "array_vstack = np.vstack([array_1,array_2])\n",
    "print(array_vstack)"
   ]
  },
  {
   "cell_type": "code",
   "execution_count": 103,
   "id": "awful-shower",
   "metadata": {},
   "outputs": [
    {
     "name": "stdout",
     "output_type": "stream",
     "text": [
      "(4, 5)\n"
     ]
    }
   ],
   "source": [
    "print(array_vstack.shape)"
   ]
  },
  {
   "cell_type": "code",
   "execution_count": 104,
   "id": "34a940af",
   "metadata": {
    "id": "34a940af",
    "outputId": "5789f5c3-e8b3-4d1c-a95e-456bc5f35603"
   },
   "outputs": [
    {
     "name": "stdout",
     "output_type": "stream",
     "text": [
      "[[ 0  1  2  3  4 13 14 15 16 17]\n",
      " [ 5  6  7  8  9 18 19 20 21 22]]\n"
     ]
    }
   ],
   "source": [
    "array_hstack = np.hstack([array_1,array_2])\n",
    "print(array_hstack)"
   ]
  },
  {
   "cell_type": "code",
   "execution_count": 105,
   "id": "southern-spanish",
   "metadata": {},
   "outputs": [
    {
     "name": "stdout",
     "output_type": "stream",
     "text": [
      "(2, 10)\n"
     ]
    }
   ],
   "source": [
    "print(array_hstack.shape)"
   ]
  },
  {
   "cell_type": "code",
   "execution_count": 106,
   "id": "c516e09a",
   "metadata": {
    "id": "c516e09a",
    "outputId": "ce1eed04-6efc-40af-a22b-e5e4b1a74bc9"
   },
   "outputs": [
    {
     "name": "stdout",
     "output_type": "stream",
     "text": [
      "[[[ 0 13]\n",
      "  [ 1 14]\n",
      "  [ 2 15]\n",
      "  [ 3 16]\n",
      "  [ 4 17]]\n",
      "\n",
      " [[ 5 18]\n",
      "  [ 6 19]\n",
      "  [ 7 20]\n",
      "  [ 8 21]\n",
      "  [ 9 22]]]\n"
     ]
    }
   ],
   "source": [
    "array_dstack = np.dstack([array_1,array_2])\n",
    "print(array_dstack)"
   ]
  },
  {
   "cell_type": "code",
   "execution_count": 107,
   "id": "documented-thanksgiving",
   "metadata": {},
   "outputs": [
    {
     "name": "stdout",
     "output_type": "stream",
     "text": [
      "(2, 5, 2)\n"
     ]
    }
   ],
   "source": [
    "print(array_dstack.shape) # two sets of 5x2 matrices"
   ]
  },
  {
   "cell_type": "code",
   "execution_count": 108,
   "id": "bf8619ea",
   "metadata": {
    "id": "bf8619ea",
    "outputId": "bb96fc3f-6c9c-4b61-f561-5f3ae769f7f4",
    "scrolled": true
   },
   "outputs": [
    {
     "name": "stdout",
     "output_type": "stream",
     "text": [
      "[[ 0  1  2  3  4]\n",
      " [ 5  6  7  8  9]\n",
      " [13 14 15 16 17]\n",
      " [18 19 20 21 22]]\n"
     ]
    }
   ],
   "source": [
    "array_concatenate = np.concatenate([array_1,array_2])\n",
    "print(array_concatenate)"
   ]
  },
  {
   "cell_type": "code",
   "execution_count": 109,
   "id": "stuffed-bible",
   "metadata": {},
   "outputs": [
    {
     "name": "stdout",
     "output_type": "stream",
     "text": [
      "(4, 5)\n"
     ]
    }
   ],
   "source": [
    "print(array_concatenate.shape) # same as vstack"
   ]
  },
  {
   "cell_type": "code",
   "execution_count": 110,
   "id": "69829dd5",
   "metadata": {
    "id": "69829dd5",
    "outputId": "305dc7de-cfe0-446f-82f2-0b2f8971c638"
   },
   "outputs": [
    {
     "name": "stdout",
     "output_type": "stream",
     "text": [
      "[ 0  1  2  3  4  5  6  7  8  9 13 14 15 16 17 18 19 20 21 22]\n"
     ]
    }
   ],
   "source": [
    "array_append = np.append(array_1,array_2)\n",
    "print(array_append)"
   ]
  },
  {
   "cell_type": "code",
   "execution_count": 111,
   "id": "cooked-facial",
   "metadata": {},
   "outputs": [
    {
     "name": "stdout",
     "output_type": "stream",
     "text": [
      "(20,)\n"
     ]
    }
   ],
   "source": [
    "print(array_append.shape)"
   ]
  },
  {
   "cell_type": "code",
   "execution_count": 112,
   "id": "501e830c",
   "metadata": {
    "id": "501e830c",
    "outputId": "22814f7a-e2e0-4aba-c0a5-addbb303c431"
   },
   "outputs": [
    {
     "name": "stdout",
     "output_type": "stream",
     "text": [
      "[[ 0  1  2  3  4 13 14 15 16 17]\n",
      " [ 5  6  7  8  9 18 19 20 21 22]]\n"
     ]
    }
   ],
   "source": [
    "array_append = np.append(array_1,array_2,axis =1)\n",
    "print(array_append)"
   ]
  },
  {
   "cell_type": "code",
   "execution_count": 113,
   "id": "median-stylus",
   "metadata": {},
   "outputs": [
    {
     "name": "stdout",
     "output_type": "stream",
     "text": [
      "(2, 10)\n"
     ]
    }
   ],
   "source": [
    "print(array_append.shape)"
   ]
  },
  {
   "cell_type": "code",
   "execution_count": 114,
   "id": "135e989e",
   "metadata": {
    "id": "135e989e",
    "outputId": "dcce51ca-43cb-4212-889e-b9d1a17bffd5"
   },
   "outputs": [
    {
     "name": "stdout",
     "output_type": "stream",
     "text": [
      "[[ 0  1  2  3  4]\n",
      " [ 5  6  7  8  9]\n",
      " [13 14 15 16 17]\n",
      " [18 19 20 21 22]]\n"
     ]
    }
   ],
   "source": [
    "array_append = np.append(array_1,array_2,axis = 0)\n",
    "print(array_append)"
   ]
  },
  {
   "cell_type": "code",
   "execution_count": 115,
   "id": "handed-congo",
   "metadata": {},
   "outputs": [
    {
     "name": "stdout",
     "output_type": "stream",
     "text": [
      "(4, 5)\n"
     ]
    }
   ],
   "source": [
    "print(array_append.shape)"
   ]
  },
  {
   "cell_type": "markdown",
   "id": "68d5a607",
   "metadata": {
    "id": "68d5a607"
   },
   "source": [
    "## <font color=blue> Size of objects in Memory\n"
   ]
  },
  {
   "cell_type": "code",
   "execution_count": 116,
   "id": "cc078ada",
   "metadata": {
    "id": "cc078ada"
   },
   "outputs": [],
   "source": [
    "import sys"
   ]
  },
  {
   "cell_type": "code",
   "execution_count": 117,
   "id": "209b0daf",
   "metadata": {
    "id": "209b0daf",
    "outputId": "76fda4b1-81b0-409f-8a5f-dac60f68bf93"
   },
   "outputs": [
    {
     "data": {
      "text/plain": [
       "14"
      ]
     },
     "execution_count": 117,
     "metadata": {},
     "output_type": "execute_result"
    }
   ],
   "source": [
    "# An integer in Python is > 24bytes\n",
    "sys.getsizeof(1)"
   ]
  },
  {
   "cell_type": "code",
   "execution_count": 118,
   "id": "5e383f2d",
   "metadata": {
    "id": "5e383f2d",
    "outputId": "0c3ca2d3-a15b-40e3-8419-c396bb792e0a"
   },
   "outputs": [
    {
     "data": {
      "text/plain": [
       "14"
      ]
     },
     "execution_count": 118,
     "metadata": {},
     "output_type": "execute_result"
    }
   ],
   "source": [
    "sys.getsizeof(10)"
   ]
  },
  {
   "cell_type": "code",
   "execution_count": 119,
   "id": "6a896d65",
   "metadata": {
    "id": "6a896d65",
    "outputId": "3e5d98d0-1fea-47b5-ace5-2c0f0fc4f0a9"
   },
   "outputs": [
    {
     "data": {
      "text/plain": [
       "58"
      ]
     },
     "execution_count": 119,
     "metadata": {},
     "output_type": "execute_result"
    }
   ],
   "source": [
    "# Longs are even larger\n",
    "sys.getsizeof(10**100)"
   ]
  },
  {
   "cell_type": "code",
   "execution_count": 120,
   "id": "fed01ec0",
   "metadata": {
    "id": "fed01ec0",
    "outputId": "016effc9-6150-4fd0-98a1-edf6e436bc4f"
   },
   "outputs": [
    {
     "data": {
      "text/plain": [
       "4"
      ]
     },
     "execution_count": 120,
     "metadata": {},
     "output_type": "execute_result"
    }
   ],
   "source": [
    "# Numpy size is much smaller\n",
    "np.dtype(int).itemsize"
   ]
  },
  {
   "cell_type": "code",
   "execution_count": 121,
   "id": "d39fe9d9",
   "metadata": {
    "id": "d39fe9d9",
    "outputId": "425c07bd-7506-4d05-dd10-8a36d794320e"
   },
   "outputs": [
    {
     "data": {
      "text/plain": [
       "1"
      ]
     },
     "execution_count": 121,
     "metadata": {},
     "output_type": "execute_result"
    }
   ],
   "source": [
    "# Numpy size is much smaller\n",
    "np.dtype(np.int8).itemsize"
   ]
  },
  {
   "cell_type": "code",
   "execution_count": 130,
   "id": "3ac152a5",
   "metadata": {
    "id": "3ac152a5",
    "outputId": "1ec2de0e-d97b-41f8-8c10-4a681379cc50"
   },
   "outputs": [
    {
     "data": {
      "text/plain": [
       "8"
      ]
     },
     "execution_count": 130,
     "metadata": {},
     "output_type": "execute_result"
    }
   ],
   "source": [
    "np.dtype(float).itemsize"
   ]
  },
  {
   "cell_type": "markdown",
   "id": "9b52c4fd",
   "metadata": {
    "id": "9b52c4fd"
   },
   "source": [
    "#### Lists are even larger"
   ]
  },
  {
   "cell_type": "code",
   "execution_count": 124,
   "id": "d81f1845",
   "metadata": {
    "id": "d81f1845",
    "outputId": "15fab9a9-122d-4b91-9bf3-4fd6caf0d264"
   },
   "outputs": [
    {
     "data": {
      "text/plain": [
       "32"
      ]
     },
     "execution_count": 124,
     "metadata": {},
     "output_type": "execute_result"
    }
   ],
   "source": [
    "# A one-element list\n",
    "sys.getsizeof([1])"
   ]
  },
  {
   "cell_type": "code",
   "execution_count": 125,
   "id": "17a3ec9e",
   "metadata": {
    "id": "17a3ec9e",
    "outputId": "636098a1-ed70-4c75-a57a-01704ee1fc01"
   },
   "outputs": [
    {
     "data": {
      "text/plain": [
       "4"
      ]
     },
     "execution_count": 125,
     "metadata": {},
     "output_type": "execute_result"
    }
   ],
   "source": [
    "# An array of one element in numpy\n",
    "np.array([1]).nbytes"
   ]
  },
  {
   "cell_type": "markdown",
   "id": "c347fa4b",
   "metadata": {
    "id": "c347fa4b"
   },
   "source": [
    "#### And performance is also important\n"
   ]
  },
  {
   "cell_type": "code",
   "execution_count": 126,
   "id": "00d71aa9",
   "metadata": {
    "id": "00d71aa9",
    "outputId": "9d359cb5-c5fa-4bd8-8e65-626d521dfb2e"
   },
   "outputs": [
    {
     "data": {
      "text/plain": [
       "[0,\n",
       " 1,\n",
       " 2,\n",
       " 3,\n",
       " 4,\n",
       " 5,\n",
       " 6,\n",
       " 7,\n",
       " 8,\n",
       " 9,\n",
       " 10,\n",
       " 11,\n",
       " 12,\n",
       " 13,\n",
       " 14,\n",
       " 15,\n",
       " 16,\n",
       " 17,\n",
       " 18,\n",
       " 19,\n",
       " 20,\n",
       " 21,\n",
       " 22,\n",
       " 23,\n",
       " 24,\n",
       " 25,\n",
       " 26,\n",
       " 27,\n",
       " 28,\n",
       " 29,\n",
       " 30,\n",
       " 31,\n",
       " 32,\n",
       " 33,\n",
       " 34,\n",
       " 35,\n",
       " 36,\n",
       " 37,\n",
       " 38,\n",
       " 39,\n",
       " 40,\n",
       " 41,\n",
       " 42,\n",
       " 43,\n",
       " 44,\n",
       " 45,\n",
       " 46,\n",
       " 47,\n",
       " 48,\n",
       " 49,\n",
       " 50,\n",
       " 51,\n",
       " 52,\n",
       " 53,\n",
       " 54,\n",
       " 55,\n",
       " 56,\n",
       " 57,\n",
       " 58,\n",
       " 59,\n",
       " 60,\n",
       " 61,\n",
       " 62,\n",
       " 63,\n",
       " 64,\n",
       " 65,\n",
       " 66,\n",
       " 67,\n",
       " 68,\n",
       " 69,\n",
       " 70,\n",
       " 71,\n",
       " 72,\n",
       " 73,\n",
       " 74,\n",
       " 75,\n",
       " 76,\n",
       " 77,\n",
       " 78,\n",
       " 79,\n",
       " 80,\n",
       " 81,\n",
       " 82,\n",
       " 83,\n",
       " 84,\n",
       " 85,\n",
       " 86,\n",
       " 87,\n",
       " 88,\n",
       " 89,\n",
       " 90,\n",
       " 91,\n",
       " 92,\n",
       " 93,\n",
       " 94,\n",
       " 95,\n",
       " 96,\n",
       " 97,\n",
       " 98,\n",
       " 99,\n",
       " 100,\n",
       " 101,\n",
       " 102,\n",
       " 103,\n",
       " 104,\n",
       " 105,\n",
       " 106,\n",
       " 107,\n",
       " 108,\n",
       " 109,\n",
       " 110,\n",
       " 111,\n",
       " 112,\n",
       " 113,\n",
       " 114,\n",
       " 115,\n",
       " 116,\n",
       " 117,\n",
       " 118,\n",
       " 119,\n",
       " 120,\n",
       " 121,\n",
       " 122,\n",
       " 123,\n",
       " 124,\n",
       " 125,\n",
       " 126,\n",
       " 127,\n",
       " 128,\n",
       " 129,\n",
       " 130,\n",
       " 131,\n",
       " 132,\n",
       " 133,\n",
       " 134,\n",
       " 135,\n",
       " 136,\n",
       " 137,\n",
       " 138,\n",
       " 139,\n",
       " 140,\n",
       " 141,\n",
       " 142,\n",
       " 143,\n",
       " 144,\n",
       " 145,\n",
       " 146,\n",
       " 147,\n",
       " 148,\n",
       " 149,\n",
       " 150,\n",
       " 151,\n",
       " 152,\n",
       " 153,\n",
       " 154,\n",
       " 155,\n",
       " 156,\n",
       " 157,\n",
       " 158,\n",
       " 159,\n",
       " 160,\n",
       " 161,\n",
       " 162,\n",
       " 163,\n",
       " 164,\n",
       " 165,\n",
       " 166,\n",
       " 167,\n",
       " 168,\n",
       " 169,\n",
       " 170,\n",
       " 171,\n",
       " 172,\n",
       " 173,\n",
       " 174,\n",
       " 175,\n",
       " 176,\n",
       " 177,\n",
       " 178,\n",
       " 179,\n",
       " 180,\n",
       " 181,\n",
       " 182,\n",
       " 183,\n",
       " 184,\n",
       " 185,\n",
       " 186,\n",
       " 187,\n",
       " 188,\n",
       " 189,\n",
       " 190,\n",
       " 191,\n",
       " 192,\n",
       " 193,\n",
       " 194,\n",
       " 195,\n",
       " 196,\n",
       " 197,\n",
       " 198,\n",
       " 199,\n",
       " 200,\n",
       " 201,\n",
       " 202,\n",
       " 203,\n",
       " 204,\n",
       " 205,\n",
       " 206,\n",
       " 207,\n",
       " 208,\n",
       " 209,\n",
       " 210,\n",
       " 211,\n",
       " 212,\n",
       " 213,\n",
       " 214,\n",
       " 215,\n",
       " 216,\n",
       " 217,\n",
       " 218,\n",
       " 219,\n",
       " 220,\n",
       " 221,\n",
       " 222,\n",
       " 223,\n",
       " 224,\n",
       " 225,\n",
       " 226,\n",
       " 227,\n",
       " 228,\n",
       " 229,\n",
       " 230,\n",
       " 231,\n",
       " 232,\n",
       " 233,\n",
       " 234,\n",
       " 235,\n",
       " 236,\n",
       " 237,\n",
       " 238,\n",
       " 239,\n",
       " 240,\n",
       " 241,\n",
       " 242,\n",
       " 243,\n",
       " 244,\n",
       " 245,\n",
       " 246,\n",
       " 247,\n",
       " 248,\n",
       " 249,\n",
       " 250,\n",
       " 251,\n",
       " 252,\n",
       " 253,\n",
       " 254,\n",
       " 255,\n",
       " 256,\n",
       " 257,\n",
       " 258,\n",
       " 259,\n",
       " 260,\n",
       " 261,\n",
       " 262,\n",
       " 263,\n",
       " 264,\n",
       " 265,\n",
       " 266,\n",
       " 267,\n",
       " 268,\n",
       " 269,\n",
       " 270,\n",
       " 271,\n",
       " 272,\n",
       " 273,\n",
       " 274,\n",
       " 275,\n",
       " 276,\n",
       " 277,\n",
       " 278,\n",
       " 279,\n",
       " 280,\n",
       " 281,\n",
       " 282,\n",
       " 283,\n",
       " 284,\n",
       " 285,\n",
       " 286,\n",
       " 287,\n",
       " 288,\n",
       " 289,\n",
       " 290,\n",
       " 291,\n",
       " 292,\n",
       " 293,\n",
       " 294,\n",
       " 295,\n",
       " 296,\n",
       " 297,\n",
       " 298,\n",
       " 299,\n",
       " 300,\n",
       " 301,\n",
       " 302,\n",
       " 303,\n",
       " 304,\n",
       " 305,\n",
       " 306,\n",
       " 307,\n",
       " 308,\n",
       " 309,\n",
       " 310,\n",
       " 311,\n",
       " 312,\n",
       " 313,\n",
       " 314,\n",
       " 315,\n",
       " 316,\n",
       " 317,\n",
       " 318,\n",
       " 319,\n",
       " 320,\n",
       " 321,\n",
       " 322,\n",
       " 323,\n",
       " 324,\n",
       " 325,\n",
       " 326,\n",
       " 327,\n",
       " 328,\n",
       " 329,\n",
       " 330,\n",
       " 331,\n",
       " 332,\n",
       " 333,\n",
       " 334,\n",
       " 335,\n",
       " 336,\n",
       " 337,\n",
       " 338,\n",
       " 339,\n",
       " 340,\n",
       " 341,\n",
       " 342,\n",
       " 343,\n",
       " 344,\n",
       " 345,\n",
       " 346,\n",
       " 347,\n",
       " 348,\n",
       " 349,\n",
       " 350,\n",
       " 351,\n",
       " 352,\n",
       " 353,\n",
       " 354,\n",
       " 355,\n",
       " 356,\n",
       " 357,\n",
       " 358,\n",
       " 359,\n",
       " 360,\n",
       " 361,\n",
       " 362,\n",
       " 363,\n",
       " 364,\n",
       " 365,\n",
       " 366,\n",
       " 367,\n",
       " 368,\n",
       " 369,\n",
       " 370,\n",
       " 371,\n",
       " 372,\n",
       " 373,\n",
       " 374,\n",
       " 375,\n",
       " 376,\n",
       " 377,\n",
       " 378,\n",
       " 379,\n",
       " 380,\n",
       " 381,\n",
       " 382,\n",
       " 383,\n",
       " 384,\n",
       " 385,\n",
       " 386,\n",
       " 387,\n",
       " 388,\n",
       " 389,\n",
       " 390,\n",
       " 391,\n",
       " 392,\n",
       " 393,\n",
       " 394,\n",
       " 395,\n",
       " 396,\n",
       " 397,\n",
       " 398,\n",
       " 399,\n",
       " 400,\n",
       " 401,\n",
       " 402,\n",
       " 403,\n",
       " 404,\n",
       " 405,\n",
       " 406,\n",
       " 407,\n",
       " 408,\n",
       " 409,\n",
       " 410,\n",
       " 411,\n",
       " 412,\n",
       " 413,\n",
       " 414,\n",
       " 415,\n",
       " 416,\n",
       " 417,\n",
       " 418,\n",
       " 419,\n",
       " 420,\n",
       " 421,\n",
       " 422,\n",
       " 423,\n",
       " 424,\n",
       " 425,\n",
       " 426,\n",
       " 427,\n",
       " 428,\n",
       " 429,\n",
       " 430,\n",
       " 431,\n",
       " 432,\n",
       " 433,\n",
       " 434,\n",
       " 435,\n",
       " 436,\n",
       " 437,\n",
       " 438,\n",
       " 439,\n",
       " 440,\n",
       " 441,\n",
       " 442,\n",
       " 443,\n",
       " 444,\n",
       " 445,\n",
       " 446,\n",
       " 447,\n",
       " 448,\n",
       " 449,\n",
       " 450,\n",
       " 451,\n",
       " 452,\n",
       " 453,\n",
       " 454,\n",
       " 455,\n",
       " 456,\n",
       " 457,\n",
       " 458,\n",
       " 459,\n",
       " 460,\n",
       " 461,\n",
       " 462,\n",
       " 463,\n",
       " 464,\n",
       " 465,\n",
       " 466,\n",
       " 467,\n",
       " 468,\n",
       " 469,\n",
       " 470,\n",
       " 471,\n",
       " 472,\n",
       " 473,\n",
       " 474,\n",
       " 475,\n",
       " 476,\n",
       " 477,\n",
       " 478,\n",
       " 479,\n",
       " 480,\n",
       " 481,\n",
       " 482,\n",
       " 483,\n",
       " 484,\n",
       " 485,\n",
       " 486,\n",
       " 487,\n",
       " 488,\n",
       " 489,\n",
       " 490,\n",
       " 491,\n",
       " 492,\n",
       " 493,\n",
       " 494,\n",
       " 495,\n",
       " 496,\n",
       " 497,\n",
       " 498,\n",
       " 499,\n",
       " 500,\n",
       " 501,\n",
       " 502,\n",
       " 503,\n",
       " 504,\n",
       " 505,\n",
       " 506,\n",
       " 507,\n",
       " 508,\n",
       " 509,\n",
       " 510,\n",
       " 511,\n",
       " 512,\n",
       " 513,\n",
       " 514,\n",
       " 515,\n",
       " 516,\n",
       " 517,\n",
       " 518,\n",
       " 519,\n",
       " 520,\n",
       " 521,\n",
       " 522,\n",
       " 523,\n",
       " 524,\n",
       " 525,\n",
       " 526,\n",
       " 527,\n",
       " 528,\n",
       " 529,\n",
       " 530,\n",
       " 531,\n",
       " 532,\n",
       " 533,\n",
       " 534,\n",
       " 535,\n",
       " 536,\n",
       " 537,\n",
       " 538,\n",
       " 539,\n",
       " 540,\n",
       " 541,\n",
       " 542,\n",
       " 543,\n",
       " 544,\n",
       " 545,\n",
       " 546,\n",
       " 547,\n",
       " 548,\n",
       " 549,\n",
       " 550,\n",
       " 551,\n",
       " 552,\n",
       " 553,\n",
       " 554,\n",
       " 555,\n",
       " 556,\n",
       " 557,\n",
       " 558,\n",
       " 559,\n",
       " 560,\n",
       " 561,\n",
       " 562,\n",
       " 563,\n",
       " 564,\n",
       " 565,\n",
       " 566,\n",
       " 567,\n",
       " 568,\n",
       " 569,\n",
       " 570,\n",
       " 571,\n",
       " 572,\n",
       " 573,\n",
       " 574,\n",
       " 575,\n",
       " 576,\n",
       " 577,\n",
       " 578,\n",
       " 579,\n",
       " 580,\n",
       " 581,\n",
       " 582,\n",
       " 583,\n",
       " 584,\n",
       " 585,\n",
       " 586,\n",
       " 587,\n",
       " 588,\n",
       " 589,\n",
       " 590,\n",
       " 591,\n",
       " 592,\n",
       " 593,\n",
       " 594,\n",
       " 595,\n",
       " 596,\n",
       " 597,\n",
       " 598,\n",
       " 599,\n",
       " 600,\n",
       " 601,\n",
       " 602,\n",
       " 603,\n",
       " 604,\n",
       " 605,\n",
       " 606,\n",
       " 607,\n",
       " 608,\n",
       " 609,\n",
       " 610,\n",
       " 611,\n",
       " 612,\n",
       " 613,\n",
       " 614,\n",
       " 615,\n",
       " 616,\n",
       " 617,\n",
       " 618,\n",
       " 619,\n",
       " 620,\n",
       " 621,\n",
       " 622,\n",
       " 623,\n",
       " 624,\n",
       " 625,\n",
       " 626,\n",
       " 627,\n",
       " 628,\n",
       " 629,\n",
       " 630,\n",
       " 631,\n",
       " 632,\n",
       " 633,\n",
       " 634,\n",
       " 635,\n",
       " 636,\n",
       " 637,\n",
       " 638,\n",
       " 639,\n",
       " 640,\n",
       " 641,\n",
       " 642,\n",
       " 643,\n",
       " 644,\n",
       " 645,\n",
       " 646,\n",
       " 647,\n",
       " 648,\n",
       " 649,\n",
       " 650,\n",
       " 651,\n",
       " 652,\n",
       " 653,\n",
       " 654,\n",
       " 655,\n",
       " 656,\n",
       " 657,\n",
       " 658,\n",
       " 659,\n",
       " 660,\n",
       " 661,\n",
       " 662,\n",
       " 663,\n",
       " 664,\n",
       " 665,\n",
       " 666,\n",
       " 667,\n",
       " 668,\n",
       " 669,\n",
       " 670,\n",
       " 671,\n",
       " 672,\n",
       " 673,\n",
       " 674,\n",
       " 675,\n",
       " 676,\n",
       " 677,\n",
       " 678,\n",
       " 679,\n",
       " 680,\n",
       " 681,\n",
       " 682,\n",
       " 683,\n",
       " 684,\n",
       " 685,\n",
       " 686,\n",
       " 687,\n",
       " 688,\n",
       " 689,\n",
       " 690,\n",
       " 691,\n",
       " 692,\n",
       " 693,\n",
       " 694,\n",
       " 695,\n",
       " 696,\n",
       " 697,\n",
       " 698,\n",
       " 699,\n",
       " 700,\n",
       " 701,\n",
       " 702,\n",
       " 703,\n",
       " 704,\n",
       " 705,\n",
       " 706,\n",
       " 707,\n",
       " 708,\n",
       " 709,\n",
       " 710,\n",
       " 711,\n",
       " 712,\n",
       " 713,\n",
       " 714,\n",
       " 715,\n",
       " 716,\n",
       " 717,\n",
       " 718,\n",
       " 719,\n",
       " 720,\n",
       " 721,\n",
       " 722,\n",
       " 723,\n",
       " 724,\n",
       " 725,\n",
       " 726,\n",
       " 727,\n",
       " 728,\n",
       " 729,\n",
       " 730,\n",
       " 731,\n",
       " 732,\n",
       " 733,\n",
       " 734,\n",
       " 735,\n",
       " 736,\n",
       " 737,\n",
       " 738,\n",
       " 739,\n",
       " 740,\n",
       " 741,\n",
       " 742,\n",
       " 743,\n",
       " 744,\n",
       " 745,\n",
       " 746,\n",
       " 747,\n",
       " 748,\n",
       " 749,\n",
       " 750,\n",
       " 751,\n",
       " 752,\n",
       " 753,\n",
       " 754,\n",
       " 755,\n",
       " 756,\n",
       " 757,\n",
       " 758,\n",
       " 759,\n",
       " 760,\n",
       " 761,\n",
       " 762,\n",
       " 763,\n",
       " 764,\n",
       " 765,\n",
       " 766,\n",
       " 767,\n",
       " 768,\n",
       " 769,\n",
       " 770,\n",
       " 771,\n",
       " 772,\n",
       " 773,\n",
       " 774,\n",
       " 775,\n",
       " 776,\n",
       " 777,\n",
       " 778,\n",
       " 779,\n",
       " 780,\n",
       " 781,\n",
       " 782,\n",
       " 783,\n",
       " 784,\n",
       " 785,\n",
       " 786,\n",
       " 787,\n",
       " 788,\n",
       " 789,\n",
       " 790,\n",
       " 791,\n",
       " 792,\n",
       " 793,\n",
       " 794,\n",
       " 795,\n",
       " 796,\n",
       " 797,\n",
       " 798,\n",
       " 799,\n",
       " 800,\n",
       " 801,\n",
       " 802,\n",
       " 803,\n",
       " 804,\n",
       " 805,\n",
       " 806,\n",
       " 807,\n",
       " 808,\n",
       " 809,\n",
       " 810,\n",
       " 811,\n",
       " 812,\n",
       " 813,\n",
       " 814,\n",
       " 815,\n",
       " 816,\n",
       " 817,\n",
       " 818,\n",
       " 819,\n",
       " 820,\n",
       " 821,\n",
       " 822,\n",
       " 823,\n",
       " 824,\n",
       " 825,\n",
       " 826,\n",
       " 827,\n",
       " 828,\n",
       " 829,\n",
       " 830,\n",
       " 831,\n",
       " 832,\n",
       " 833,\n",
       " 834,\n",
       " 835,\n",
       " 836,\n",
       " 837,\n",
       " 838,\n",
       " 839,\n",
       " 840,\n",
       " 841,\n",
       " 842,\n",
       " 843,\n",
       " 844,\n",
       " 845,\n",
       " 846,\n",
       " 847,\n",
       " 848,\n",
       " 849,\n",
       " 850,\n",
       " 851,\n",
       " 852,\n",
       " 853,\n",
       " 854,\n",
       " 855,\n",
       " 856,\n",
       " 857,\n",
       " 858,\n",
       " 859,\n",
       " 860,\n",
       " 861,\n",
       " 862,\n",
       " 863,\n",
       " 864,\n",
       " 865,\n",
       " 866,\n",
       " 867,\n",
       " 868,\n",
       " 869,\n",
       " 870,\n",
       " 871,\n",
       " 872,\n",
       " 873,\n",
       " 874,\n",
       " 875,\n",
       " 876,\n",
       " 877,\n",
       " 878,\n",
       " 879,\n",
       " 880,\n",
       " 881,\n",
       " 882,\n",
       " 883,\n",
       " 884,\n",
       " 885,\n",
       " 886,\n",
       " 887,\n",
       " 888,\n",
       " 889,\n",
       " 890,\n",
       " 891,\n",
       " 892,\n",
       " 893,\n",
       " 894,\n",
       " 895,\n",
       " 896,\n",
       " 897,\n",
       " 898,\n",
       " 899,\n",
       " 900,\n",
       " 901,\n",
       " 902,\n",
       " 903,\n",
       " 904,\n",
       " 905,\n",
       " 906,\n",
       " 907,\n",
       " 908,\n",
       " 909,\n",
       " 910,\n",
       " 911,\n",
       " 912,\n",
       " 913,\n",
       " 914,\n",
       " 915,\n",
       " 916,\n",
       " 917,\n",
       " 918,\n",
       " 919,\n",
       " 920,\n",
       " 921,\n",
       " 922,\n",
       " 923,\n",
       " 924,\n",
       " 925,\n",
       " 926,\n",
       " 927,\n",
       " 928,\n",
       " 929,\n",
       " 930,\n",
       " 931,\n",
       " 932,\n",
       " 933,\n",
       " 934,\n",
       " 935,\n",
       " 936,\n",
       " 937,\n",
       " 938,\n",
       " 939,\n",
       " 940,\n",
       " 941,\n",
       " 942,\n",
       " 943,\n",
       " 944,\n",
       " 945,\n",
       " 946,\n",
       " 947,\n",
       " 948,\n",
       " 949,\n",
       " 950,\n",
       " 951,\n",
       " 952,\n",
       " 953,\n",
       " 954,\n",
       " 955,\n",
       " 956,\n",
       " 957,\n",
       " 958,\n",
       " 959,\n",
       " 960,\n",
       " 961,\n",
       " 962,\n",
       " 963,\n",
       " 964,\n",
       " 965,\n",
       " 966,\n",
       " 967,\n",
       " 968,\n",
       " 969,\n",
       " 970,\n",
       " 971,\n",
       " 972,\n",
       " 973,\n",
       " 974,\n",
       " 975,\n",
       " 976,\n",
       " 977,\n",
       " 978,\n",
       " 979,\n",
       " 980,\n",
       " 981,\n",
       " 982,\n",
       " 983,\n",
       " 984,\n",
       " 985,\n",
       " 986,\n",
       " 987,\n",
       " 988,\n",
       " 989,\n",
       " 990,\n",
       " 991,\n",
       " 992,\n",
       " 993,\n",
       " 994,\n",
       " 995,\n",
       " 996,\n",
       " 997,\n",
       " 998,\n",
       " 999,\n",
       " ...]"
      ]
     },
     "execution_count": 126,
     "metadata": {},
     "output_type": "execute_result"
    }
   ],
   "source": [
    "l = list(range(100000))\n",
    "l"
   ]
  },
  {
   "cell_type": "code",
   "execution_count": 127,
   "id": "64881316",
   "metadata": {
    "id": "64881316",
    "outputId": "c999f126-9919-4343-edfb-0599fa15b856"
   },
   "outputs": [
    {
     "data": {
      "text/plain": [
       "array([    0,     1,     2, ..., 99997, 99998, 99999])"
      ]
     },
     "execution_count": 127,
     "metadata": {},
     "output_type": "execute_result"
    }
   ],
   "source": [
    "import numpy as np\n",
    "a = np.arange(100000)\n",
    "a"
   ]
  },
  {
   "cell_type": "code",
   "execution_count": 128,
   "id": "7d3d15af",
   "metadata": {
    "id": "7d3d15af",
    "outputId": "283e9e66-986b-4722-a993-00a8cd8b1650"
   },
   "outputs": [
    {
     "name": "stdout",
     "output_type": "stream",
     "text": [
      "Wall time: 997 µs\n"
     ]
    },
    {
     "data": {
      "text/plain": [
       "216474736"
      ]
     },
     "execution_count": 128,
     "metadata": {},
     "output_type": "execute_result"
    }
   ],
   "source": [
    "%time np.sum(a ** 2) # Numpy is much faster"
   ]
  },
  {
   "cell_type": "code",
   "execution_count": 129,
   "id": "f126eb38",
   "metadata": {
    "id": "f126eb38",
    "outputId": "5647d34b-6f7e-4b31-cfbb-aeaced47fd6e"
   },
   "outputs": [
    {
     "name": "stdout",
     "output_type": "stream",
     "text": [
      "Wall time: 46.9 ms\n"
     ]
    },
    {
     "data": {
      "text/plain": [
       "333328333350000"
      ]
     },
     "execution_count": 129,
     "metadata": {},
     "output_type": "execute_result"
    }
   ],
   "source": [
    "%time sum([x ** 2 for x in l])"
   ]
  },
  {
   "cell_type": "markdown",
   "id": "72b58005",
   "metadata": {
    "id": "72b58005"
   },
   "source": [
    "## <font color = blue> Sorting</font>\n",
    "\n",
    "### `np.sort()`"
   ]
  },
  {
   "cell_type": "code",
   "execution_count": null,
   "id": "ef0e98ef",
   "metadata": {
    "id": "ef0e98ef",
    "outputId": "9028e7fd-468d-4a98-ab7d-4c7daffff98e"
   },
   "outputs": [
    {
     "data": {
      "text/plain": [
       "array([[2, 2, 5, 6],\n",
       "       [4, 2, 4, 2],\n",
       "       [2, 4, 1, 2],\n",
       "       [4, 6, 5, 3],\n",
       "       [2, 1, 3, 1],\n",
       "       [5, 5, 4, 4],\n",
       "       [2, 6, 6, 5],\n",
       "       [6, 5, 3, 1]])"
      ]
     },
     "execution_count": 113,
     "metadata": {},
     "output_type": "execute_result"
    }
   ],
   "source": [
    "arr = np.random.randint(1,7, size=[8, 4])\n",
    "arr"
   ]
  },
  {
   "cell_type": "markdown",
   "id": "demographic-search",
   "metadata": {
    "id": "cae969d1"
   },
   "source": [
    "We have a random array of 8 rows and 4 columns.\n",
    "\n",
    "If you use the np.sort function with axis=0, all the columns will be sorted in ascending order independent of eachother, effectively compromising the integrity of the row items. In simple terms, the values in each row gets corrupted with values from other rows."
   ]
  },
  {
   "cell_type": "code",
   "execution_count": null,
   "id": "f135e046",
   "metadata": {
    "id": "f135e046",
    "outputId": "bb586608-8833-42cf-c155-62e23f1d8f1c"
   },
   "outputs": [
    {
     "data": {
      "text/plain": [
       "array([[2, 1, 1, 1],\n",
       "       [2, 2, 3, 1],\n",
       "       [2, 2, 3, 2],\n",
       "       [2, 4, 4, 2],\n",
       "       [4, 5, 4, 3],\n",
       "       [4, 5, 5, 4],\n",
       "       [5, 6, 5, 5],\n",
       "       [6, 6, 6, 6]])"
      ]
     },
     "execution_count": 114,
     "metadata": {},
     "output_type": "execute_result"
    }
   ],
   "source": [
    "# Sort each columns of arr\n",
    "np.sort(arr, axis=0)"
   ]
  },
  {
   "cell_type": "markdown",
   "id": "known-transcript",
   "metadata": {
    "id": "6c36aca7"
   },
   "source": [
    "Since I don’t want the content of rows to be disturbed, I resort to an indirect method using np.argsort."
   ]
  },
  {
   "cell_type": "markdown",
   "id": "8ecbb474",
   "metadata": {
    "id": "8ecbb474"
   },
   "source": [
    "### `np.argsort()`"
   ]
  },
  {
   "cell_type": "markdown",
   "id": "military-moore",
   "metadata": {
    "id": "afafacd3"
   },
   "source": [
    "Let’s first understand what np.argsort does.\n",
    "\n",
    "np.argsort returns the index positions of that would make a given 1d array sorted.\n",
    "\n"
   ]
  },
  {
   "cell_type": "code",
   "execution_count": 132,
   "id": "783c2927",
   "metadata": {
    "id": "783c2927",
    "outputId": "149aa002-5003-43bf-e8c9-85d519dca2a9"
   },
   "outputs": [
    {
     "name": "stdout",
     "output_type": "stream",
     "text": [
      "[0 3 2 4 5 1]\n"
     ]
    }
   ],
   "source": [
    "# Get the index positions that would sort the array\n",
    "x = np.array([1, 10, 5, 2, 8, 9])\n",
    "sort_index = np.argsort(x)\n",
    "print(sort_index)"
   ]
  },
  {
   "cell_type": "markdown",
   "id": "distinct-remove",
   "metadata": {
    "id": "28fc50b6"
   },
   "source": [
    "How to interpret this?\n",
    "\n",
    "In array ‘x’, the 0th item is the smallest, 3rd item is the second smallest and so on."
   ]
  },
  {
   "cell_type": "code",
   "execution_count": 133,
   "id": "765cd6bc",
   "metadata": {
    "id": "765cd6bc",
    "outputId": "1baabfd9-6e19-43f6-85f7-dacfded94f0e"
   },
   "outputs": [
    {
     "data": {
      "text/plain": [
       "array([ 1,  2,  5,  8,  9, 10])"
      ]
     },
     "execution_count": 133,
     "metadata": {},
     "output_type": "execute_result"
    }
   ],
   "source": [
    "x[sort_index]"
   ]
  },
  {
   "cell_type": "markdown",
   "id": "billion-synthetic",
   "metadata": {
    "id": "f874d1c3"
   },
   "source": [
    "Now, in order to sort the original arr, I am going to do an argsort on the 1st column and use the resulting index positions to sort arr. See the code."
   ]
  },
  {
   "cell_type": "code",
   "execution_count": 134,
   "id": "553d1e9f",
   "metadata": {
    "id": "553d1e9f",
    "outputId": "75a30f9f-6892-459a-83b7-c5c6de1d3749"
   },
   "outputs": [
    {
     "data": {
      "text/plain": [
       "array([[10, 20, 30],\n",
       "       [40, 50, 60],\n",
       "       [70, 80, 90]])"
      ]
     },
     "execution_count": 134,
     "metadata": {},
     "output_type": "execute_result"
    }
   ],
   "source": [
    "# Argsort the first column\n",
    "sorted_index_1stcol = arr[:, 0].argsort()\n",
    "\n",
    "# Sort 'arr' by first column without disturbing the integrity of rows\n",
    "arr[sorted_index_1stcol]\n"
   ]
  },
  {
   "cell_type": "markdown",
   "id": "rolled-number",
   "metadata": {
    "id": "0fce2233"
   },
   "source": [
    "To sort it in decreasing order, simply reverse the argsorted index."
   ]
  },
  {
   "cell_type": "code",
   "execution_count": 136,
   "id": "f3424bf3",
   "metadata": {
    "id": "f3424bf3",
    "outputId": "144e8bca-7a43-425c-d35e-7e784ec51de5"
   },
   "outputs": [
    {
     "data": {
      "text/plain": [
       "array([[70, 80, 90],\n",
       "       [40, 50, 60],\n",
       "       [10, 20, 30]])"
      ]
     },
     "execution_count": 136,
     "metadata": {},
     "output_type": "execute_result"
    }
   ],
   "source": [
    "# Descending sort\n",
    "arr[sorted_index_1stcol[::-1]]"
   ]
  },
  {
   "cell_type": "markdown",
   "id": "abc6f1ab",
   "metadata": {
    "id": "abc6f1ab"
   },
   "source": [
    "### `np.lexsort()`"
   ]
  },
  {
   "cell_type": "code",
   "execution_count": null,
   "id": "19f09f45",
   "metadata": {
    "id": "19f09f45",
    "outputId": "b5926796-6132-4a68-d837-37b3db99c394"
   },
   "outputs": [
    {
     "data": {
      "text/plain": [
       "array([[2, 1, 3, 1],\n",
       "       [2, 2, 5, 6],\n",
       "       [2, 4, 1, 2],\n",
       "       [2, 6, 6, 5],\n",
       "       [4, 2, 4, 2],\n",
       "       [4, 6, 5, 3],\n",
       "       [5, 5, 4, 4],\n",
       "       [6, 5, 3, 1]])"
      ]
     },
     "execution_count": 119,
     "metadata": {},
     "output_type": "execute_result"
    }
   ],
   "source": [
    "# Sort by column 0, then by column 1\n",
    "lexsorted_index = np.lexsort((arr[:, 1], arr[:, 0])) \n",
    "arr[lexsorted_index]"
   ]
  }
 ],
 "metadata": {
  "colab": {
   "name": "Darshan - Numpy.ipynb",
   "provenance": []
  },
  "kernelspec": {
   "display_name": "Python 3",
   "language": "python",
   "name": "python3"
  },
  "language_info": {
   "codemirror_mode": {
    "name": "ipython",
    "version": 3
   },
   "file_extension": ".py",
   "mimetype": "text/x-python",
   "name": "python",
   "nbconvert_exporter": "python",
   "pygments_lexer": "ipython3",
   "version": "3.8.2"
  }
 },
 "nbformat": 4,
 "nbformat_minor": 5
}
