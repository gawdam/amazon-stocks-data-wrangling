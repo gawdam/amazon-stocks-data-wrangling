{
 "cells": [
  {
   "cell_type": "code",
   "execution_count": null,
   "id": "b4970212",
   "metadata": {
    "id": "b4970212"
   },
   "outputs": [],
   "source": [
    "import numpy as np\n",
    "import warnings\n",
    "warnings.filterwarnings(\"ignore\")"
   ]
  },
  {
   "cell_type": "markdown",
   "id": "6f99c2cc",
   "metadata": {
    "id": "6f99c2cc"
   },
   "source": [
    "# What is NumPy?\n",
    "\n",
    "NumPy is an open-source, versatile general-purpose package used for array-processing. It is short of Numerical Python. It is known for its high-end performance with powerful N-dimensional array objects and the tools it is loaded with to work with arrays. The package is an extension of Python and is used to perform scientific computations and other broadcasting functions.\n",
    "\n",
    "NumPy is easy to use, well-optimized and highly flexible. \n",
    "\n",
    "It is the backbone of Machine Learning in Python. It is one of the most important libraries in Python for numerical computations.\n",
    "\n",
    "It adds support to core Python for multi-dimensional arrays and matrices and fast vectorized operations on these arrays."
   ]
  },
  {
   "cell_type": "markdown",
   "id": "a4ee88bf",
   "metadata": {
    "id": "a4ee88bf"
   },
   "source": [
    "# What are the uses of NumPy?\n",
    "\n",
    "The open-source numerical library on Python supports multi-dimensional arrays and contains matrix data structures. Different types of mathematical operations can be performed on arrays using NumPy. This includes trigonometric operations as well as statistical and algebraic computations. Numeric and Numarray are extensions of NumPy. "
   ]
  },
  {
   "cell_type": "markdown",
   "id": "bda2df07",
   "metadata": {
    "id": "bda2df07"
   },
   "source": [
    "# Why is NumPy preferred to other programming tools such as Idl, Matlab, Octave, Or Yorick?\n",
    "\n",
    "NumPy is a high-performance library in the Python programming language that allows scientific calculations. It is preferred to Idl, Matlab, Octave, Or Yorick because it is open-source and free. Also, since it uses Python which is a general-purpose programming language, it scores over a generic programming language when it comes to connecting Python’s interpreter to C/C++ and Fortran code. \n",
    "\n",
    "NumPy supports multi-dimensional arrays and matrices and helps to perform complex mathematical operations on them. "
   ]
  },
  {
   "cell_type": "markdown",
   "id": "911cc79f",
   "metadata": {
    "id": "911cc79f"
   },
   "source": [
    "# What are the various features of NumPy?\n",
    "\n",
    "As a powerful open-source package used for array-processing, NumPy has various useful features. They are:\n",
    "\n",
    ">Contains a N-dimensional array object\n",
    "\n",
    ">It is interolerable; compatible with many hardware and computing platforms\n",
    "\n",
    ">Works extremely well with array libraries; sparse, distributed or GPU\n",
    "\n",
    ">Ability to perform complicated (broadcasting) functions\n",
    "\n",
    ">Tools that enable integration with C or C++ and Fortran code \n",
    "\n",
    ">Ability to perform high-level mathematical functions like statistics, Fourier transform, sorting, searching, linear algebra, etc \n",
    "\n",
    ">It can also behave as a multi-dimensional container for generic data\n",
    "\n",
    ">Supports scientific and financial calculations"
   ]
  },
  {
   "cell_type": "code",
   "execution_count": null,
   "id": "b82d9507",
   "metadata": {
    "id": "b82d9507",
    "outputId": "732fc3d3-c4a7-4aaa-cf90-3b82ef2b5c4f"
   },
   "outputs": [
    {
     "name": "stdout",
     "output_type": "stream",
     "text": [
      "[[11 23 32]\n",
      " [12 34 56]\n",
      " [77 77 54]]\n",
      "\n",
      "(3, 3)\n"
     ]
    }
   ],
   "source": [
    "# Create a numpy array\n",
    "\n",
    "np_arr = np.array([[11,23,32],[12,34,56],[77,77,54]])\n",
    "print(np_arr)\n",
    "print()\n",
    "print(np_arr.shape)"
   ]
  },
  {
   "cell_type": "code",
   "execution_count": null,
   "id": "ecacd49b",
   "metadata": {
    "colab": {
     "base_uri": "https://localhost:8080/",
     "height": 214
    },
    "executionInfo": {
     "elapsed": 1496,
     "status": "error",
     "timestamp": 1634147084496,
     "user": {
      "displayName": "Gowdham Ravichandran",
      "photoUrl": "https://lh3.googleusercontent.com/a-/AOh14Gh0QQnGEYvqia-wXXOBfhB190-PhCdgoqaLfCxn=s64",
      "userId": "02295107535681367825"
     },
     "user_tz": -330
    },
    "id": "ecacd49b",
    "outputId": "ff3bf2bd-da52-4986-eccd-930a5e2ca911"
   },
   "outputs": [
    {
     "ename": "NameError",
     "evalue": "ignored",
     "output_type": "error",
     "traceback": [
      "\u001b[0;31m---------------------------------------------------------------------------\u001b[0m",
      "\u001b[0;31mNameError\u001b[0m                                 Traceback (most recent call last)",
      "\u001b[0;32m<ipython-input-1-2d2b48f9fcb0>\u001b[0m in \u001b[0;36m<module>\u001b[0;34m()\u001b[0m\n\u001b[0;32m----> 1\u001b[0;31m \u001b[0mnp_arr\u001b[0m \u001b[0;34m=\u001b[0m \u001b[0mnp\u001b[0m\u001b[0;34m.\u001b[0m\u001b[0marray\u001b[0m\u001b[0;34m(\u001b[0m\u001b[0;34m[\u001b[0m\u001b[0;34m[\u001b[0m\u001b[0;36m11\u001b[0m\u001b[0;34m,\u001b[0m\u001b[0;36m23\u001b[0m\u001b[0;34m,\u001b[0m\u001b[0;36m32\u001b[0m\u001b[0;34m]\u001b[0m\u001b[0;34m,\u001b[0m\u001b[0;34m[\u001b[0m\u001b[0;36m12\u001b[0m\u001b[0;34m,\u001b[0m\u001b[0;36m34\u001b[0m\u001b[0;34m,\u001b[0m\u001b[0;36m56\u001b[0m\u001b[0;34m]\u001b[0m\u001b[0;34m,\u001b[0m\u001b[0;34m[\u001b[0m\u001b[0;36m77\u001b[0m\u001b[0;34m,\u001b[0m\u001b[0;36m77\u001b[0m\u001b[0;34m]\u001b[0m\u001b[0;34m]\u001b[0m\u001b[0;34m)\u001b[0m\u001b[0;34m\u001b[0m\u001b[0;34m\u001b[0m\u001b[0m\n\u001b[0m\u001b[1;32m      2\u001b[0m \u001b[0mprint\u001b[0m\u001b[0;34m(\u001b[0m\u001b[0mnp_arr\u001b[0m\u001b[0;34m)\u001b[0m\u001b[0;34m\u001b[0m\u001b[0;34m\u001b[0m\u001b[0m\n\u001b[1;32m      3\u001b[0m \u001b[0mprint\u001b[0m\u001b[0;34m(\u001b[0m\u001b[0;34m)\u001b[0m\u001b[0;34m\u001b[0m\u001b[0;34m\u001b[0m\u001b[0m\n\u001b[1;32m      4\u001b[0m \u001b[0mprint\u001b[0m\u001b[0;34m(\u001b[0m\u001b[0mnp_arr\u001b[0m\u001b[0;34m.\u001b[0m\u001b[0mshape\u001b[0m\u001b[0;34m)\u001b[0m\u001b[0;34m\u001b[0m\u001b[0;34m\u001b[0m\u001b[0m\n",
      "\u001b[0;31mNameError\u001b[0m: name 'np' is not defined"
     ]
    }
   ],
   "source": [
    "np_arr = np.array([[11,23,32],[12,34,56],[77,77]])\n",
    "print(np_arr)\n",
    "print()\n",
    "print(np_arr.shape)"
   ]
  },
  {
   "cell_type": "code",
   "execution_count": null,
   "id": "c1950969",
   "metadata": {
    "id": "c1950969",
    "outputId": "1d4c69b6-093d-49c8-d15a-04190efc72de"
   },
   "outputs": [
    {
     "name": "stdout",
     "output_type": "stream",
     "text": [
      "[[11 23 32]\n",
      " [12 34 56]\n",
      " [77 77 None]]\n",
      "\n",
      "(3, 3)\n"
     ]
    }
   ],
   "source": [
    "np_arr = np.array([[11,23,32],[12,34,56],[77,77,None]])\n",
    "print(np_arr)\n",
    "print()\n",
    "print(np_arr.shape)"
   ]
  },
  {
   "cell_type": "markdown",
   "id": "0f12e642",
   "metadata": {
    "id": "0f12e642"
   },
   "source": [
    "In addition to these, we can create arrays using a bunch of special functions provided by numpy."
   ]
  },
  {
   "cell_type": "code",
   "execution_count": null,
   "id": "7445e6e7",
   "metadata": {
    "id": "7445e6e7",
    "outputId": "ebad7244-cbe1-49ce-df42-71eb2b3b2d7b"
   },
   "outputs": [
    {
     "data": {
      "text/plain": [
       "array([[0., 0., 0., 0.],\n",
       "       [0., 0., 0., 0.]])"
      ]
     },
     "execution_count": 5,
     "metadata": {},
     "output_type": "execute_result"
    }
   ],
   "source": [
    "np_zeros = np.zeros([2,4])\n",
    "np_zeros"
   ]
  },
  {
   "cell_type": "code",
   "execution_count": null,
   "id": "5c8a9a3a",
   "metadata": {
    "id": "5c8a9a3a",
    "outputId": "a2f6a123-1dba-4e56-e8d7-1c49822d4558"
   },
   "outputs": [
    {
     "data": {
      "text/plain": [
       "array([[0., 0., 0., 0.],\n",
       "       [0., 0., 0., 0.]])"
      ]
     },
     "execution_count": 6,
     "metadata": {},
     "output_type": "execute_result"
    }
   ],
   "source": [
    "np_zeros1 = np.zeros((2,4))\n",
    "np_zeros1"
   ]
  },
  {
   "cell_type": "code",
   "execution_count": null,
   "id": "94021453",
   "metadata": {
    "id": "94021453",
    "outputId": "8015287d-bf26-486b-b482-8e7ef9a39def"
   },
   "outputs": [
    {
     "data": {
      "text/plain": [
       "array([[1, 2, 3],\n",
       "       [4, 5, 6],\n",
       "       [7, 8, 9]])"
      ]
     },
     "execution_count": 7,
     "metadata": {},
     "output_type": "execute_result"
    }
   ],
   "source": [
    "arr = np.array([[1,2,3],[4,5,6],[7,8,9]])\n",
    "arr"
   ]
  },
  {
   "cell_type": "code",
   "execution_count": null,
   "id": "cc566114",
   "metadata": {
    "id": "cc566114",
    "outputId": "4317b92f-4168-4dc0-ed15-53ef64cb01b5"
   },
   "outputs": [
    {
     "data": {
      "text/plain": [
       "array([[0., 0., 0., 0.],\n",
       "       [0., 0., 0., 0.]])"
      ]
     },
     "execution_count": 8,
     "metadata": {},
     "output_type": "execute_result"
    }
   ],
   "source": [
    "np.zeros_like(np_zeros)"
   ]
  },
  {
   "cell_type": "code",
   "execution_count": null,
   "id": "912fe210",
   "metadata": {
    "id": "912fe210",
    "outputId": "1980028e-d63f-4fc8-f5a5-8e5c0c6751c9"
   },
   "outputs": [
    {
     "data": {
      "text/plain": [
       "array([[1., 1., 1., 1.],\n",
       "       [1., 1., 1., 1.]])"
      ]
     },
     "execution_count": 9,
     "metadata": {},
     "output_type": "execute_result"
    }
   ],
   "source": [
    "np_ones = np.ones([2,4])\n",
    "np_ones"
   ]
  },
  {
   "cell_type": "code",
   "execution_count": null,
   "id": "5fffa563",
   "metadata": {
    "id": "5fffa563",
    "outputId": "34a7ce1a-d0cd-4b77-ebc6-e48cb5c79c0e"
   },
   "outputs": [
    {
     "data": {
      "text/plain": [
       "array([[1., 1., 1., 1.],\n",
       "       [1., 1., 1., 1.]])"
      ]
     },
     "execution_count": 10,
     "metadata": {},
     "output_type": "execute_result"
    }
   ],
   "source": [
    "np_ones1 = np.ones((2,4))\n",
    "np_ones1"
   ]
  },
  {
   "cell_type": "code",
   "execution_count": null,
   "id": "df61eee1",
   "metadata": {
    "id": "df61eee1",
    "outputId": "6cff17cf-9e3b-4504-ba31-c7da0a522610"
   },
   "outputs": [
    {
     "data": {
      "text/plain": [
       "array([[1., 1., 1., 1.],\n",
       "       [1., 1., 1., 1.]])"
      ]
     },
     "execution_count": 11,
     "metadata": {},
     "output_type": "execute_result"
    }
   ],
   "source": [
    "np.ones_like(np_ones)"
   ]
  },
  {
   "cell_type": "markdown",
   "id": "9cf43913",
   "metadata": {
    "id": "9cf43913"
   },
   "source": [
    "### Full Array"
   ]
  },
  {
   "cell_type": "code",
   "execution_count": null,
   "id": "85fd9741",
   "metadata": {
    "id": "85fd9741",
    "outputId": "c90efd75-10bc-45cc-90a0-0c8b12096eb0"
   },
   "outputs": [
    {
     "data": {
      "text/plain": [
       "array([[4, 4],\n",
       "       [4, 4],\n",
       "       [4, 4]])"
      ]
     },
     "execution_count": 12,
     "metadata": {},
     "output_type": "execute_result"
    }
   ],
   "source": [
    "np.full((3,2),4)"
   ]
  },
  {
   "cell_type": "code",
   "execution_count": null,
   "id": "d2add5c2",
   "metadata": {
    "id": "d2add5c2",
    "outputId": "dfcd629c-740d-4129-c263-ce9908ed42a3"
   },
   "outputs": [
    {
     "data": {
      "text/plain": [
       "array([[[4],\n",
       "        [4],\n",
       "        [4],\n",
       "        [4]],\n",
       "\n",
       "       [[4],\n",
       "        [4],\n",
       "        [4],\n",
       "        [4]],\n",
       "\n",
       "       [[4],\n",
       "        [4],\n",
       "        [4],\n",
       "        [4]],\n",
       "\n",
       "       [[4],\n",
       "        [4],\n",
       "        [4],\n",
       "        [4]],\n",
       "\n",
       "       [[4],\n",
       "        [4],\n",
       "        [4],\n",
       "        [4]]])"
      ]
     },
     "execution_count": 13,
     "metadata": {},
     "output_type": "execute_result"
    }
   ],
   "source": [
    "np.full((5,4,1),4)"
   ]
  },
  {
   "cell_type": "code",
   "execution_count": null,
   "id": "37af3bba",
   "metadata": {
    "id": "37af3bba",
    "outputId": "0714ecc0-e4a6-4c52-a721-c2349d11b431"
   },
   "outputs": [
    {
     "data": {
      "text/plain": [
       "array([[[[1, 1, 1],\n",
       "         [1, 1, 1]],\n",
       "\n",
       "        [[1, 1, 1],\n",
       "         [1, 1, 1]],\n",
       "\n",
       "        [[1, 1, 1],\n",
       "         [1, 1, 1]]],\n",
       "\n",
       "\n",
       "       [[[1, 1, 1],\n",
       "         [1, 1, 1]],\n",
       "\n",
       "        [[1, 1, 1],\n",
       "         [1, 1, 1]],\n",
       "\n",
       "        [[1, 1, 1],\n",
       "         [1, 1, 1]]],\n",
       "\n",
       "\n",
       "       [[[1, 1, 1],\n",
       "         [1, 1, 1]],\n",
       "\n",
       "        [[1, 1, 1],\n",
       "         [1, 1, 1]],\n",
       "\n",
       "        [[1, 1, 1],\n",
       "         [1, 1, 1]]],\n",
       "\n",
       "\n",
       "       [[[1, 1, 1],\n",
       "         [1, 1, 1]],\n",
       "\n",
       "        [[1, 1, 1],\n",
       "         [1, 1, 1]],\n",
       "\n",
       "        [[1, 1, 1],\n",
       "         [1, 1, 1]]]])"
      ]
     },
     "execution_count": 14,
     "metadata": {},
     "output_type": "execute_result"
    }
   ],
   "source": [
    "np.full((4,3,2,3),1)"
   ]
  },
  {
   "cell_type": "code",
   "execution_count": null,
   "id": "859979c2",
   "metadata": {
    "id": "859979c2",
    "outputId": "f6876000-8a5d-4b88-f6b1-a2b029127881"
   },
   "outputs": [
    {
     "data": {
      "text/plain": [
       "(4, 3, 2, 3)"
      ]
     },
     "execution_count": 15,
     "metadata": {},
     "output_type": "execute_result"
    }
   ],
   "source": [
    "np.full((4,3,2,3),1).shape"
   ]
  },
  {
   "cell_type": "code",
   "execution_count": null,
   "id": "7d943693",
   "metadata": {
    "id": "7d943693"
   },
   "outputs": [],
   "source": []
  },
  {
   "cell_type": "markdown",
   "id": "5f0cff16",
   "metadata": {
    "id": "5f0cff16"
   },
   "source": [
    "# Basic Slicing and Indexing"
   ]
  },
  {
   "cell_type": "code",
   "execution_count": null,
   "id": "8c7e4352",
   "metadata": {
    "id": "8c7e4352",
    "outputId": "d9e38f1f-8d41-4f29-8288-c950e3772b02"
   },
   "outputs": [
    {
     "name": "stdout",
     "output_type": "stream",
     "text": [
      "[[10 20 30]\n",
      " [40 50 60]\n",
      " [18 18 18]]\n",
      "(3, 3)\n",
      "int64\n",
      "[10 20 30]\n",
      "10\n",
      "10\n",
      "[18 18 18]\n"
     ]
    }
   ],
   "source": [
    "arr = np.array([[10,20,30],[40,50,60],[18,18,18]])\n",
    "print(arr)\n",
    "print(arr.shape)\n",
    "print(arr.dtype)\n",
    "print(arr[0])\n",
    "print(arr[0][0])\n",
    "print(arr[0,0])\n",
    "print(arr[-1])"
   ]
  },
  {
   "cell_type": "code",
   "execution_count": null,
   "id": "127068b5",
   "metadata": {
    "id": "127068b5",
    "outputId": "71e21d05-1440-42f9-ae34-19bae89a057e"
   },
   "outputs": [
    {
     "data": {
      "text/plain": [
       "array([ 0,  1,  2,  3,  4,  5,  6,  7,  8,  9, 10, 11])"
      ]
     },
     "execution_count": 17,
     "metadata": {},
     "output_type": "execute_result"
    }
   ],
   "source": [
    "np.arange(12)"
   ]
  },
  {
   "cell_type": "code",
   "execution_count": null,
   "id": "30632723",
   "metadata": {
    "id": "30632723",
    "outputId": "b8f849ab-0b0e-4e84-e375-1cb6ecbcb723"
   },
   "outputs": [
    {
     "data": {
      "text/plain": [
       "array([[ 0,  1,  2,  3],\n",
       "       [ 4,  5,  6,  7],\n",
       "       [ 8,  9, 10, 11]])"
      ]
     },
     "execution_count": 18,
     "metadata": {},
     "output_type": "execute_result"
    }
   ],
   "source": [
    "np.arange(12).reshape(3,4)"
   ]
  },
  {
   "cell_type": "code",
   "execution_count": null,
   "id": "7d229a49",
   "metadata": {
    "id": "7d229a49",
    "outputId": "87bf3bc1-d137-4f78-ad3e-759824580d30"
   },
   "outputs": [
    {
     "data": {
      "text/plain": [
       "array([[ 0,  1,  2],\n",
       "       [ 3,  4,  5],\n",
       "       [ 6,  7,  8],\n",
       "       [ 9, 10, 11]])"
      ]
     },
     "execution_count": 19,
     "metadata": {},
     "output_type": "execute_result"
    }
   ],
   "source": [
    "np.arange(12).reshape(4,3)"
   ]
  },
  {
   "cell_type": "code",
   "execution_count": null,
   "id": "dce86057",
   "metadata": {
    "id": "dce86057",
    "outputId": "b8b0f505-f7c8-47b0-bc81-ffdcf5cdc659"
   },
   "outputs": [
    {
     "data": {
      "text/plain": [
       "array([[ 0,  1,  2,  3,  4,  5],\n",
       "       [ 6,  7,  8,  9, 10, 11]])"
      ]
     },
     "execution_count": 20,
     "metadata": {},
     "output_type": "execute_result"
    }
   ],
   "source": [
    "np.arange(12).reshape(2,6)"
   ]
  },
  {
   "cell_type": "code",
   "execution_count": null,
   "id": "35aee197",
   "metadata": {
    "id": "35aee197",
    "outputId": "fa248654-820d-4228-fd8b-71725c84ed9f"
   },
   "outputs": [
    {
     "data": {
      "text/plain": [
       "array([[ 0],\n",
       "       [ 1],\n",
       "       [ 2],\n",
       "       [ 3],\n",
       "       [ 4],\n",
       "       [ 5],\n",
       "       [ 6],\n",
       "       [ 7],\n",
       "       [ 8],\n",
       "       [ 9],\n",
       "       [10],\n",
       "       [11]])"
      ]
     },
     "execution_count": 21,
     "metadata": {},
     "output_type": "execute_result"
    }
   ],
   "source": [
    "np.arange(12).reshape(12,1)"
   ]
  },
  {
   "cell_type": "code",
   "execution_count": null,
   "id": "3f2951b1",
   "metadata": {
    "id": "3f2951b1",
    "outputId": "40bd0eb9-882e-442b-e1e6-21427c9e989e"
   },
   "outputs": [
    {
     "data": {
      "text/plain": [
       "array([[[ 0,  1,  2],\n",
       "        [ 3,  4,  5]],\n",
       "\n",
       "       [[ 6,  7,  8],\n",
       "        [ 9, 10, 11]]])"
      ]
     },
     "execution_count": 22,
     "metadata": {},
     "output_type": "execute_result"
    }
   ],
   "source": [
    "np.arange(12).reshape(2,2,3) \n",
    "# 12 = 2*2*3\n",
    "\n",
    "# This will generate 2 arrays, each of 2 rows and 3 cols"
   ]
  },
  {
   "cell_type": "code",
   "execution_count": null,
   "id": "5f936dc3",
   "metadata": {
    "id": "5f936dc3",
    "outputId": "e2b18328-9571-45e8-f540-360e0afe0d93"
   },
   "outputs": [
    {
     "data": {
      "text/plain": [
       "array([[[ 0,  1],\n",
       "        [ 2,  3],\n",
       "        [ 4,  5]],\n",
       "\n",
       "       [[ 6,  7],\n",
       "        [ 8,  9],\n",
       "        [10, 11]]])"
      ]
     },
     "execution_count": 23,
     "metadata": {},
     "output_type": "execute_result"
    }
   ],
   "source": [
    "np.arange(12).reshape(2,3,2)"
   ]
  },
  {
   "cell_type": "code",
   "execution_count": null,
   "id": "91b421cd",
   "metadata": {
    "id": "91b421cd",
    "outputId": "79fa9457-e51c-4ff5-9bbb-99c78e0bb807"
   },
   "outputs": [
    {
     "data": {
      "text/plain": [
       "array([[[ 0,  1],\n",
       "        [ 2,  3],\n",
       "        [ 4,  5],\n",
       "        [ 6,  7],\n",
       "        [ 8,  9],\n",
       "        [10, 11]]])"
      ]
     },
     "execution_count": 24,
     "metadata": {},
     "output_type": "execute_result"
    }
   ],
   "source": [
    "np.arange(12).reshape(1,6,2)"
   ]
  },
  {
   "cell_type": "code",
   "execution_count": null,
   "id": "58cda451",
   "metadata": {
    "id": "58cda451",
    "outputId": "0c51c353-bb4d-400b-992e-12b54e009387"
   },
   "outputs": [
    {
     "data": {
      "text/plain": [
       "array([[[ 0],\n",
       "        [ 1],\n",
       "        [ 2],\n",
       "        [ 3],\n",
       "        [ 4],\n",
       "        [ 5]],\n",
       "\n",
       "       [[ 6],\n",
       "        [ 7],\n",
       "        [ 8],\n",
       "        [ 9],\n",
       "        [10],\n",
       "        [11]]])"
      ]
     },
     "execution_count": 25,
     "metadata": {},
     "output_type": "execute_result"
    }
   ],
   "source": [
    "np.arange(12).reshape(2,6,1)"
   ]
  },
  {
   "cell_type": "raw",
   "id": "1c58deae",
   "metadata": {
    "id": "1c58deae"
   },
   "source": [
    "# Two dimensional Slicing\n",
    "\n",
    "It is common to split your loaded data into input variables (X) and the output variable (y).\n",
    "We can do this by slicing all rows and all columns up to, but before the last column, then separately indexing the last column.\n",
    "For the input features, we can select all rows and all columns except the last one by specifying ‘:’ for in the rows index, and :-1 in the columns index.\n",
    "X = [:, :-1]\n",
    "For the output column, we can select all rows again using ‘:’ and index just the last column by specifying the -1 index.\n",
    "y = [:, -1]"
   ]
  },
  {
   "cell_type": "code",
   "execution_count": null,
   "id": "ea244716",
   "metadata": {
    "id": "ea244716",
    "outputId": "b693dc8e-cb13-4a97-ad2c-7000de29937a"
   },
   "outputs": [
    {
     "name": "stdout",
     "output_type": "stream",
     "text": [
      "X= [[100 200]\n",
      " [400 500]\n",
      " [700 800]]\n",
      "---------------\n",
      "y= [300 600 900]\n"
     ]
    }
   ],
   "source": [
    "from numpy import array\n",
    "# define array\n",
    "data = array([[100, 200, 300],[400, 500, 600],[700, 800, 900]]) # separate data\n",
    "X, y = data[:, :-1], data[:, -1]\n",
    "print(\"X=\",X)\n",
    "print(\"---------------\")\n",
    "print(\"y=\",y)"
   ]
  },
  {
   "cell_type": "markdown",
   "id": "a395a09b",
   "metadata": {
    "id": "a395a09b"
   },
   "source": [
    "# Advanced Indexing\n",
    "\n",
    "This advanced indexing occurs when the reference object is also an array.\n",
    "The simplest type of indexing is when we provide an array that’s equal in dimensions to\n",
    "the array being accessed.\n",
    "\n",
    "For example:"
   ]
  },
  {
   "cell_type": "code",
   "execution_count": null,
   "id": "b853f7e5",
   "metadata": {
    "id": "b853f7e5",
    "outputId": "b98c9b45-a2bc-4bca-9828-9d0c83bdb5ab"
   },
   "outputs": [
    {
     "data": {
      "text/plain": [
       "array([[10, 20, 30],\n",
       "       [40, 50, 60],\n",
       "       [18, 18, 18]])"
      ]
     },
     "execution_count": 27,
     "metadata": {},
     "output_type": "execute_result"
    }
   ],
   "source": [
    "arr"
   ]
  },
  {
   "cell_type": "code",
   "execution_count": null,
   "id": "0d2388da",
   "metadata": {
    "id": "0d2388da",
    "outputId": "a3d36da0-ce53-45d7-b66c-3146ec5b375b"
   },
   "outputs": [
    {
     "name": "stdout",
     "output_type": "stream",
     "text": [
      "\n",
      " [[10 20 30]\n",
      " [40 50 60]\n",
      " [18 18 18]]\n",
      "\n",
      " [20 40 18]\n"
     ]
    }
   ],
   "source": [
    "print(\"\\n\",arr)\n",
    "print(\"\\n\",arr[[0,1,2],[1,0,0]])"
   ]
  },
  {
   "cell_type": "markdown",
   "id": "c5c5eb72",
   "metadata": {
    "id": "c5c5eb72"
   },
   "source": [
    "# Boolean Indexing\n",
    "\n",
    "This advanced indexing occurs when the reference object is an array of Boolean values.\n",
    "\n",
    "This is used when we want to access data based on some conditions, in that case, Boolean\n",
    "indexing can be used.\n",
    "\n",
    "We will illustrate it with an example. Suppose in one array, we have the names of some\n",
    "cities and in another array, we have some data related to those cities."
   ]
  },
  {
   "cell_type": "code",
   "execution_count": null,
   "id": "aab86b24",
   "metadata": {
    "id": "aab86b24",
    "outputId": "b3e96af4-3072-4b01-fcde-61db6dc05e3b"
   },
   "outputs": [
    {
     "name": "stdout",
     "output_type": "stream",
     "text": [
      "\n",
      "city_data:\n",
      " [[ 0.13081785 -0.08874087 -1.10618288]\n",
      " [-1.27106392 -0.93733788 -0.19847776]\n",
      " [ 2.59383146 -0.70228583  0.31675341]\n",
      " [ 1.20837392 -0.88679141 -1.0752098 ]\n",
      " [ 0.18771092  0.30253931  0.54542954]]\n"
     ]
    }
   ],
   "source": [
    "cities = np.array([\"Delhi\",\"Mumbai\",\"Banglaore\",\"Chennai\",\"Bhopal\"]) \n",
    "city_data = np.random.randn(5,3)\n",
    "print(\"\\ncity_data:\\n\",city_data)"
   ]
  },
  {
   "cell_type": "code",
   "execution_count": null,
   "id": "caa4e65a",
   "metadata": {
    "id": "caa4e65a",
    "outputId": "46ad0cf3-73a1-4bd3-f5e6-03d2f6502376"
   },
   "outputs": [
    {
     "data": {
      "text/plain": [
       "array([[-1.27106392, -0.93733788, -0.19847776]])"
      ]
     },
     "execution_count": 30,
     "metadata": {},
     "output_type": "execute_result"
    }
   ],
   "source": [
    "city_data[cities ==\"Mumbai\"]\n",
    "# depending on which index is True, it prints that row\n",
    "# In this case, mumbai is at index 2, therefore row no. 2 will be printed"
   ]
  },
  {
   "cell_type": "code",
   "execution_count": null,
   "id": "75a1e3d8",
   "metadata": {
    "id": "75a1e3d8",
    "outputId": "5f73e76c-d247-4ede-bdc2-d6cca785180e"
   },
   "outputs": [
    {
     "name": "stdout",
     "output_type": "stream",
     "text": [
      "[False  True False False False]\n"
     ]
    }
   ],
   "source": [
    "print(cities ==\"Mumbai\")"
   ]
  },
  {
   "cell_type": "code",
   "execution_count": null,
   "id": "c8c7794e",
   "metadata": {
    "id": "c8c7794e",
    "outputId": "6fe6ca84-ed06-418c-c13f-17c1d06446d2"
   },
   "outputs": [
    {
     "data": {
      "text/plain": [
       "array([], shape=(0, 3), dtype=float64)"
      ]
     },
     "execution_count": 32,
     "metadata": {},
     "output_type": "execute_result"
    }
   ],
   "source": [
    "# if the match does not happen , then all values are false.\n",
    "city_data[cities ==\"Manhattan\"]\n",
    "# the o/p in such a case is indicating shape as(0 rows, 3 features)"
   ]
  },
  {
   "cell_type": "raw",
   "id": "68e4e774",
   "metadata": {
    "id": "68e4e774"
   },
   "source": [
    "We can also use Boolean indexing for selecting some elements of an array that satisfy a\n",
    "particular condition. For example, in the previous array suppose we want to only select\n",
    "non-zero elements.\n",
    "We can do that easily using the following code."
   ]
  },
  {
   "cell_type": "code",
   "execution_count": null,
   "id": "2031b785",
   "metadata": {
    "id": "2031b785",
    "outputId": "a5768bca-c6bb-414f-cc11-68f695b00bec"
   },
   "outputs": [
    {
     "data": {
      "text/plain": [
       "array([0.13081785, 2.59383146, 0.31675341, 1.20837392, 0.18771092,\n",
       "       0.30253931, 0.54542954])"
      ]
     },
     "execution_count": 33,
     "metadata": {},
     "output_type": "execute_result"
    }
   ],
   "source": [
    "city_data[city_data >0]"
   ]
  },
  {
   "cell_type": "code",
   "execution_count": null,
   "id": "b541dfba",
   "metadata": {
    "id": "b541dfba"
   },
   "outputs": [],
   "source": [
    "city_data[city_data >0] = 0 # all positive values would be made 0 city_data"
   ]
  },
  {
   "cell_type": "markdown",
   "id": "a4e9695d",
   "metadata": {
    "id": "a4e9695d"
   },
   "source": [
    "# Operations on Arrays\n",
    "\n",
    "Most of the operations on the numpy arrays is achieved by using Universal functions\n",
    "(Ufuncs).\n",
    "\n",
    "Numpy provides a rich set of functions that we can leverage for various\n",
    "operations on arrays. We only cover some of those functions here.\n",
    "\n",
    "Universal functions are functions that operate on arrays in an element by element\n",
    "fashion. The implementation of Ufunc is vectorized, which means that the execution of\n",
    "Ufuncs on arrays is quite fast. The Ufuncs implemented in the numpy package are\n",
    "implemented in compiled C code for speed and efficiency."
   ]
  },
  {
   "cell_type": "code",
   "execution_count": null,
   "id": "3cc79b8b",
   "metadata": {
    "id": "3cc79b8b",
    "outputId": "9d4d7b72-2c0b-45b0-b25a-640641a2aa93"
   },
   "outputs": [
    {
     "data": {
      "text/plain": [
       "array([[ 0,  1,  2,  3,  4],\n",
       "       [ 5,  6,  7,  8,  9],\n",
       "       [10, 11, 12, 13, 14]])"
      ]
     },
     "execution_count": 35,
     "metadata": {},
     "output_type": "execute_result"
    }
   ],
   "source": [
    "arr = np.arange(15).reshape(3,5)\n",
    "arr"
   ]
  },
  {
   "cell_type": "code",
   "execution_count": null,
   "id": "e84954a3",
   "metadata": {
    "id": "e84954a3",
    "outputId": "6a71c637-1955-422e-80a0-bd31a5cf8eab"
   },
   "outputs": [
    {
     "data": {
      "text/plain": [
       "array([[ 5,  6,  7,  8,  9],\n",
       "       [10, 11, 12, 13, 14],\n",
       "       [15, 16, 17, 18, 19]])"
      ]
     },
     "execution_count": 36,
     "metadata": {},
     "output_type": "execute_result"
    }
   ],
   "source": [
    "# we are adding a constant to all elements of the array\n",
    "arr + 5 # most Ufunc return a array\n",
    "# the above concept is called BROADCAST \n",
    "# which converts single element '5' into an array. \n",
    "# Broadcasting happens on its own"
   ]
  },
  {
   "cell_type": "code",
   "execution_count": null,
   "id": "686e1a4f",
   "metadata": {
    "id": "686e1a4f",
    "outputId": "dea39d89-364c-4730-e469-bc8f46cef419"
   },
   "outputs": [
    {
     "data": {
      "text/plain": [
       "array([[ 0,  2,  4,  6,  8],\n",
       "       [10, 12, 14, 16, 18],\n",
       "       [20, 22, 24, 26, 28]])"
      ]
     },
     "execution_count": 37,
     "metadata": {},
     "output_type": "execute_result"
    }
   ],
   "source": [
    "arr * 2"
   ]
  },
  {
   "cell_type": "code",
   "execution_count": null,
   "id": "27750b63",
   "metadata": {
    "id": "27750b63",
    "outputId": "486dfb68-6c7f-4534-abd2-b72645088094"
   },
   "outputs": [
    {
     "name": "stdout",
     "output_type": "stream",
     "text": [
      "arr1\n",
      " [[ 0  1  2]\n",
      " [ 3  4  5]\n",
      " [ 6  7  8]\n",
      " [ 9 10 11]\n",
      " [12 13 14]]\n",
      "arr2\n",
      " [[0]\n",
      " [1]\n",
      " [2]\n",
      " [3]\n",
      " [4]]\n",
      "arr2 + arr1 \n",
      " [[ 0  1  2]\n",
      " [ 4  5  6]\n",
      " [ 8  9 10]\n",
      " [12 13 14]\n",
      " [16 17 18]]\n"
     ]
    }
   ],
   "source": [
    "arr1 = np.arange(15).reshape(5,3) \n",
    "arr2 = np.arange(5).reshape(5,1) \n",
    "print(\"arr1\\n\",arr1) \n",
    "print(\"arr2\\n\",arr2)\n",
    "print(\"arr2 + arr1 \\n\",arr2 + arr1 ) # arr2[i] + arr1's entire row"
   ]
  },
  {
   "cell_type": "raw",
   "id": "ee9acc99",
   "metadata": {
    "id": "ee9acc99"
   },
   "source": [
    "Here we see that we were able to add up two arrays even when they were of different\n",
    "sizes. This is achieved by the concept of broadcasting.\n",
    ">>> concept of broadcasting -> later, after Linear Algebra topic."
   ]
  },
  {
   "cell_type": "markdown",
   "id": "f6eb7745",
   "metadata": {
    "id": "f6eb7745"
   },
   "source": [
    "# Linear Algebra Using numpy\n",
    "\n",
    "Linear algebra is an integral part of the domain of Machine Learning.\n",
    "Most of the algorithms we will deal with can be concisely expressed using the operations\n",
    "of linear algebra.\n",
    "\n",
    "Numpy was initially built to provide the functions similar to MATLAB and hence linear\n",
    "algebra functions on arrays were always an important part of it.\n",
    "Here, we learn a bit about performing linear algebra on ndarrays using the\n",
    "functions implemented in the numpy package.\n",
    "\n",
    "One of the most widely used operations in linear algebra is the dot product. This can be\n",
    "performed on two compatible ndarrays by using the dot function."
   ]
  },
  {
   "cell_type": "code",
   "execution_count": null,
   "id": "559f2304",
   "metadata": {
    "id": "559f2304",
    "outputId": "b4d8bfb1-8023-45c8-fa34-273ad73119e5"
   },
   "outputs": [
    {
     "name": "stdout",
     "output_type": "stream",
     "text": [
      "A= [[11 22 33]\n",
      " [44 55 66]\n",
      " [77 88 99]]\n",
      "B= [[9 8 7]\n",
      " [6 5 4]\n",
      " [1 2 3]]\n"
     ]
    },
    {
     "data": {
      "text/plain": [
       "array([[ 264,  264,  264],\n",
       "       [ 792,  759,  726],\n",
       "       [1320, 1254, 1188]])"
      ]
     },
     "execution_count": 39,
     "metadata": {},
     "output_type": "execute_result"
    }
   ],
   "source": [
    "# #### Linear algebra using numpy\n",
    "A = np.array([[11,22,33],[44,55,66],[77,88,99]]) \n",
    "B = np.array([[9,8,7],[6,5,4],[1,2,3]]) \n",
    "print(\"A=\",A)\n",
    "print(\"B=\",B)\n",
    "A.dot(B) # its simple array multiplication"
   ]
  },
  {
   "cell_type": "code",
   "execution_count": null,
   "id": "876fbe36",
   "metadata": {
    "id": "876fbe36",
    "outputId": "7eb69680-574b-4eba-dd14-883533f9f073"
   },
   "outputs": [
    {
     "name": "stdout",
     "output_type": "stream",
     "text": [
      "[[ 0  1  2  3]\n",
      " [ 4  5  6  7]\n",
      " [ 8  9 10 11]\n",
      " [12 13 14 15]\n",
      " [16 17 18 19]]\n",
      "\n",
      "\n",
      "[[ 0  4  8 12 16]\n",
      " [ 1  5  9 13 17]\n",
      " [ 2  6 10 14 18]\n",
      " [ 3  7 11 15 19]]\n"
     ]
    }
   ],
   "source": [
    "# taking Transpose\n",
    "A = np.arange(20).reshape(5,4) # 5 rows and 4 columns each \n",
    "print(A)\n",
    "print(\"\\n\")\n",
    "print(A.T) # after transpose , we get 4 rows and 4 columns each"
   ]
  },
  {
   "cell_type": "raw",
   "id": "33713fca",
   "metadata": {
    "id": "33713fca"
   },
   "source": [
    "Oftentimes, we need to find out decomposition of a matrix into its constituents factors.\n",
    "This is called matrix factorization.\n",
    "A popular matrix factorization method is SVD (singular value decomposition)\n",
    "factorization , which returns decomposition of a matrix into three different matrices.\n",
    "This can be done using linalg.svd function."
   ]
  },
  {
   "cell_type": "code",
   "execution_count": null,
   "id": "9ac0c9dc",
   "metadata": {
    "id": "9ac0c9dc",
    "outputId": "ffea9bb9-9807-49b6-9c98-381034ce9bdc"
   },
   "outputs": [
    {
     "data": {
      "text/plain": [
       "(array([[-0.06412452, -0.77193785,  0.62621458,  0.08036255, -0.03737868],\n",
       "        [-0.22469718, -0.49951094, -0.64142758,  0.24351066,  0.47882483],\n",
       "        [-0.38526983, -0.22708403, -0.34889885, -0.14689469, -0.81036507],\n",
       "        [-0.54584249,  0.04534288,  0.11722212, -0.7581928 ,  0.33377035],\n",
       "        [-0.70641515,  0.31776979,  0.24688973,  0.58121428,  0.03514856]]),\n",
       " array([4.96337102e+01, 2.54849186e+00, 1.61005564e-15, 1.30753441e-16]),\n",
       " array([[-0.43989658, -0.47870789, -0.5175192 , -0.5563305 ],\n",
       "        [ 0.71168181,  0.26615551, -0.17937079, -0.62489709],\n",
       "        [ 0.54758936, -0.7211163 , -0.20053549,  0.37406242],\n",
       "        [ 0.01207859, -0.4242538 ,  0.81227183, -0.40009662]]))"
      ]
     },
     "execution_count": 41,
     "metadata": {},
     "output_type": "execute_result"
    }
   ],
   "source": [
    "np.linalg.svd(A) # linalg is the Linear Algebra package"
   ]
  },
  {
   "cell_type": "markdown",
   "id": "62bd1f48",
   "metadata": {
    "id": "62bd1f48"
   },
   "source": [
    "# Why SVD is used?\n",
    "\n",
    "Matrix decomposition, also known as matrix factorization, involves describing a given matrix using its constituent elements.\n",
    "\n",
    "Perhaps the most known and widely used matrix decomposition method is the Singular-Value Decomposition, or SVD. All matrices have an SVD, which makes it more stable than other methods, such as the eigendecomposition. \n",
    "\n",
    "As such, it is often used in a wide array of applications including compressing, denoising, and data reduction.\n",
    "\n",
    "https://machinelearningmastery.com/singular-value-decomposition-for-machine-learning/ \n",
    "\n",
    "(https://machinelearningmastery.com/singular-value-decomposition-for-machine-learning/)"
   ]
  },
  {
   "cell_type": "raw",
   "id": "efcc09aa",
   "metadata": {
    "id": "efcc09aa"
   },
   "source": [
    "SVD stands for Singular Value Decomposition.\n",
    "to know What is SVD (Singular Value Decomposition) ?\n",
    "https://blog.statsbot.co/singular-value-decomposition-tutorial-52c695315254"
   ]
  },
  {
   "cell_type": "raw",
   "id": "16669e8e",
   "metadata": {
    "id": "16669e8e"
   },
   "source": [
    "Linear algebra is often also used to solve a system of equations. Using the matrix\n",
    "notation of system of equations and the provided function of numpy, we can easily solve\n",
    "such a system of equation.\n",
    "Consider the system of equations:\n",
    "7x + 5y -3z = 16\n",
    "3x - 5y + 2z = -8\n",
    "5x + 3y - 7z = 0\n",
    "This can be represented as two matrices: the coefficient matrix (a in the example) and\n",
    "the constants vector (b in the example)."
   ]
  },
  {
   "cell_type": "code",
   "execution_count": null,
   "id": "03e8f214",
   "metadata": {
    "id": "03e8f214",
    "outputId": "6c99ec22-3819-4eb1-c077-711cbd61a44d"
   },
   "outputs": [
    {
     "data": {
      "text/plain": [
       "array([6.21413721, 4.2016632 , 4.81081081])"
      ]
     },
     "execution_count": 42,
     "metadata": {},
     "output_type": "execute_result"
    }
   ],
   "source": [
    "a = np.array([[17,5,-23], [33,-53,2],[5,3,-7]])\n",
    "b = np.array([16,-8,10])\n",
    "x = np.linalg.solve(a, b)\n",
    "x"
   ]
  },
  {
   "cell_type": "code",
   "execution_count": null,
   "id": "771f355e",
   "metadata": {
    "id": "771f355e",
    "outputId": "f5989ad1-8062-4bc0-9454-7651081f7aae"
   },
   "outputs": [
    {
     "name": "stdout",
     "output_type": "stream",
     "text": [
      "[[1 2]\n",
      " [3 4]]\n",
      "\n",
      "\n",
      "[[-2.   1. ]\n",
      " [ 1.5 -0.5]]\n"
     ]
    }
   ],
   "source": [
    "# Finding the Inverse of a Matrix\n",
    "# The NumPy library contains the ìnv function in the linalg module.\n",
    "# let's find the inverse of a 2x2 matrix.\n",
    "Y = np.array(([1,2], [3,4])) \n",
    "Z = np.linalg.inv(Y) \n",
    "print(Y)\n",
    "print(\"\\n\")\n",
    "print(Z)\n",
    "# How to find the inverse or determinant of a matrix ?\n",
    "# https://www.mathsisfun.com/algebra/matrix-inverse.html"
   ]
  },
  {
   "cell_type": "code",
   "execution_count": null,
   "id": "250703f9",
   "metadata": {
    "id": "250703f9",
    "outputId": "13c5ca0a-31f6-4c11-8dd6-fe601f9615e6"
   },
   "outputs": [
    {
     "name": "stdout",
     "output_type": "stream",
     "text": [
      "[[1 2 3]\n",
      " [4 5 6]\n",
      " [7 8 9]]\n",
      "\n",
      "\n",
      "0.0\n"
     ]
    }
   ],
   "source": [
    "# Finding the Determinant of a Matrix\n",
    "# The determinant of a matrix can be calculated using the det method\n",
    "X = np.array(([1,2,3], [4,5,6], [7,8,9])) \n",
    "Z = np.linalg.det(X)\n",
    "print(X)\n",
    "print(\"\\n\")\n",
    "print(Z)"
   ]
  },
  {
   "cell_type": "code",
   "execution_count": null,
   "id": "b7b61caa",
   "metadata": {
    "id": "b7b61caa",
    "outputId": "74b9d2f4-ea38-4949-e980-e6d597e1af05"
   },
   "outputs": [
    {
     "name": "stdout",
     "output_type": "stream",
     "text": [
      "[[1 2 3]\n",
      " [4 5 6]\n",
      " [7 8 9]]\n",
      "\n",
      "\n",
      "15\n"
     ]
    }
   ],
   "source": [
    "# Finding the Trace of a Matrix\n",
    "# The trace of a matrix is the sum of all the elements in the diagonal\n",
    "# of a matrix. The NumPy library contains trace function that can be\n",
    "# used to find the trace of a matrix.\n",
    "X = np.array(([1,2,3], [4,5,6], [7,8,9])) \n",
    "Z = np.trace(X)\n",
    "print(X)\n",
    "print(\"\\n\")\n",
    "print(Z)"
   ]
  },
  {
   "cell_type": "markdown",
   "id": "08542e7b",
   "metadata": {
    "id": "08542e7b"
   },
   "source": [
    "# Working of NumPy’s broadcasting functionality"
   ]
  },
  {
   "cell_type": "raw",
   "id": "34bd0954",
   "metadata": {
    "id": "34bd0954"
   },
   "source": [
    "Recall that for arrays of the same size, binary operations are performed on an\n",
    "\n",
    "1.   List item\n",
    "2.   List item\n",
    "\n",
    "\n",
    "element-by-element basis:"
   ]
  },
  {
   "cell_type": "code",
   "execution_count": null,
   "id": "c53bb907",
   "metadata": {
    "id": "c53bb907",
    "outputId": "7baee071-c0e6-4f16-fdc7-2cd7db4668ab"
   },
   "outputs": [
    {
     "data": {
      "text/plain": [
       "array([16, 17, 18])"
      ]
     },
     "execution_count": 46,
     "metadata": {},
     "output_type": "execute_result"
    }
   ],
   "source": [
    "import numpy as np\n",
    "x = np.array([10, 11, 12])\n",
    "y = np.array([6,6,6]) \n",
    "x+y"
   ]
  },
  {
   "cell_type": "raw",
   "id": "295e52ba",
   "metadata": {
    "id": "295e52ba"
   },
   "source": [
    "Broadcasting allows these types of binary operations to be performed on arrays of\n",
    "different sizes—for example, we can just as easily add a scalar to an array:"
   ]
  },
  {
   "cell_type": "code",
   "execution_count": null,
   "id": "22332036",
   "metadata": {
    "id": "22332036",
    "outputId": "afa13144-41df-4362-a791-2d020d547d7a"
   },
   "outputs": [
    {
     "data": {
      "text/plain": [
       "array([15, 16, 17])"
      ]
     },
     "execution_count": 47,
     "metadata": {},
     "output_type": "execute_result"
    }
   ],
   "source": [
    "x + 5"
   ]
  },
  {
   "cell_type": "raw",
   "id": "3525b082",
   "metadata": {
    "id": "3525b082"
   },
   "source": [
    "We can think of this as an operation that stretches or duplicates the value 5 into the\n",
    "array [5, 5, 5], and adds the results. The advantage of NumPy’s broadcasting is that\n",
    "this duplication of values does not actually take place, but it is a useful mental model\n",
    "as we think about broadcasting.\n",
    "\n",
    "We can similarly extend this to arrays of higher dimension. Observe the result when we\n",
    "add a one-dimensional array to a two-dimensional array:"
   ]
  },
  {
   "cell_type": "code",
   "execution_count": null,
   "id": "2765336e",
   "metadata": {
    "id": "2765336e",
    "outputId": "d307e0fa-e378-480a-a8a5-3b6c014a4f4b"
   },
   "outputs": [
    {
     "data": {
      "text/plain": [
       "array([[1., 1., 1.],\n",
       "       [1., 1., 1.],\n",
       "       [1., 1., 1.]])"
      ]
     },
     "execution_count": 48,
     "metadata": {},
     "output_type": "execute_result"
    }
   ],
   "source": [
    "M = np.ones((3,3)) \n",
    "M"
   ]
  },
  {
   "cell_type": "code",
   "execution_count": null,
   "id": "03bbf052",
   "metadata": {
    "id": "03bbf052",
    "outputId": "18fd57c2-0c3e-4640-8c5e-dba217defc95"
   },
   "outputs": [
    {
     "data": {
      "text/plain": [
       "array([[11., 12., 13.],\n",
       "       [11., 12., 13.],\n",
       "       [11., 12., 13.]])"
      ]
     },
     "execution_count": 49,
     "metadata": {},
     "output_type": "execute_result"
    }
   ],
   "source": [
    "M+x"
   ]
  },
  {
   "cell_type": "raw",
   "id": "fd0f616c",
   "metadata": {
    "id": "fd0f616c"
   },
   "source": [
    "Here the one-dimensional array a is stretched, or broadcast, across the second\n",
    "dimension in order to match the shape of M.\n",
    "Consider the following example:"
   ]
  },
  {
   "cell_type": "code",
   "execution_count": null,
   "id": "ec61a289",
   "metadata": {
    "id": "ec61a289",
    "outputId": "fe7e481f-16b7-4704-8108-1f216573c4db"
   },
   "outputs": [
    {
     "name": "stdout",
     "output_type": "stream",
     "text": [
      "[0 1 2]\n",
      "\n",
      "\n",
      "[[0]\n",
      " [1]\n",
      " [2]]\n"
     ]
    }
   ],
   "source": [
    "x = np.arange(3)\n",
    "y = np.arange(3)[:, np.newaxis]\n",
    "print(x)\n",
    "print(\"\\n\")\n",
    "print(y)"
   ]
  },
  {
   "cell_type": "code",
   "execution_count": null,
   "id": "e39a5b77",
   "metadata": {
    "id": "e39a5b77",
    "outputId": "d2c3abdf-b619-401d-d9f6-2d220f6c73bb"
   },
   "outputs": [
    {
     "data": {
      "text/plain": [
       "array([[0, 1, 2],\n",
       "       [1, 2, 3],\n",
       "       [2, 3, 4]])"
      ]
     },
     "execution_count": 51,
     "metadata": {},
     "output_type": "execute_result"
    }
   ],
   "source": [
    "x + y"
   ]
  },
  {
   "cell_type": "raw",
   "id": "4c9d6aca",
   "metadata": {
    "id": "4c9d6aca"
   },
   "source": [
    "Just as before we stretched or broadcasted one value to match the shape of the other,\n",
    "here we’ve stretched both a and b to match a common shape, and the result is a two\n",
    "dimensional array!\n",
    "The geometry of these examples is visualized in below figure."
   ]
  },
  {
   "cell_type": "markdown",
   "id": "590b76d9",
   "metadata": {
    "id": "590b76d9"
   },
   "source": [
    "# Structured Data: NumPy’s Structured Arrays"
   ]
  },
  {
   "cell_type": "raw",
   "id": "9c55c6de",
   "metadata": {
    "id": "9c55c6de"
   },
   "source": [
    "While often our data can be well represented by a homogeneous array of values,\n",
    "sometimes this is not the case.\n",
    "This section demonstrates the use of NumPy’s structured arrays, which provide efficient\n",
    "storage for compound, heterogeneous data.\n",
    "While the patterns shown here are useful for simple operations,\n",
    "scenarios like this often lend themselves to the use of Pandas DataFrames.\n",
    "Imagine that we have several categories of data on a number of people (say, name, age,\n",
    "and weight), and we’d like to store these values for u"
   ]
  },
  {
   "cell_type": "code",
   "execution_count": null,
   "id": "e0f8e9a7",
   "metadata": {
    "id": "e0f8e9a7"
   },
   "outputs": [],
   "source": [
    "name = ['Alice', 'Bob', 'Cathy', 'Douglas'] \n",
    "age = [25, 45, 37, 19]\n",
    "weight = [55.0, 85.5, 68.0, 61.5]\n",
    "# But this is a bit clumsy.\n",
    "# There’s nothing here that tells us that the three arrays are related;\n",
    "# it would be more natural if we could use a single structure to\n",
    "# store all of this data.\n",
    "# NumPy can handle this through structured arrays,\n",
    "# which are arrays with compound data types."
   ]
  },
  {
   "cell_type": "code",
   "execution_count": null,
   "id": "fa4db931",
   "metadata": {
    "id": "fa4db931",
    "outputId": "c368efca-039e-4dc2-84ea-dc56605230bf"
   },
   "outputs": [
    {
     "name": "stdout",
     "output_type": "stream",
     "text": [
      "[('name', '<U10'), ('age', '<i4'), ('weight', '<f8')]\n"
     ]
    }
   ],
   "source": [
    "# Use a compound data type for structured arrays\n",
    "data = np.zeros(4, dtype={'names':('name', 'age', 'weight'), 'formats':('U10', 'i4', 'f8')})\n",
    "print(data.dtype)\n",
    "# Please Note :  np.zeros(4 -> indicates the no. of rows , we want."
   ]
  },
  {
   "cell_type": "raw",
   "id": "996b1edf",
   "metadata": {
    "id": "996b1edf"
   },
   "source": [
    "Here 'U10' translates to “Unicode string of maximum length 10,” 'i4' translates to “4-\n",
    "byte (i.e., 32 bit) integer,” and 'f8' translates to “8-byte (i.e., 64 bit) float.”"
   ]
  },
  {
   "cell_type": "code",
   "execution_count": null,
   "id": "20a7a003",
   "metadata": {
    "id": "20a7a003",
    "outputId": "0b3836f9-46ca-48df-eeb0-32dec538f345"
   },
   "outputs": [
    {
     "name": "stdout",
     "output_type": "stream",
     "text": [
      "[('Alice', 25, 55. ) ('Bob', 45, 85.5) ('Cathy', 37, 68. )\n",
      " ('Douglas', 19, 61.5)]\n"
     ]
    }
   ],
   "source": [
    "# Now that we’ve created an empty container array,\n",
    "# we can fill the array with our lists of values:\n",
    "data['name'] = name \n",
    "data['age'] = age \n",
    "data['weight'] = weight \n",
    "print(data)"
   ]
  },
  {
   "cell_type": "code",
   "execution_count": null,
   "id": "96464c16",
   "metadata": {
    "id": "96464c16",
    "outputId": "02360956-9eeb-4d59-a867-3be02216e592"
   },
   "outputs": [
    {
     "data": {
      "text/plain": [
       "array(['Alice', 'Bob', 'Cathy', 'Douglas'], dtype='<U10')"
      ]
     },
     "execution_count": 55,
     "metadata": {},
     "output_type": "execute_result"
    }
   ],
   "source": [
    "# The handy thing with structured arrays is that you can now refer\n",
    "# to values either by index or by name:\n",
    "# Get all names\n",
    "data['name']"
   ]
  },
  {
   "cell_type": "code",
   "execution_count": null,
   "id": "f206342c",
   "metadata": {
    "id": "f206342c",
    "outputId": "3206f697-9936-4111-a7a3-3c33446caebf"
   },
   "outputs": [
    {
     "data": {
      "text/plain": [
       "('Alice', 25, 55.)"
      ]
     },
     "execution_count": 56,
     "metadata": {},
     "output_type": "execute_result"
    }
   ],
   "source": [
    "# Get first row of data\n",
    "data[0]"
   ]
  },
  {
   "cell_type": "code",
   "execution_count": null,
   "id": "5883e384",
   "metadata": {
    "id": "5883e384",
    "outputId": "f1da6e03-8714-4716-8d59-dbff23616623"
   },
   "outputs": [
    {
     "data": {
      "text/plain": [
       "'Douglas'"
      ]
     },
     "execution_count": 57,
     "metadata": {},
     "output_type": "execute_result"
    }
   ],
   "source": [
    "# Get the name from the last row\n",
    "data[-1]['name']"
   ]
  },
  {
   "cell_type": "code",
   "execution_count": null,
   "id": "bd355645",
   "metadata": {
    "id": "bd355645",
    "outputId": "d999681b-451d-4381-8ad8-7af6f6dd6aa2"
   },
   "outputs": [
    {
     "data": {
      "text/plain": [
       "array(['Alice', 'Douglas'], dtype='<U10')"
      ]
     },
     "execution_count": 58,
     "metadata": {},
     "output_type": "execute_result"
    }
   ],
   "source": [
    "# Using Boolean masking, this even allows you to do some more\n",
    "# sophisticated operations, such as filtering on age:\n",
    "# Get names where age is under 30\n",
    "data[data['age'] < 30]['name']"
   ]
  },
  {
   "cell_type": "markdown",
   "id": "68d5a607",
   "metadata": {
    "id": "68d5a607"
   },
   "source": [
    "# Size of objects in Memory\n",
    "\n",
    "## Int, floats"
   ]
  },
  {
   "cell_type": "code",
   "execution_count": null,
   "id": "cc078ada",
   "metadata": {
    "id": "cc078ada"
   },
   "outputs": [],
   "source": [
    "import sys"
   ]
  },
  {
   "cell_type": "code",
   "execution_count": null,
   "id": "209b0daf",
   "metadata": {
    "id": "209b0daf",
    "outputId": "76fda4b1-81b0-409f-8a5f-dac60f68bf93"
   },
   "outputs": [
    {
     "data": {
      "text/plain": [
       "28"
      ]
     },
     "execution_count": 60,
     "metadata": {},
     "output_type": "execute_result"
    }
   ],
   "source": [
    "# An integer in Python is > 24bytes\n",
    "sys.getsizeof(1)"
   ]
  },
  {
   "cell_type": "code",
   "execution_count": null,
   "id": "5e383f2d",
   "metadata": {
    "id": "5e383f2d",
    "outputId": "0c3ca2d3-a15b-40e3-8419-c396bb792e0a"
   },
   "outputs": [
    {
     "data": {
      "text/plain": [
       "28"
      ]
     },
     "execution_count": 61,
     "metadata": {},
     "output_type": "execute_result"
    }
   ],
   "source": [
    "# An integer in Python is > 24bytes\n",
    "sys.getsizeof(10)"
   ]
  },
  {
   "cell_type": "code",
   "execution_count": null,
   "id": "6a896d65",
   "metadata": {
    "id": "6a896d65",
    "outputId": "3e5d98d0-1fea-47b5-ace5-2c0f0fc4f0a9"
   },
   "outputs": [
    {
     "data": {
      "text/plain": [
       "72"
      ]
     },
     "execution_count": 62,
     "metadata": {},
     "output_type": "execute_result"
    }
   ],
   "source": [
    "# Longs are even larger\n",
    "sys.getsizeof(10**100)"
   ]
  },
  {
   "cell_type": "code",
   "execution_count": null,
   "id": "fed01ec0",
   "metadata": {
    "id": "fed01ec0",
    "outputId": "016effc9-6150-4fd0-98a1-edf6e436bc4f"
   },
   "outputs": [
    {
     "data": {
      "text/plain": [
       "8"
      ]
     },
     "execution_count": 63,
     "metadata": {},
     "output_type": "execute_result"
    }
   ],
   "source": [
    "# Numpy size is much smaller\n",
    "np.dtype(int).itemsize"
   ]
  },
  {
   "cell_type": "code",
   "execution_count": null,
   "id": "d39fe9d9",
   "metadata": {
    "id": "d39fe9d9",
    "outputId": "425c07bd-7506-4d05-dd10-8a36d794320e"
   },
   "outputs": [
    {
     "data": {
      "text/plain": [
       "1"
      ]
     },
     "execution_count": 64,
     "metadata": {},
     "output_type": "execute_result"
    }
   ],
   "source": [
    "# Numpy size is much smaller\n",
    "np.dtype(np.int8).itemsize"
   ]
  },
  {
   "cell_type": "code",
   "execution_count": null,
   "id": "3ac152a5",
   "metadata": {
    "id": "3ac152a5",
    "outputId": "1ec2de0e-d97b-41f8-8c10-4a681379cc50"
   },
   "outputs": [
    {
     "data": {
      "text/plain": [
       "8"
      ]
     },
     "execution_count": 65,
     "metadata": {},
     "output_type": "execute_result"
    }
   ],
   "source": [
    "np.dtype(float).itemsize"
   ]
  },
  {
   "cell_type": "markdown",
   "id": "9b52c4fd",
   "metadata": {
    "id": "9b52c4fd"
   },
   "source": [
    "### Lists are even larger"
   ]
  },
  {
   "cell_type": "code",
   "execution_count": null,
   "id": "d81f1845",
   "metadata": {
    "id": "d81f1845",
    "outputId": "15fab9a9-122d-4b91-9bf3-4fd6caf0d264"
   },
   "outputs": [
    {
     "data": {
      "text/plain": [
       "64"
      ]
     },
     "execution_count": 66,
     "metadata": {},
     "output_type": "execute_result"
    }
   ],
   "source": [
    "# A one-element list\n",
    "sys.getsizeof([1])"
   ]
  },
  {
   "cell_type": "code",
   "execution_count": null,
   "id": "17a3ec9e",
   "metadata": {
    "id": "17a3ec9e",
    "outputId": "636098a1-ed70-4c75-a57a-01704ee1fc01"
   },
   "outputs": [
    {
     "data": {
      "text/plain": [
       "8"
      ]
     },
     "execution_count": 67,
     "metadata": {},
     "output_type": "execute_result"
    }
   ],
   "source": [
    "# An array of one element in numpy\n",
    "np.array([1]).nbytes"
   ]
  },
  {
   "cell_type": "markdown",
   "id": "c347fa4b",
   "metadata": {
    "id": "c347fa4b"
   },
   "source": [
    "### And performance is also important\n"
   ]
  },
  {
   "cell_type": "code",
   "execution_count": null,
   "id": "00d71aa9",
   "metadata": {
    "id": "00d71aa9",
    "outputId": "9d359cb5-c5fa-4bd8-8e65-626d521dfb2e"
   },
   "outputs": [
    {
     "data": {
      "text/plain": [
       "[0,\n",
       " 1,\n",
       " 2,\n",
       " 3,\n",
       " 4,\n",
       " 5,\n",
       " 6,\n",
       " 7,\n",
       " 8,\n",
       " 9,\n",
       " 10,\n",
       " 11,\n",
       " 12,\n",
       " 13,\n",
       " 14,\n",
       " 15,\n",
       " 16,\n",
       " 17,\n",
       " 18,\n",
       " 19,\n",
       " 20,\n",
       " 21,\n",
       " 22,\n",
       " 23,\n",
       " 24,\n",
       " 25,\n",
       " 26,\n",
       " 27,\n",
       " 28,\n",
       " 29,\n",
       " 30,\n",
       " 31,\n",
       " 32,\n",
       " 33,\n",
       " 34,\n",
       " 35,\n",
       " 36,\n",
       " 37,\n",
       " 38,\n",
       " 39,\n",
       " 40,\n",
       " 41,\n",
       " 42,\n",
       " 43,\n",
       " 44,\n",
       " 45,\n",
       " 46,\n",
       " 47,\n",
       " 48,\n",
       " 49,\n",
       " 50,\n",
       " 51,\n",
       " 52,\n",
       " 53,\n",
       " 54,\n",
       " 55,\n",
       " 56,\n",
       " 57,\n",
       " 58,\n",
       " 59,\n",
       " 60,\n",
       " 61,\n",
       " 62,\n",
       " 63,\n",
       " 64,\n",
       " 65,\n",
       " 66,\n",
       " 67,\n",
       " 68,\n",
       " 69,\n",
       " 70,\n",
       " 71,\n",
       " 72,\n",
       " 73,\n",
       " 74,\n",
       " 75,\n",
       " 76,\n",
       " 77,\n",
       " 78,\n",
       " 79,\n",
       " 80,\n",
       " 81,\n",
       " 82,\n",
       " 83,\n",
       " 84,\n",
       " 85,\n",
       " 86,\n",
       " 87,\n",
       " 88,\n",
       " 89,\n",
       " 90,\n",
       " 91,\n",
       " 92,\n",
       " 93,\n",
       " 94,\n",
       " 95,\n",
       " 96,\n",
       " 97,\n",
       " 98,\n",
       " 99,\n",
       " 100,\n",
       " 101,\n",
       " 102,\n",
       " 103,\n",
       " 104,\n",
       " 105,\n",
       " 106,\n",
       " 107,\n",
       " 108,\n",
       " 109,\n",
       " 110,\n",
       " 111,\n",
       " 112,\n",
       " 113,\n",
       " 114,\n",
       " 115,\n",
       " 116,\n",
       " 117,\n",
       " 118,\n",
       " 119,\n",
       " 120,\n",
       " 121,\n",
       " 122,\n",
       " 123,\n",
       " 124,\n",
       " 125,\n",
       " 126,\n",
       " 127,\n",
       " 128,\n",
       " 129,\n",
       " 130,\n",
       " 131,\n",
       " 132,\n",
       " 133,\n",
       " 134,\n",
       " 135,\n",
       " 136,\n",
       " 137,\n",
       " 138,\n",
       " 139,\n",
       " 140,\n",
       " 141,\n",
       " 142,\n",
       " 143,\n",
       " 144,\n",
       " 145,\n",
       " 146,\n",
       " 147,\n",
       " 148,\n",
       " 149,\n",
       " 150,\n",
       " 151,\n",
       " 152,\n",
       " 153,\n",
       " 154,\n",
       " 155,\n",
       " 156,\n",
       " 157,\n",
       " 158,\n",
       " 159,\n",
       " 160,\n",
       " 161,\n",
       " 162,\n",
       " 163,\n",
       " 164,\n",
       " 165,\n",
       " 166,\n",
       " 167,\n",
       " 168,\n",
       " 169,\n",
       " 170,\n",
       " 171,\n",
       " 172,\n",
       " 173,\n",
       " 174,\n",
       " 175,\n",
       " 176,\n",
       " 177,\n",
       " 178,\n",
       " 179,\n",
       " 180,\n",
       " 181,\n",
       " 182,\n",
       " 183,\n",
       " 184,\n",
       " 185,\n",
       " 186,\n",
       " 187,\n",
       " 188,\n",
       " 189,\n",
       " 190,\n",
       " 191,\n",
       " 192,\n",
       " 193,\n",
       " 194,\n",
       " 195,\n",
       " 196,\n",
       " 197,\n",
       " 198,\n",
       " 199,\n",
       " 200,\n",
       " 201,\n",
       " 202,\n",
       " 203,\n",
       " 204,\n",
       " 205,\n",
       " 206,\n",
       " 207,\n",
       " 208,\n",
       " 209,\n",
       " 210,\n",
       " 211,\n",
       " 212,\n",
       " 213,\n",
       " 214,\n",
       " 215,\n",
       " 216,\n",
       " 217,\n",
       " 218,\n",
       " 219,\n",
       " 220,\n",
       " 221,\n",
       " 222,\n",
       " 223,\n",
       " 224,\n",
       " 225,\n",
       " 226,\n",
       " 227,\n",
       " 228,\n",
       " 229,\n",
       " 230,\n",
       " 231,\n",
       " 232,\n",
       " 233,\n",
       " 234,\n",
       " 235,\n",
       " 236,\n",
       " 237,\n",
       " 238,\n",
       " 239,\n",
       " 240,\n",
       " 241,\n",
       " 242,\n",
       " 243,\n",
       " 244,\n",
       " 245,\n",
       " 246,\n",
       " 247,\n",
       " 248,\n",
       " 249,\n",
       " 250,\n",
       " 251,\n",
       " 252,\n",
       " 253,\n",
       " 254,\n",
       " 255,\n",
       " 256,\n",
       " 257,\n",
       " 258,\n",
       " 259,\n",
       " 260,\n",
       " 261,\n",
       " 262,\n",
       " 263,\n",
       " 264,\n",
       " 265,\n",
       " 266,\n",
       " 267,\n",
       " 268,\n",
       " 269,\n",
       " 270,\n",
       " 271,\n",
       " 272,\n",
       " 273,\n",
       " 274,\n",
       " 275,\n",
       " 276,\n",
       " 277,\n",
       " 278,\n",
       " 279,\n",
       " 280,\n",
       " 281,\n",
       " 282,\n",
       " 283,\n",
       " 284,\n",
       " 285,\n",
       " 286,\n",
       " 287,\n",
       " 288,\n",
       " 289,\n",
       " 290,\n",
       " 291,\n",
       " 292,\n",
       " 293,\n",
       " 294,\n",
       " 295,\n",
       " 296,\n",
       " 297,\n",
       " 298,\n",
       " 299,\n",
       " 300,\n",
       " 301,\n",
       " 302,\n",
       " 303,\n",
       " 304,\n",
       " 305,\n",
       " 306,\n",
       " 307,\n",
       " 308,\n",
       " 309,\n",
       " 310,\n",
       " 311,\n",
       " 312,\n",
       " 313,\n",
       " 314,\n",
       " 315,\n",
       " 316,\n",
       " 317,\n",
       " 318,\n",
       " 319,\n",
       " 320,\n",
       " 321,\n",
       " 322,\n",
       " 323,\n",
       " 324,\n",
       " 325,\n",
       " 326,\n",
       " 327,\n",
       " 328,\n",
       " 329,\n",
       " 330,\n",
       " 331,\n",
       " 332,\n",
       " 333,\n",
       " 334,\n",
       " 335,\n",
       " 336,\n",
       " 337,\n",
       " 338,\n",
       " 339,\n",
       " 340,\n",
       " 341,\n",
       " 342,\n",
       " 343,\n",
       " 344,\n",
       " 345,\n",
       " 346,\n",
       " 347,\n",
       " 348,\n",
       " 349,\n",
       " 350,\n",
       " 351,\n",
       " 352,\n",
       " 353,\n",
       " 354,\n",
       " 355,\n",
       " 356,\n",
       " 357,\n",
       " 358,\n",
       " 359,\n",
       " 360,\n",
       " 361,\n",
       " 362,\n",
       " 363,\n",
       " 364,\n",
       " 365,\n",
       " 366,\n",
       " 367,\n",
       " 368,\n",
       " 369,\n",
       " 370,\n",
       " 371,\n",
       " 372,\n",
       " 373,\n",
       " 374,\n",
       " 375,\n",
       " 376,\n",
       " 377,\n",
       " 378,\n",
       " 379,\n",
       " 380,\n",
       " 381,\n",
       " 382,\n",
       " 383,\n",
       " 384,\n",
       " 385,\n",
       " 386,\n",
       " 387,\n",
       " 388,\n",
       " 389,\n",
       " 390,\n",
       " 391,\n",
       " 392,\n",
       " 393,\n",
       " 394,\n",
       " 395,\n",
       " 396,\n",
       " 397,\n",
       " 398,\n",
       " 399,\n",
       " 400,\n",
       " 401,\n",
       " 402,\n",
       " 403,\n",
       " 404,\n",
       " 405,\n",
       " 406,\n",
       " 407,\n",
       " 408,\n",
       " 409,\n",
       " 410,\n",
       " 411,\n",
       " 412,\n",
       " 413,\n",
       " 414,\n",
       " 415,\n",
       " 416,\n",
       " 417,\n",
       " 418,\n",
       " 419,\n",
       " 420,\n",
       " 421,\n",
       " 422,\n",
       " 423,\n",
       " 424,\n",
       " 425,\n",
       " 426,\n",
       " 427,\n",
       " 428,\n",
       " 429,\n",
       " 430,\n",
       " 431,\n",
       " 432,\n",
       " 433,\n",
       " 434,\n",
       " 435,\n",
       " 436,\n",
       " 437,\n",
       " 438,\n",
       " 439,\n",
       " 440,\n",
       " 441,\n",
       " 442,\n",
       " 443,\n",
       " 444,\n",
       " 445,\n",
       " 446,\n",
       " 447,\n",
       " 448,\n",
       " 449,\n",
       " 450,\n",
       " 451,\n",
       " 452,\n",
       " 453,\n",
       " 454,\n",
       " 455,\n",
       " 456,\n",
       " 457,\n",
       " 458,\n",
       " 459,\n",
       " 460,\n",
       " 461,\n",
       " 462,\n",
       " 463,\n",
       " 464,\n",
       " 465,\n",
       " 466,\n",
       " 467,\n",
       " 468,\n",
       " 469,\n",
       " 470,\n",
       " 471,\n",
       " 472,\n",
       " 473,\n",
       " 474,\n",
       " 475,\n",
       " 476,\n",
       " 477,\n",
       " 478,\n",
       " 479,\n",
       " 480,\n",
       " 481,\n",
       " 482,\n",
       " 483,\n",
       " 484,\n",
       " 485,\n",
       " 486,\n",
       " 487,\n",
       " 488,\n",
       " 489,\n",
       " 490,\n",
       " 491,\n",
       " 492,\n",
       " 493,\n",
       " 494,\n",
       " 495,\n",
       " 496,\n",
       " 497,\n",
       " 498,\n",
       " 499,\n",
       " 500,\n",
       " 501,\n",
       " 502,\n",
       " 503,\n",
       " 504,\n",
       " 505,\n",
       " 506,\n",
       " 507,\n",
       " 508,\n",
       " 509,\n",
       " 510,\n",
       " 511,\n",
       " 512,\n",
       " 513,\n",
       " 514,\n",
       " 515,\n",
       " 516,\n",
       " 517,\n",
       " 518,\n",
       " 519,\n",
       " 520,\n",
       " 521,\n",
       " 522,\n",
       " 523,\n",
       " 524,\n",
       " 525,\n",
       " 526,\n",
       " 527,\n",
       " 528,\n",
       " 529,\n",
       " 530,\n",
       " 531,\n",
       " 532,\n",
       " 533,\n",
       " 534,\n",
       " 535,\n",
       " 536,\n",
       " 537,\n",
       " 538,\n",
       " 539,\n",
       " 540,\n",
       " 541,\n",
       " 542,\n",
       " 543,\n",
       " 544,\n",
       " 545,\n",
       " 546,\n",
       " 547,\n",
       " 548,\n",
       " 549,\n",
       " 550,\n",
       " 551,\n",
       " 552,\n",
       " 553,\n",
       " 554,\n",
       " 555,\n",
       " 556,\n",
       " 557,\n",
       " 558,\n",
       " 559,\n",
       " 560,\n",
       " 561,\n",
       " 562,\n",
       " 563,\n",
       " 564,\n",
       " 565,\n",
       " 566,\n",
       " 567,\n",
       " 568,\n",
       " 569,\n",
       " 570,\n",
       " 571,\n",
       " 572,\n",
       " 573,\n",
       " 574,\n",
       " 575,\n",
       " 576,\n",
       " 577,\n",
       " 578,\n",
       " 579,\n",
       " 580,\n",
       " 581,\n",
       " 582,\n",
       " 583,\n",
       " 584,\n",
       " 585,\n",
       " 586,\n",
       " 587,\n",
       " 588,\n",
       " 589,\n",
       " 590,\n",
       " 591,\n",
       " 592,\n",
       " 593,\n",
       " 594,\n",
       " 595,\n",
       " 596,\n",
       " 597,\n",
       " 598,\n",
       " 599,\n",
       " 600,\n",
       " 601,\n",
       " 602,\n",
       " 603,\n",
       " 604,\n",
       " 605,\n",
       " 606,\n",
       " 607,\n",
       " 608,\n",
       " 609,\n",
       " 610,\n",
       " 611,\n",
       " 612,\n",
       " 613,\n",
       " 614,\n",
       " 615,\n",
       " 616,\n",
       " 617,\n",
       " 618,\n",
       " 619,\n",
       " 620,\n",
       " 621,\n",
       " 622,\n",
       " 623,\n",
       " 624,\n",
       " 625,\n",
       " 626,\n",
       " 627,\n",
       " 628,\n",
       " 629,\n",
       " 630,\n",
       " 631,\n",
       " 632,\n",
       " 633,\n",
       " 634,\n",
       " 635,\n",
       " 636,\n",
       " 637,\n",
       " 638,\n",
       " 639,\n",
       " 640,\n",
       " 641,\n",
       " 642,\n",
       " 643,\n",
       " 644,\n",
       " 645,\n",
       " 646,\n",
       " 647,\n",
       " 648,\n",
       " 649,\n",
       " 650,\n",
       " 651,\n",
       " 652,\n",
       " 653,\n",
       " 654,\n",
       " 655,\n",
       " 656,\n",
       " 657,\n",
       " 658,\n",
       " 659,\n",
       " 660,\n",
       " 661,\n",
       " 662,\n",
       " 663,\n",
       " 664,\n",
       " 665,\n",
       " 666,\n",
       " 667,\n",
       " 668,\n",
       " 669,\n",
       " 670,\n",
       " 671,\n",
       " 672,\n",
       " 673,\n",
       " 674,\n",
       " 675,\n",
       " 676,\n",
       " 677,\n",
       " 678,\n",
       " 679,\n",
       " 680,\n",
       " 681,\n",
       " 682,\n",
       " 683,\n",
       " 684,\n",
       " 685,\n",
       " 686,\n",
       " 687,\n",
       " 688,\n",
       " 689,\n",
       " 690,\n",
       " 691,\n",
       " 692,\n",
       " 693,\n",
       " 694,\n",
       " 695,\n",
       " 696,\n",
       " 697,\n",
       " 698,\n",
       " 699,\n",
       " 700,\n",
       " 701,\n",
       " 702,\n",
       " 703,\n",
       " 704,\n",
       " 705,\n",
       " 706,\n",
       " 707,\n",
       " 708,\n",
       " 709,\n",
       " 710,\n",
       " 711,\n",
       " 712,\n",
       " 713,\n",
       " 714,\n",
       " 715,\n",
       " 716,\n",
       " 717,\n",
       " 718,\n",
       " 719,\n",
       " 720,\n",
       " 721,\n",
       " 722,\n",
       " 723,\n",
       " 724,\n",
       " 725,\n",
       " 726,\n",
       " 727,\n",
       " 728,\n",
       " 729,\n",
       " 730,\n",
       " 731,\n",
       " 732,\n",
       " 733,\n",
       " 734,\n",
       " 735,\n",
       " 736,\n",
       " 737,\n",
       " 738,\n",
       " 739,\n",
       " 740,\n",
       " 741,\n",
       " 742,\n",
       " 743,\n",
       " 744,\n",
       " 745,\n",
       " 746,\n",
       " 747,\n",
       " 748,\n",
       " 749,\n",
       " 750,\n",
       " 751,\n",
       " 752,\n",
       " 753,\n",
       " 754,\n",
       " 755,\n",
       " 756,\n",
       " 757,\n",
       " 758,\n",
       " 759,\n",
       " 760,\n",
       " 761,\n",
       " 762,\n",
       " 763,\n",
       " 764,\n",
       " 765,\n",
       " 766,\n",
       " 767,\n",
       " 768,\n",
       " 769,\n",
       " 770,\n",
       " 771,\n",
       " 772,\n",
       " 773,\n",
       " 774,\n",
       " 775,\n",
       " 776,\n",
       " 777,\n",
       " 778,\n",
       " 779,\n",
       " 780,\n",
       " 781,\n",
       " 782,\n",
       " 783,\n",
       " 784,\n",
       " 785,\n",
       " 786,\n",
       " 787,\n",
       " 788,\n",
       " 789,\n",
       " 790,\n",
       " 791,\n",
       " 792,\n",
       " 793,\n",
       " 794,\n",
       " 795,\n",
       " 796,\n",
       " 797,\n",
       " 798,\n",
       " 799,\n",
       " 800,\n",
       " 801,\n",
       " 802,\n",
       " 803,\n",
       " 804,\n",
       " 805,\n",
       " 806,\n",
       " 807,\n",
       " 808,\n",
       " 809,\n",
       " 810,\n",
       " 811,\n",
       " 812,\n",
       " 813,\n",
       " 814,\n",
       " 815,\n",
       " 816,\n",
       " 817,\n",
       " 818,\n",
       " 819,\n",
       " 820,\n",
       " 821,\n",
       " 822,\n",
       " 823,\n",
       " 824,\n",
       " 825,\n",
       " 826,\n",
       " 827,\n",
       " 828,\n",
       " 829,\n",
       " 830,\n",
       " 831,\n",
       " 832,\n",
       " 833,\n",
       " 834,\n",
       " 835,\n",
       " 836,\n",
       " 837,\n",
       " 838,\n",
       " 839,\n",
       " 840,\n",
       " 841,\n",
       " 842,\n",
       " 843,\n",
       " 844,\n",
       " 845,\n",
       " 846,\n",
       " 847,\n",
       " 848,\n",
       " 849,\n",
       " 850,\n",
       " 851,\n",
       " 852,\n",
       " 853,\n",
       " 854,\n",
       " 855,\n",
       " 856,\n",
       " 857,\n",
       " 858,\n",
       " 859,\n",
       " 860,\n",
       " 861,\n",
       " 862,\n",
       " 863,\n",
       " 864,\n",
       " 865,\n",
       " 866,\n",
       " 867,\n",
       " 868,\n",
       " 869,\n",
       " 870,\n",
       " 871,\n",
       " 872,\n",
       " 873,\n",
       " 874,\n",
       " 875,\n",
       " 876,\n",
       " 877,\n",
       " 878,\n",
       " 879,\n",
       " 880,\n",
       " 881,\n",
       " 882,\n",
       " 883,\n",
       " 884,\n",
       " 885,\n",
       " 886,\n",
       " 887,\n",
       " 888,\n",
       " 889,\n",
       " 890,\n",
       " 891,\n",
       " 892,\n",
       " 893,\n",
       " 894,\n",
       " 895,\n",
       " 896,\n",
       " 897,\n",
       " 898,\n",
       " 899,\n",
       " 900,\n",
       " 901,\n",
       " 902,\n",
       " 903,\n",
       " 904,\n",
       " 905,\n",
       " 906,\n",
       " 907,\n",
       " 908,\n",
       " 909,\n",
       " 910,\n",
       " 911,\n",
       " 912,\n",
       " 913,\n",
       " 914,\n",
       " 915,\n",
       " 916,\n",
       " 917,\n",
       " 918,\n",
       " 919,\n",
       " 920,\n",
       " 921,\n",
       " 922,\n",
       " 923,\n",
       " 924,\n",
       " 925,\n",
       " 926,\n",
       " 927,\n",
       " 928,\n",
       " 929,\n",
       " 930,\n",
       " 931,\n",
       " 932,\n",
       " 933,\n",
       " 934,\n",
       " 935,\n",
       " 936,\n",
       " 937,\n",
       " 938,\n",
       " 939,\n",
       " 940,\n",
       " 941,\n",
       " 942,\n",
       " 943,\n",
       " 944,\n",
       " 945,\n",
       " 946,\n",
       " 947,\n",
       " 948,\n",
       " 949,\n",
       " 950,\n",
       " 951,\n",
       " 952,\n",
       " 953,\n",
       " 954,\n",
       " 955,\n",
       " 956,\n",
       " 957,\n",
       " 958,\n",
       " 959,\n",
       " 960,\n",
       " 961,\n",
       " 962,\n",
       " 963,\n",
       " 964,\n",
       " 965,\n",
       " 966,\n",
       " 967,\n",
       " 968,\n",
       " 969,\n",
       " 970,\n",
       " 971,\n",
       " 972,\n",
       " 973,\n",
       " 974,\n",
       " 975,\n",
       " 976,\n",
       " 977,\n",
       " 978,\n",
       " 979,\n",
       " 980,\n",
       " 981,\n",
       " 982,\n",
       " 983,\n",
       " 984,\n",
       " 985,\n",
       " 986,\n",
       " 987,\n",
       " 988,\n",
       " 989,\n",
       " 990,\n",
       " 991,\n",
       " 992,\n",
       " 993,\n",
       " 994,\n",
       " 995,\n",
       " 996,\n",
       " 997,\n",
       " 998,\n",
       " 999,\n",
       " ...]"
      ]
     },
     "execution_count": 68,
     "metadata": {},
     "output_type": "execute_result"
    }
   ],
   "source": [
    "l = list(range(100000))\n",
    "l"
   ]
  },
  {
   "cell_type": "code",
   "execution_count": null,
   "id": "64881316",
   "metadata": {
    "id": "64881316",
    "outputId": "c999f126-9919-4343-edfb-0599fa15b856"
   },
   "outputs": [
    {
     "data": {
      "text/plain": [
       "array([    0,     1,     2, ..., 99997, 99998, 99999])"
      ]
     },
     "execution_count": 69,
     "metadata": {},
     "output_type": "execute_result"
    }
   ],
   "source": [
    "import numpy as np\n",
    "a = np.arange(100000)\n",
    "a"
   ]
  },
  {
   "cell_type": "code",
   "execution_count": null,
   "id": "7d3d15af",
   "metadata": {
    "id": "7d3d15af",
    "outputId": "283e9e66-986b-4722-a993-00a8cd8b1650"
   },
   "outputs": [
    {
     "name": "stdout",
     "output_type": "stream",
     "text": [
      "CPU times: user 647 µs, sys: 438 µs, total: 1.08 ms\n",
      "Wall time: 433 µs\n"
     ]
    },
    {
     "data": {
      "text/plain": [
       "333328333350000"
      ]
     },
     "execution_count": 70,
     "metadata": {},
     "output_type": "execute_result"
    }
   ],
   "source": [
    "%time np.sum(a ** 2) # Numpy is much faster"
   ]
  },
  {
   "cell_type": "code",
   "execution_count": null,
   "id": "f126eb38",
   "metadata": {
    "id": "f126eb38",
    "outputId": "5647d34b-6f7e-4b31-cfbb-aeaced47fd6e"
   },
   "outputs": [
    {
     "name": "stdout",
     "output_type": "stream",
     "text": [
      "CPU times: user 43.5 ms, sys: 7.21 ms, total: 50.7 ms\n",
      "Wall time: 26.5 ms\n"
     ]
    },
    {
     "data": {
      "text/plain": [
       "333328333350000"
      ]
     },
     "execution_count": 71,
     "metadata": {},
     "output_type": "execute_result"
    }
   ],
   "source": [
    "%time sum([x ** 2 for x in l])"
   ]
  },
  {
   "cell_type": "markdown",
   "id": "1db0ce8a",
   "metadata": {
    "id": "1db0ce8a"
   },
   "source": [
    "# Useful Numpy functions\n",
    "\n",
    "### `random` "
   ]
  },
  {
   "cell_type": "code",
   "execution_count": null,
   "id": "be6f479d",
   "metadata": {
    "id": "be6f479d",
    "outputId": "b3c27851-a847-4aa6-fb30-daf199f8d2b2"
   },
   "outputs": [
    {
     "data": {
      "text/plain": [
       "array([0.66018062, 0.61165426])"
      ]
     },
     "execution_count": 72,
     "metadata": {},
     "output_type": "execute_result"
    }
   ],
   "source": [
    "np.random.random(size=2)\n",
    "# Return random floats in the half-open interval [0.0, 1.0).\n",
    "# Results are from the “continuous uniform” distribution over the stated interval."
   ]
  },
  {
   "cell_type": "code",
   "execution_count": null,
   "id": "bbd8beb2",
   "metadata": {
    "id": "bbd8beb2",
    "outputId": "50cadc59-ddc2-4cac-8bf6-8163f1e75480"
   },
   "outputs": [
    {
     "data": {
      "text/plain": [
       "array([-0.50271929, -0.89775109])"
      ]
     },
     "execution_count": 73,
     "metadata": {},
     "output_type": "execute_result"
    }
   ],
   "source": [
    "np.random.normal(size=2)\n",
    "# creates an array of specified shape and fills it with random values which \n",
    "# is actually a part of Normal(Gaussian)Distribution. \n",
    "# This is Distribution is also known as Bell Curve because of its characteristics shape.\n",
    "\n",
    "# https://www.geeksforgeeks.org/rand-vs-normal-numpy-random-python/"
   ]
  },
  {
   "cell_type": "code",
   "execution_count": null,
   "id": "e9a50efb",
   "metadata": {
    "id": "e9a50efb",
    "outputId": "c1e0654e-3738-4874-84d4-7367722383a7"
   },
   "outputs": [
    {
     "data": {
      "text/plain": [
       "array([[0.03095338, 0.94749641, 0.37644835, 0.53019146],\n",
       "       [0.62435959, 0.41807392, 0.60394879, 0.62182976]])"
      ]
     },
     "execution_count": 74,
     "metadata": {},
     "output_type": "execute_result"
    }
   ],
   "source": [
    "np.random.rand(2, 4)"
   ]
  },
  {
   "cell_type": "markdown",
   "id": "7486b597",
   "metadata": {
    "id": "7486b597"
   },
   "source": [
    "### `linspace`\n",
    "\n",
    "the `linspace()` function generates an array with evenly spaced values between specified start, end values, using a specified number of elements"
   ]
  },
  {
   "cell_type": "code",
   "execution_count": null,
   "id": "5b982bac",
   "metadata": {
    "id": "5b982bac",
    "outputId": "68bac5ce-8e1f-45ef-f92f-83846b3cb748"
   },
   "outputs": [
    {
     "data": {
      "text/plain": [
       "array([0.  , 0.25, 0.5 , 0.75, 1.  ])"
      ]
     },
     "execution_count": 75,
     "metadata": {},
     "output_type": "execute_result"
    }
   ],
   "source": [
    "np.linspace(0, 1, 5)"
   ]
  },
  {
   "cell_type": "code",
   "execution_count": null,
   "id": "1bf54867",
   "metadata": {
    "id": "1bf54867",
    "outputId": "624b3b46-318a-4294-93e8-acbbfe992818"
   },
   "outputs": [
    {
     "data": {
      "text/plain": [
       "array([0.        , 0.05263158, 0.10526316, 0.15789474, 0.21052632,\n",
       "       0.26315789, 0.31578947, 0.36842105, 0.42105263, 0.47368421,\n",
       "       0.52631579, 0.57894737, 0.63157895, 0.68421053, 0.73684211,\n",
       "       0.78947368, 0.84210526, 0.89473684, 0.94736842, 1.        ])"
      ]
     },
     "execution_count": 76,
     "metadata": {},
     "output_type": "execute_result"
    }
   ],
   "source": [
    "np.linspace(0, 1, 20)\n",
    "# 20 points equally spaced between 0 and 1"
   ]
  },
  {
   "cell_type": "code",
   "execution_count": null,
   "id": "ce7064fc",
   "metadata": {
    "id": "ce7064fc",
    "outputId": "2856b665-ecbb-4ed7-9072-420afaf7b044"
   },
   "outputs": [
    {
     "data": {
      "text/plain": [
       "array([0.  , 0.05, 0.1 , 0.15, 0.2 , 0.25, 0.3 , 0.35, 0.4 , 0.45, 0.5 ,\n",
       "       0.55, 0.6 , 0.65, 0.7 , 0.75, 0.8 , 0.85, 0.9 , 0.95])"
      ]
     },
     "execution_count": 77,
     "metadata": {},
     "output_type": "execute_result"
    }
   ],
   "source": [
    "np.linspace(0, 1, 20, False)\n",
    "# 20 points Unequally spaced between 0 and 1"
   ]
  },
  {
   "cell_type": "markdown",
   "id": "80fab194",
   "metadata": {
    "id": "80fab194"
   },
   "source": [
    "---\n",
    "### `identity` and `eye`"
   ]
  },
  {
   "cell_type": "code",
   "execution_count": null,
   "id": "8f415f4b",
   "metadata": {
    "id": "8f415f4b",
    "outputId": "eba6f5ea-7843-41b1-9961-b9826e730332"
   },
   "outputs": [
    {
     "data": {
      "text/plain": [
       "array([[1., 0., 0.],\n",
       "       [0., 1., 0.],\n",
       "       [0., 0., 1.]])"
      ]
     },
     "execution_count": 78,
     "metadata": {},
     "output_type": "execute_result"
    }
   ],
   "source": [
    "np.identity(3)"
   ]
  },
  {
   "cell_type": "code",
   "execution_count": null,
   "id": "02e9e8ef",
   "metadata": {
    "id": "02e9e8ef",
    "outputId": "dba13c91-458d-40bc-f4d0-da5302927eb1"
   },
   "outputs": [
    {
     "data": {
      "text/plain": [
       "array([[1., 0., 0.],\n",
       "       [0., 1., 0.],\n",
       "       [0., 0., 1.]])"
      ]
     },
     "execution_count": 79,
     "metadata": {},
     "output_type": "execute_result"
    }
   ],
   "source": [
    "np.eye(3, 3)\n",
    "\n",
    "# The main difference is that with eye the diagonal can may be offset, \n",
    "# whereas identity only fills the main diagonal\n",
    "\n",
    "# https://stackoverflow.com/questions/28363447/what-are-the-advantages-of-using-numpy-identity-over-numpy-eye"
   ]
  },
  {
   "cell_type": "code",
   "execution_count": null,
   "id": "f0a22a9e",
   "metadata": {
    "id": "f0a22a9e",
    "outputId": "ab858c0a-5c87-4447-f8b1-55b30e6f626b"
   },
   "outputs": [
    {
     "data": {
      "text/plain": [
       "array([[1., 0., 0., 0.],\n",
       "       [0., 1., 0., 0.],\n",
       "       [0., 0., 1., 0.],\n",
       "       [0., 0., 0., 1.],\n",
       "       [0., 0., 0., 0.],\n",
       "       [0., 0., 0., 0.],\n",
       "       [0., 0., 0., 0.],\n",
       "       [0., 0., 0., 0.]])"
      ]
     },
     "execution_count": 80,
     "metadata": {},
     "output_type": "execute_result"
    }
   ],
   "source": [
    "np.eye(8, 4)"
   ]
  },
  {
   "cell_type": "code",
   "execution_count": null,
   "id": "560ae00e",
   "metadata": {
    "id": "560ae00e",
    "outputId": "427de721-1269-434f-b2ad-0e2ca73c4290"
   },
   "outputs": [
    {
     "data": {
      "text/plain": [
       "array([[0., 1., 0., 0.],\n",
       "       [0., 0., 1., 0.],\n",
       "       [0., 0., 0., 1.],\n",
       "       [0., 0., 0., 0.],\n",
       "       [0., 0., 0., 0.],\n",
       "       [0., 0., 0., 0.],\n",
       "       [0., 0., 0., 0.],\n",
       "       [0., 0., 0., 0.]])"
      ]
     },
     "execution_count": 81,
     "metadata": {},
     "output_type": "execute_result"
    }
   ],
   "source": [
    "np.eye(8, 4, k=1)"
   ]
  },
  {
   "cell_type": "code",
   "execution_count": null,
   "id": "d4029315",
   "metadata": {
    "id": "d4029315",
    "outputId": "c3fa99d9-e560-4fe4-cebc-66c5306165c1"
   },
   "outputs": [
    {
     "data": {
      "text/plain": [
       "array([[0., 0., 0., 0.],\n",
       "       [0., 0., 0., 0.],\n",
       "       [0., 0., 0., 0.],\n",
       "       [1., 0., 0., 0.],\n",
       "       [0., 1., 0., 0.],\n",
       "       [0., 0., 1., 0.],\n",
       "       [0., 0., 0., 1.],\n",
       "       [0., 0., 0., 0.]])"
      ]
     },
     "execution_count": 82,
     "metadata": {},
     "output_type": "execute_result"
    }
   ],
   "source": [
    "np.eye(8, 4, k=-3)"
   ]
  },
  {
   "cell_type": "code",
   "execution_count": null,
   "id": "d323471a",
   "metadata": {
    "id": "d323471a"
   },
   "outputs": [],
   "source": []
  },
  {
   "cell_type": "code",
   "execution_count": null,
   "id": "bac281d0",
   "metadata": {
    "id": "bac281d0",
    "outputId": "efa535a9-c9a4-4369-bcba-6b3bfc754f2b"
   },
   "outputs": [
    {
     "data": {
      "text/plain": [
       "array([ 3,  4,  5,  6,  7,  8,  9, 10, 11, 12, 13, 14, 15, 16, 17, 18])"
      ]
     },
     "execution_count": 83,
     "metadata": {},
     "output_type": "execute_result"
    }
   ],
   "source": [
    "np.arange(3,19)"
   ]
  },
  {
   "cell_type": "code",
   "execution_count": null,
   "id": "38e7de92",
   "metadata": {
    "id": "38e7de92",
    "outputId": "cc9d4f23-461f-4677-ca09-3ffd472da4b7"
   },
   "outputs": [
    {
     "name": "stdout",
     "output_type": "stream",
     "text": [
      "[[ 3  4  5  6]\n",
      " [ 7  8  9 10]\n",
      " [11 12 13 14]\n",
      " [15 16 17 18]]\n"
     ]
    }
   ],
   "source": [
    "arr = np.arange(3,19).reshape(4,4)\n",
    "print(arr)"
   ]
  },
  {
   "cell_type": "code",
   "execution_count": null,
   "id": "777fa6ca",
   "metadata": {
    "id": "777fa6ca",
    "outputId": "c46c33fc-fc02-4035-ede7-dc2e54071885"
   },
   "outputs": [
    {
     "data": {
      "text/plain": [
       "array([ 3,  4,  5,  6,  7,  8,  9, 10, 11, 12, 13, 14, 15, 16, 17, 18])"
      ]
     },
     "execution_count": 85,
     "metadata": {},
     "output_type": "execute_result"
    }
   ],
   "source": [
    "# to flatten the numpy array\n",
    "arr.flatten()"
   ]
  },
  {
   "cell_type": "markdown",
   "id": "2eac0492",
   "metadata": {
    "id": "2eac0492"
   },
   "source": [
    "There are two ways to flatten a matrix depending on the data type. For Numpy arrays, we use np.array.flatten() command; for non-array matrices, we use matrix.ravel(). Please try it out."
   ]
  },
  {
   "cell_type": "markdown",
   "id": "05cc6702",
   "metadata": {
    "id": "05cc6702"
   },
   "source": [
    "The numpy module of Python provides a function called numpy.ravel, which is used to change a 2-dimensional array or a multi-dimensional array into a contiguous flattened array. The returned array has the same data type as the source array or input array. If the input array is a masked array, the returned array will also be a masked array."
   ]
  },
  {
   "cell_type": "raw",
   "id": "7df29959",
   "metadata": {
    "id": "7df29959"
   },
   "source": [
    "Syntax:\n",
    "numpy.ravel(x, order='C')  \n",
    "Parameters:\n",
    "x: array_like\n",
    "\n",
    "This parameter defines the input array, which we want to change in a contiguous flattened array. The array elements are read in the order specified by the order parameter and packed as a 1-D array.\n",
    "\n",
    "order: {'C','F', 'A', 'K'}(optional)\n",
    "\n",
    "If we set the order parameter to 'C', it means that the array gets flattened in row-major order. If 'F' is set, the array gets flattened in column-major order. The array is flattened in column-major order only when 'A' is Fortran contiguous in memory, and when we set the order parameter to 'A'. The last order is 'K', which flatten the array in same order in which the elements occurred in the memory. By default, this parameter is set to 'C'.\n",
    "\n",
    "Returns:\n",
    "This function returns a contiguous flatten array with the same data type as an input array and has shape equal to (x.size)."
   ]
  },
  {
   "cell_type": "code",
   "execution_count": null,
   "id": "fa4a9f4e",
   "metadata": {
    "id": "fa4a9f4e",
    "outputId": "45a7b4b3-77fa-45c3-d50b-7563dd3b8881"
   },
   "outputs": [
    {
     "data": {
      "text/plain": [
       "array([[ 3,  4,  5,  6],\n",
       "       [ 7,  8,  9, 10],\n",
       "       [11, 12, 13, 14],\n",
       "       [15, 16, 17, 18]])"
      ]
     },
     "execution_count": 86,
     "metadata": {},
     "output_type": "execute_result"
    }
   ],
   "source": [
    "arr"
   ]
  },
  {
   "cell_type": "code",
   "execution_count": null,
   "id": "ebca126c",
   "metadata": {
    "id": "ebca126c",
    "outputId": "1e2bb088-7b83-4b20-dbc6-12a07109cd04"
   },
   "outputs": [
    {
     "name": "stdout",
     "output_type": "stream",
     "text": [
      "[ 3  4  5  6  7  8  9 10 11 12 13 14 15 16 17 18]\n"
     ]
    }
   ],
   "source": [
    "arr_ravel = np.ravel(arr)  \n",
    "print(arr_ravel)"
   ]
  },
  {
   "cell_type": "code",
   "execution_count": null,
   "id": "12fa6dbc",
   "metadata": {
    "id": "12fa6dbc",
    "outputId": "4f0fe818-b1d5-4d1f-b09b-49b4958b6d59",
    "scrolled": true
   },
   "outputs": [
    {
     "data": {
      "text/plain": [
       "array([ 3,  4,  5,  6,  7,  8,  9, 10, 11, 12, 13, 14, 15, 16, 17, 18])"
      ]
     },
     "execution_count": 88,
     "metadata": {},
     "output_type": "execute_result"
    }
   ],
   "source": [
    " np.ravel(arr, order='C')"
   ]
  },
  {
   "cell_type": "code",
   "execution_count": null,
   "id": "338c728b",
   "metadata": {
    "id": "338c728b",
    "outputId": "28ba7e4e-b83c-438d-dde5-0264cf115383"
   },
   "outputs": [
    {
     "data": {
      "text/plain": [
       "array([ 3,  7, 11, 15,  4,  8, 12, 16,  5,  9, 13, 17,  6, 10, 14, 18])"
      ]
     },
     "execution_count": 89,
     "metadata": {},
     "output_type": "execute_result"
    }
   ],
   "source": [
    " np.ravel(arr, order='F')"
   ]
  },
  {
   "cell_type": "markdown",
   "id": "11d33899",
   "metadata": {
    "id": "11d33899"
   },
   "source": [
    "##  Joining and Stacking\n",
    "\n",
    "- Vertical stacking (row wise) using vstack()\n",
    "- Horizontal stacking (column wise) using hstack()\n",
    "- Depth wise stacking (along third axis) using dstack()\n",
    "- concatenate() function creates a new array by appending arrays after each other, along a given axis\n",
    "- append() function appends an element to an array and creates a new copy of the array"
   ]
  },
  {
   "cell_type": "code",
   "execution_count": null,
   "id": "14e09cc1",
   "metadata": {
    "id": "14e09cc1",
    "outputId": "a88250bc-ed1b-42ac-9976-c4ac06ab736c"
   },
   "outputs": [
    {
     "name": "stdout",
     "output_type": "stream",
     "text": [
      "[[0 1 2 3 4]\n",
      " [5 6 7 8 9]]\n",
      "------------------------------\n",
      "[[13 14 15 16 17]\n",
      " [18 19 20 21 22]]\n"
     ]
    }
   ],
   "source": [
    "import numpy as np\n",
    "\n",
    "\n",
    "array_1 = np.arange(10).reshape(2,5)\n",
    "print(array_1)\n",
    "\n",
    "print(\"-\"*30)\n",
    "\n",
    "array_2 = np.arange(13,23,1).reshape(2,5)\n",
    "print(array_2)"
   ]
  },
  {
   "cell_type": "code",
   "execution_count": null,
   "id": "030dbf27",
   "metadata": {
    "id": "030dbf27",
    "outputId": "a9d76cb7-9d95-4e16-bba3-ee27e098f267"
   },
   "outputs": [
    {
     "name": "stdout",
     "output_type": "stream",
     "text": [
      "[[ 0  1  2  3  4]\n",
      " [ 5  6  7  8  9]\n",
      " [13 14 15 16 17]\n",
      " [18 19 20 21 22]]\n",
      "\n",
      "(4, 5)\n"
     ]
    }
   ],
   "source": [
    "array_vstack = np.vstack([array_1,array_2])\n",
    "print(array_vstack)\n",
    "print()\n",
    "print(array_vstack.shape)"
   ]
  },
  {
   "cell_type": "code",
   "execution_count": null,
   "id": "34a940af",
   "metadata": {
    "id": "34a940af",
    "outputId": "5789f5c3-e8b3-4d1c-a95e-456bc5f35603"
   },
   "outputs": [
    {
     "name": "stdout",
     "output_type": "stream",
     "text": [
      "[[ 0  1  2  3  4 13 14 15 16 17]\n",
      " [ 5  6  7  8  9 18 19 20 21 22]]\n",
      "\n",
      "(2, 10)\n"
     ]
    }
   ],
   "source": [
    "array_hstack = np.hstack([array_1,array_2])\n",
    "print(array_hstack)\n",
    "print()\n",
    "print(array_hstack.shape)"
   ]
  },
  {
   "cell_type": "code",
   "execution_count": null,
   "id": "c516e09a",
   "metadata": {
    "id": "c516e09a",
    "outputId": "ce1eed04-6efc-40af-a22b-e5e4b1a74bc9"
   },
   "outputs": [
    {
     "name": "stdout",
     "output_type": "stream",
     "text": [
      "[[[ 0 13]\n",
      "  [ 1 14]\n",
      "  [ 2 15]\n",
      "  [ 3 16]\n",
      "  [ 4 17]]\n",
      "\n",
      " [[ 5 18]\n",
      "  [ 6 19]\n",
      "  [ 7 20]\n",
      "  [ 8 21]\n",
      "  [ 9 22]]]\n",
      "(2, 5, 2)\n"
     ]
    }
   ],
   "source": [
    "array_dstack = np.dstack([array_1,array_2])\n",
    "print(array_dstack)\n",
    "print(array_dstack.shape) # two sets of 5x2 matrices"
   ]
  },
  {
   "cell_type": "code",
   "execution_count": null,
   "id": "bf8619ea",
   "metadata": {
    "id": "bf8619ea",
    "outputId": "bb96fc3f-6c9c-4b61-f561-5f3ae769f7f4"
   },
   "outputs": [
    {
     "name": "stdout",
     "output_type": "stream",
     "text": [
      "[[ 0  1  2  3  4]\n",
      " [ 5  6  7  8  9]\n",
      " [13 14 15 16 17]\n",
      " [18 19 20 21 22]]\n",
      "(4, 5)\n"
     ]
    }
   ],
   "source": [
    "array_concatenate = np.concatenate([array_1,array_2])\n",
    "print(array_concatenate)\n",
    "print(array_concatenate.shape) # same as vstack"
   ]
  },
  {
   "cell_type": "code",
   "execution_count": null,
   "id": "69829dd5",
   "metadata": {
    "id": "69829dd5",
    "outputId": "305dc7de-cfe0-446f-82f2-0b2f8971c638"
   },
   "outputs": [
    {
     "name": "stdout",
     "output_type": "stream",
     "text": [
      "[ 0  1  2  3  4  5  6  7  8  9 13 14 15 16 17 18 19 20 21 22]\n",
      "(20,)\n"
     ]
    }
   ],
   "source": [
    "array_append = np.append(array_1,array_2)\n",
    "print(array_append)\n",
    "print(array_append.shape)"
   ]
  },
  {
   "cell_type": "code",
   "execution_count": null,
   "id": "501e830c",
   "metadata": {
    "id": "501e830c",
    "outputId": "22814f7a-e2e0-4aba-c0a5-addbb303c431"
   },
   "outputs": [
    {
     "name": "stdout",
     "output_type": "stream",
     "text": [
      "[[ 0  1  2  3  4 13 14 15 16 17]\n",
      " [ 5  6  7  8  9 18 19 20 21 22]]\n",
      "(2, 10)\n"
     ]
    }
   ],
   "source": [
    "array_append = np.append(array_1,array_2,axis =1)\n",
    "print(array_append)\n",
    "print(array_append.shape)"
   ]
  },
  {
   "cell_type": "code",
   "execution_count": null,
   "id": "135e989e",
   "metadata": {
    "id": "135e989e",
    "outputId": "dcce51ca-43cb-4212-889e-b9d1a17bffd5"
   },
   "outputs": [
    {
     "name": "stdout",
     "output_type": "stream",
     "text": [
      "[[ 0  1  2  3  4]\n",
      " [ 5  6  7  8  9]\n",
      " [13 14 15 16 17]\n",
      " [18 19 20 21 22]]\n",
      "(4, 5)\n"
     ]
    }
   ],
   "source": [
    "array_append = np.append(array_1,array_2,axis = 0)\n",
    "print(array_append)\n",
    "print(array_append.shape)"
   ]
  },
  {
   "cell_type": "markdown",
   "id": "eba41879",
   "metadata": {
    "id": "eba41879"
   },
   "source": [
    "## Updating using where(  )\n",
    "\n",
    "- `where()` function is used to choose values from arrays depending on the value of a specific condition"
   ]
  },
  {
   "cell_type": "code",
   "execution_count": null,
   "id": "54947670",
   "metadata": {
    "id": "54947670",
    "outputId": "887a5fc3-a0f9-4bba-87fa-09e8fd0527fe"
   },
   "outputs": [
    {
     "name": "stdout",
     "output_type": "stream",
     "text": [
      "[[-10  -9  -8  -7  -6]\n",
      " [ -5  -4  -3  -2  -1]]\n"
     ]
    }
   ],
   "source": [
    "print(np.where(array_1 > 15, array_1+10, array_1 -10))"
   ]
  },
  {
   "cell_type": "code",
   "execution_count": null,
   "id": "9aa3c37d",
   "metadata": {
    "id": "9aa3c37d",
    "outputId": "41a7d3c2-af03-48b8-e395-0fc3ec81ac37"
   },
   "outputs": [
    {
     "name": "stdout",
     "output_type": "stream",
     "text": [
      "[[-10  -9  -8  -7  -6]\n",
      " [ -5  -4  -3  -2  -1]]\n"
     ]
    }
   ],
   "source": [
    "new_array = np.where(array_1 > 15, array_1+10, array_1 -10)\n",
    "print(new_array)"
   ]
  },
  {
   "cell_type": "code",
   "execution_count": null,
   "id": "4f319009",
   "metadata": {
    "id": "4f319009",
    "outputId": "39fe63a9-1e1f-416f-a349-163e80a64f97"
   },
   "outputs": [
    {
     "name": "stdout",
     "output_type": "stream",
     "text": [
      "[[10 11 12 13 14]\n",
      " [15 16 17 18 19]]\n"
     ]
    }
   ],
   "source": [
    "new_array = np.where(array_1 < 15, array_1+10, array_1 -10)\n",
    "print(new_array)"
   ]
  },
  {
   "cell_type": "code",
   "execution_count": null,
   "id": "043dffcb",
   "metadata": {
    "id": "043dffcb",
    "outputId": "6a7f0e85-5329-456c-8ba1-32d1f9494a3c"
   },
   "outputs": [
    {
     "name": "stdout",
     "output_type": "stream",
     "text": [
      "[[-10.  -9.  -8.  -7.  -6.]\n",
      " [ -5.  -4.  -3.  -2.  -1.]]\n"
     ]
    }
   ],
   "source": [
    "new_array = np.where(array_1 > 15, array_1/10, array_1 -10)\n",
    "print(new_array)"
   ]
  },
  {
   "cell_type": "code",
   "execution_count": null,
   "id": "e59913cc",
   "metadata": {
    "id": "e59913cc",
    "outputId": "72041b2e-4321-48b8-e085-cc2b74314d76"
   },
   "outputs": [
    {
     "name": "stdout",
     "output_type": "stream",
     "text": [
      "[[0.  0.1 0.2 0.3 0.4]\n",
      " [0.5 0.6 0.7 0.8 0.9]]\n"
     ]
    }
   ],
   "source": [
    "new_array = np.where(array_1 < 15, array_1/10, array_1 *10)\n",
    "print(new_array)"
   ]
  },
  {
   "cell_type": "markdown",
   "id": "8570fc6f",
   "metadata": {
    "id": "8570fc6f"
   },
   "source": [
    "# Random module inside numpy"
   ]
  },
  {
   "cell_type": "code",
   "execution_count": null,
   "id": "b40cad11",
   "metadata": {
    "id": "b40cad11",
    "outputId": "420141ab-6768-430b-92f3-122ec8522772"
   },
   "outputs": [
    {
     "name": "stdout",
     "output_type": "stream",
     "text": [
      "[0.02648591 0.07949309 0.69346026 0.65426288 0.42580973 0.61428745\n",
      " 0.51666877 0.39092652 0.25598775 0.58122075 0.40308928 0.15653504\n",
      " 0.81536677 0.35595763 0.97069417 0.95319197 0.96378117 0.00484503\n",
      " 0.92311215 0.97681063 0.11998293 0.75567107 0.84043794 0.03125893\n",
      " 0.0121875 ]\n",
      "\n",
      " (25,)\n"
     ]
    }
   ],
   "source": [
    "arr= np.random.rand(25)\n",
    "print(arr)\n",
    "print(\"\\n\",arr.shape)"
   ]
  },
  {
   "cell_type": "code",
   "execution_count": null,
   "id": "4ea39452",
   "metadata": {
    "id": "4ea39452",
    "outputId": "e34410ed-c5ff-4a86-e912-414083e01742"
   },
   "outputs": [
    {
     "data": {
      "text/plain": [
       "array([0.77759462, 0.73145213, 0.35470258, 0.06077032, 0.29483799,\n",
       "       0.65242996, 0.24804329, 0.56935328, 0.76467448, 0.94444376])"
      ]
     },
     "execution_count": 104,
     "metadata": {},
     "output_type": "execute_result"
    }
   ],
   "source": [
    "np.random.rand(10)  #= > 0,1"
   ]
  },
  {
   "cell_type": "code",
   "execution_count": null,
   "id": "0f3845b5",
   "metadata": {
    "id": "0f3845b5",
    "outputId": "41236f13-5be3-454f-fda9-b8f57ee48413"
   },
   "outputs": [
    {
     "data": {
      "text/plain": [
       "array([ 0.13039   , -2.0450914 ,  0.32724074, -0.58530526,  1.22687616,\n",
       "       -1.64717997, -0.69353576, -0.79043953,  0.68133706,  1.4045158 ])"
      ]
     },
     "execution_count": 105,
     "metadata": {},
     "output_type": "execute_result"
    }
   ],
   "source": [
    "np.random.randn(10)  # => -3,3"
   ]
  },
  {
   "cell_type": "code",
   "execution_count": null,
   "id": "c7468f55",
   "metadata": {
    "id": "c7468f55",
    "outputId": "d0742f38-2010-4178-cb41-5481fd5efc83"
   },
   "outputs": [
    {
     "data": {
      "text/plain": [
       "array([[5, 9, 5, 5, 4],\n",
       "       [9, 3, 3, 7, 7],\n",
       "       [2, 3, 6, 9, 8],\n",
       "       [8, 5, 9, 6, 7],\n",
       "       [6, 8, 2, 9, 2]])"
      ]
     },
     "execution_count": 106,
     "metadata": {},
     "output_type": "execute_result"
    }
   ],
   "source": [
    "np.random.randint(2,10, size =(5,5) ) # integers"
   ]
  },
  {
   "cell_type": "code",
   "execution_count": null,
   "id": "46a85335",
   "metadata": {
    "id": "46a85335",
    "outputId": "f4523d74-d817-4e1e-939c-f81b017e318c"
   },
   "outputs": [
    {
     "data": {
      "text/plain": [
       "array([[0.17285423, 0.026028  , 0.33236767, 0.52846187, 0.76318166],\n",
       "       [0.29671888, 0.39500774, 0.70588338, 0.67403993, 0.71168427],\n",
       "       [0.55076588, 0.99500902, 0.93852246, 0.65078213, 0.41884038],\n",
       "       [0.14255673, 0.70362318, 0.7397618 , 0.86336232, 0.99846089],\n",
       "       [0.14001909, 0.68492999, 0.69747663, 0.1835889 , 0.59250386]])"
      ]
     },
     "execution_count": 107,
     "metadata": {},
     "output_type": "execute_result"
    }
   ],
   "source": [
    "arr= np.random.rand(25).reshape(5,5)\n",
    "arr"
   ]
  },
  {
   "cell_type": "code",
   "execution_count": null,
   "id": "47b65a65",
   "metadata": {
    "id": "47b65a65",
    "outputId": "aca51b36-442e-44a9-8ee0-4dea5b5812db",
    "scrolled": true
   },
   "outputs": [
    {
     "data": {
      "text/plain": [
       "array([[-0.29353554, -0.33185123,  1.15939286, -0.72286295,  0.02606406],\n",
       "       [-0.418068  , -0.46822014,  0.63458738,  1.11988673,  0.39378286],\n",
       "       [ 0.26221541,  0.40060773, -0.04273963,  0.21908899, -1.01542572],\n",
       "       [ 1.163501  ,  2.22313029, -0.73393126, -0.81111318,  0.01522113],\n",
       "       [-1.55681782,  0.7633855 ,  1.96945761,  0.36910355, -0.20109765]])"
      ]
     },
     "execution_count": 108,
     "metadata": {},
     "output_type": "execute_result"
    }
   ],
   "source": [
    "arr= np.random.randn(25).reshape(5,5)\n",
    "arr"
   ]
  },
  {
   "cell_type": "code",
   "execution_count": null,
   "id": "45d8b3fd",
   "metadata": {
    "id": "45d8b3fd",
    "outputId": "4c3173ef-2043-4bbe-813d-a6def082cc0d"
   },
   "outputs": [
    {
     "data": {
      "text/plain": [
       "array([[3, 5, 6, 7, 2],\n",
       "       [5, 8, 9, 3, 5],\n",
       "       [2, 4, 2, 5, 5],\n",
       "       [2, 6, 5, 6, 9],\n",
       "       [5, 4, 5, 5, 8]])"
      ]
     },
     "execution_count": 109,
     "metadata": {},
     "output_type": "execute_result"
    }
   ],
   "source": [
    "arr= np.random.randint(2,10, size =(5,5) )  # 25 random numbers between 2 and 10 in a 5x5 matrix\n",
    "arr"
   ]
  },
  {
   "cell_type": "code",
   "execution_count": null,
   "id": "8bff394a",
   "metadata": {
    "id": "8bff394a",
    "outputId": "1f9badc2-92d1-4dd4-8373-93912bfb7abf",
    "scrolled": false
   },
   "outputs": [
    {
     "data": {
      "text/plain": [
       "array([[-0.24501226,  1.47396547, -0.97447565, -0.14615755],\n",
       "       [-0.02027488, -1.52124528,  1.80012132,  1.05572517],\n",
       "       [-0.97916022,  0.06006309,  1.07949748,  0.51318245]])"
      ]
     },
     "execution_count": 110,
     "metadata": {},
     "output_type": "execute_result"
    }
   ],
   "source": [
    "arr = np.random.randn(3,4)\n",
    "arr"
   ]
  },
  {
   "cell_type": "code",
   "execution_count": null,
   "id": "42f52f6c",
   "metadata": {
    "id": "42f52f6c"
   },
   "outputs": [],
   "source": []
  },
  {
   "cell_type": "markdown",
   "id": "579e1ff1",
   "metadata": {
    "id": "579e1ff1"
   },
   "source": [
    "# How to save numpy data from memory to flat file?\n",
    "\n",
    "Numpy data can be stored into memory in two files format – .npy file or .text file. For storing data as .npy file, just use np.save(‘output_file_name’, numpy_object) and for storing data as .txt file numpy function np.savetxt(‘output_file_name’, numpy_object).\n",
    "\n",
    "np.save(‘output_file_name’, numpy_object) saves numpy_object data as .npy file\n",
    "\n",
    "np.savetxt(‘output_file_name’, numpy_object) saves numpy_object data as .txt file"
   ]
  },
  {
   "cell_type": "code",
   "execution_count": null,
   "id": "73f15457",
   "metadata": {
    "id": "73f15457"
   },
   "outputs": [],
   "source": [
    "a = np.array([1, 2, 3, 4, 5])\n",
    "\n",
    "np.save('output_file_name', a)\n",
    "# Saving a array data as .npy file\n",
    "\n",
    "\n",
    "b = np.savetxt('output_file_name', a)\n",
    "# Saving a array data as .txt file"
   ]
  },
  {
   "cell_type": "markdown",
   "id": "696b7126",
   "metadata": {
    "id": "696b7126"
   },
   "source": [
    "# What is use of ndenumerate?\n",
    "\n",
    "ndenumerate return the co-ordinates and corresponding values in the co-ordinates"
   ]
  },
  {
   "cell_type": "code",
   "execution_count": null,
   "id": "606b9ad6",
   "metadata": {
    "id": "606b9ad6",
    "outputId": "0e800813-e5ad-44f2-be22-f66eb3438afc"
   },
   "outputs": [
    {
     "name": "stdout",
     "output_type": "stream",
     "text": [
      "(0, 0) 11\n",
      "(0, 1) 22\n",
      "(0, 2) 23\n",
      "(1, 0) 33\n",
      "(1, 1) 43\n",
      "(1, 2) 55\n"
     ]
    }
   ],
   "source": [
    "A = np.array([[11, 22, 23], [33, 43, 55]])\n",
    "for index, x in np.ndenumerate(A):\n",
    "    print(index, x)"
   ]
  },
  {
   "cell_type": "markdown",
   "id": "72b58005",
   "metadata": {
    "id": "72b58005"
   },
   "source": [
    "# How to sort a numpy array based on one or more columns?"
   ]
  },
  {
   "cell_type": "code",
   "execution_count": null,
   "id": "ef0e98ef",
   "metadata": {
    "id": "ef0e98ef",
    "outputId": "9028e7fd-468d-4a98-ab7d-4c7daffff98e"
   },
   "outputs": [
    {
     "data": {
      "text/plain": [
       "array([[2, 2, 5, 6],\n",
       "       [4, 2, 4, 2],\n",
       "       [2, 4, 1, 2],\n",
       "       [4, 6, 5, 3],\n",
       "       [2, 1, 3, 1],\n",
       "       [5, 5, 4, 4],\n",
       "       [2, 6, 6, 5],\n",
       "       [6, 5, 3, 1]])"
      ]
     },
     "execution_count": 113,
     "metadata": {},
     "output_type": "execute_result"
    }
   ],
   "source": [
    "arr = np.random.randint(1,7, size=[8, 4])\n",
    "arr"
   ]
  },
  {
   "cell_type": "raw",
   "id": "cae969d1",
   "metadata": {
    "id": "cae969d1"
   },
   "source": [
    "We have a random array of 8 rows and 4 columns.\n",
    "\n",
    "If you use the np.sort function with axis=0, all the columns will be sorted in ascending order independent of eachother, effectively compromising the integrity of the row items. In simple terms, the values in each row gets corrupted with values from other rows."
   ]
  },
  {
   "cell_type": "code",
   "execution_count": null,
   "id": "f135e046",
   "metadata": {
    "id": "f135e046",
    "outputId": "bb586608-8833-42cf-c155-62e23f1d8f1c"
   },
   "outputs": [
    {
     "data": {
      "text/plain": [
       "array([[2, 1, 1, 1],\n",
       "       [2, 2, 3, 1],\n",
       "       [2, 2, 3, 2],\n",
       "       [2, 4, 4, 2],\n",
       "       [4, 5, 4, 3],\n",
       "       [4, 5, 5, 4],\n",
       "       [5, 6, 5, 5],\n",
       "       [6, 6, 6, 6]])"
      ]
     },
     "execution_count": 114,
     "metadata": {},
     "output_type": "execute_result"
    }
   ],
   "source": [
    "# Sort each columns of arr\n",
    "np.sort(arr, axis=0)"
   ]
  },
  {
   "cell_type": "raw",
   "id": "6c36aca7",
   "metadata": {
    "id": "6c36aca7"
   },
   "source": [
    "Since I don’t want the content of rows to be disturbed, I resort to an indirect method using np.argsort."
   ]
  },
  {
   "cell_type": "markdown",
   "id": "8ecbb474",
   "metadata": {
    "id": "8ecbb474"
   },
   "source": [
    "# How to sort a numpy array based on 1 column using argsort?"
   ]
  },
  {
   "cell_type": "raw",
   "id": "afafacd3",
   "metadata": {
    "id": "afafacd3"
   },
   "source": [
    "Let’s first understand what np.argsort does.\n",
    "\n",
    "np.argsort returns the index positions of that would make a given 1d array sorted.\n",
    "\n"
   ]
  },
  {
   "cell_type": "code",
   "execution_count": null,
   "id": "783c2927",
   "metadata": {
    "id": "783c2927",
    "outputId": "149aa002-5003-43bf-e8c9-85d519dca2a9"
   },
   "outputs": [
    {
     "name": "stdout",
     "output_type": "stream",
     "text": [
      "[0 3 2 4 5 1]\n"
     ]
    }
   ],
   "source": [
    "# Get the index positions that would sort the array\n",
    "x = np.array([1, 10, 5, 2, 8, 9])\n",
    "sort_index = np.argsort(x)\n",
    "print(sort_index)"
   ]
  },
  {
   "cell_type": "raw",
   "id": "28fc50b6",
   "metadata": {
    "id": "28fc50b6"
   },
   "source": [
    "How to interpret this?\n",
    "\n",
    "In array ‘x’, the 0th item is the smallest, 3rd item is the second smallest and so on."
   ]
  },
  {
   "cell_type": "code",
   "execution_count": null,
   "id": "765cd6bc",
   "metadata": {
    "id": "765cd6bc",
    "outputId": "1baabfd9-6e19-43f6-85f7-dacfded94f0e"
   },
   "outputs": [
    {
     "data": {
      "text/plain": [
       "array([ 1,  2,  5,  8,  9, 10])"
      ]
     },
     "execution_count": 116,
     "metadata": {},
     "output_type": "execute_result"
    }
   ],
   "source": [
    "x[sort_index]"
   ]
  },
  {
   "cell_type": "raw",
   "id": "f874d1c3",
   "metadata": {
    "id": "f874d1c3"
   },
   "source": [
    "Now, in order to sort the original arr, I am going to do an argsort on the 1st column and use the resulting index positions to sort arr. See the code."
   ]
  },
  {
   "cell_type": "code",
   "execution_count": null,
   "id": "553d1e9f",
   "metadata": {
    "id": "553d1e9f",
    "outputId": "75a30f9f-6892-459a-83b7-c5c6de1d3749"
   },
   "outputs": [
    {
     "data": {
      "text/plain": [
       "array([[2, 2, 5, 6],\n",
       "       [2, 4, 1, 2],\n",
       "       [2, 1, 3, 1],\n",
       "       [2, 6, 6, 5],\n",
       "       [4, 2, 4, 2],\n",
       "       [4, 6, 5, 3],\n",
       "       [5, 5, 4, 4],\n",
       "       [6, 5, 3, 1]])"
      ]
     },
     "execution_count": 117,
     "metadata": {},
     "output_type": "execute_result"
    }
   ],
   "source": [
    "# Argsort the first column\n",
    "sorted_index_1stcol = arr[:, 0].argsort()\n",
    "\n",
    "# Sort 'arr' by first column without disturbing the integrity of rows\n",
    "arr[sorted_index_1stcol]\n"
   ]
  },
  {
   "cell_type": "raw",
   "id": "0fce2233",
   "metadata": {
    "id": "0fce2233"
   },
   "source": [
    "To sort it in decreasing order, simply reverse the argsorted index."
   ]
  },
  {
   "cell_type": "code",
   "execution_count": null,
   "id": "f3424bf3",
   "metadata": {
    "id": "f3424bf3",
    "outputId": "144e8bca-7a43-425c-d35e-7e784ec51de5"
   },
   "outputs": [
    {
     "data": {
      "text/plain": [
       "array([[6, 5, 3, 1],\n",
       "       [5, 5, 4, 4],\n",
       "       [4, 6, 5, 3],\n",
       "       [4, 2, 4, 2],\n",
       "       [2, 6, 6, 5],\n",
       "       [2, 1, 3, 1],\n",
       "       [2, 4, 1, 2],\n",
       "       [2, 2, 5, 6]])"
      ]
     },
     "execution_count": 118,
     "metadata": {},
     "output_type": "execute_result"
    }
   ],
   "source": [
    "# Descending sort\n",
    "arr[sorted_index_1stcol[::-1]]"
   ]
  },
  {
   "cell_type": "markdown",
   "id": "abc6f1ab",
   "metadata": {
    "id": "abc6f1ab"
   },
   "source": [
    "# How to sort a numpy array based on 2 or more columns?\n",
    "\n",
    "1.   List item\n",
    "2.   List item\n",
    "\n",
    "\n",
    "\n",
    "You can do this using np.lexsort by passing a tuple of columns based on which the array should be sorted.\n",
    "\n",
    "Just remember to place the column to be sorted first at the rightmost side inside the tuple."
   ]
  },
  {
   "cell_type": "code",
   "execution_count": null,
   "id": "19f09f45",
   "metadata": {
    "id": "19f09f45",
    "outputId": "b5926796-6132-4a68-d837-37b3db99c394"
   },
   "outputs": [
    {
     "data": {
      "text/plain": [
       "array([[2, 1, 3, 1],\n",
       "       [2, 2, 5, 6],\n",
       "       [2, 4, 1, 2],\n",
       "       [2, 6, 6, 5],\n",
       "       [4, 2, 4, 2],\n",
       "       [4, 6, 5, 3],\n",
       "       [5, 5, 4, 4],\n",
       "       [6, 5, 3, 1]])"
      ]
     },
     "execution_count": 119,
     "metadata": {},
     "output_type": "execute_result"
    }
   ],
   "source": [
    "# Sort by column 0, then by column 1\n",
    "lexsorted_index = np.lexsort((arr[:, 1], arr[:, 0])) \n",
    "arr[lexsorted_index]"
   ]
  },
  {
   "cell_type": "markdown",
   "id": "4b0c3189",
   "metadata": {
    "id": "4b0c3189"
   },
   "source": [
    "# Working with dates\n",
    "\n",
    "Numpy implements dates through the np.datetime64 object which supports a precision till nanoseconds. You can create one using a standard YYYY-MM-DD formatted date strings."
   ]
  },
  {
   "cell_type": "code",
   "execution_count": 1,
   "id": "b1fc9cfb",
   "metadata": {
    "colab": {
     "base_uri": "https://localhost:8080/",
     "height": 374
    },
    "executionInfo": {
     "elapsed": 10,
     "status": "error",
     "timestamp": 1634643091974,
     "user": {
      "displayName": "Gowdham Ravichandran",
      "photoUrl": "https://lh3.googleusercontent.com/a-/AOh14Gh0QQnGEYvqia-wXXOBfhB190-PhCdgoqaLfCxn=s64",
      "userId": "02295107535681367825"
     },
     "user_tz": -330
    },
    "id": "b1fc9cfb",
    "outputId": "b29ffc9f-d886-416c-db92-c9870473fb13"
   },
   "outputs": [
    {
     "ename": "NameError",
     "evalue": "ignored",
     "output_type": "error",
     "traceback": [
      "\u001b[0;31m---------------------------------------------------------------------------\u001b[0m",
      "\u001b[0;31mNameError\u001b[0m                                 Traceback (most recent call last)",
      "\u001b[0;32m<ipython-input-1-fa7dffbb72fc>\u001b[0m in \u001b[0;36m<module>\u001b[0;34m()\u001b[0m\n\u001b[0;32m----> 1\u001b[0;31m \u001b[0mget_ipython\u001b[0m\u001b[0;34m(\u001b[0m\u001b[0;34m)\u001b[0m\u001b[0;34m.\u001b[0m\u001b[0mrun_cell_magic\u001b[0m\u001b[0;34m(\u001b[0m\u001b[0;34m'time'\u001b[0m\u001b[0;34m,\u001b[0m \u001b[0;34m''\u001b[0m\u001b[0;34m,\u001b[0m \u001b[0;34m\"date64 = np.datetime64('2021-10-19 19:41:10')\\ndate64\"\u001b[0m\u001b[0;34m)\u001b[0m\u001b[0;34m\u001b[0m\u001b[0;34m\u001b[0m\u001b[0m\n\u001b[0m",
      "\u001b[0;32m/usr/local/lib/python3.7/dist-packages/IPython/core/interactiveshell.py\u001b[0m in \u001b[0;36mrun_cell_magic\u001b[0;34m(self, magic_name, line, cell)\u001b[0m\n\u001b[1;32m   2115\u001b[0m             \u001b[0mmagic_arg_s\u001b[0m \u001b[0;34m=\u001b[0m \u001b[0mself\u001b[0m\u001b[0;34m.\u001b[0m\u001b[0mvar_expand\u001b[0m\u001b[0;34m(\u001b[0m\u001b[0mline\u001b[0m\u001b[0;34m,\u001b[0m \u001b[0mstack_depth\u001b[0m\u001b[0;34m)\u001b[0m\u001b[0;34m\u001b[0m\u001b[0;34m\u001b[0m\u001b[0m\n\u001b[1;32m   2116\u001b[0m             \u001b[0;32mwith\u001b[0m \u001b[0mself\u001b[0m\u001b[0;34m.\u001b[0m\u001b[0mbuiltin_trap\u001b[0m\u001b[0;34m:\u001b[0m\u001b[0;34m\u001b[0m\u001b[0;34m\u001b[0m\u001b[0m\n\u001b[0;32m-> 2117\u001b[0;31m                 \u001b[0mresult\u001b[0m \u001b[0;34m=\u001b[0m \u001b[0mfn\u001b[0m\u001b[0;34m(\u001b[0m\u001b[0mmagic_arg_s\u001b[0m\u001b[0;34m,\u001b[0m \u001b[0mcell\u001b[0m\u001b[0;34m)\u001b[0m\u001b[0;34m\u001b[0m\u001b[0;34m\u001b[0m\u001b[0m\n\u001b[0m\u001b[1;32m   2118\u001b[0m             \u001b[0;32mreturn\u001b[0m \u001b[0mresult\u001b[0m\u001b[0;34m\u001b[0m\u001b[0;34m\u001b[0m\u001b[0m\n\u001b[1;32m   2119\u001b[0m \u001b[0;34m\u001b[0m\u001b[0m\n",
      "\u001b[0;32m<decorator-gen-53>\u001b[0m in \u001b[0;36mtime\u001b[0;34m(self, line, cell, local_ns)\u001b[0m\n",
      "\u001b[0;32m/usr/local/lib/python3.7/dist-packages/IPython/core/magic.py\u001b[0m in \u001b[0;36m<lambda>\u001b[0;34m(f, *a, **k)\u001b[0m\n\u001b[1;32m    186\u001b[0m     \u001b[0;31m# but it's overkill for just that one bit of state.\u001b[0m\u001b[0;34m\u001b[0m\u001b[0;34m\u001b[0m\u001b[0;34m\u001b[0m\u001b[0m\n\u001b[1;32m    187\u001b[0m     \u001b[0;32mdef\u001b[0m \u001b[0mmagic_deco\u001b[0m\u001b[0;34m(\u001b[0m\u001b[0marg\u001b[0m\u001b[0;34m)\u001b[0m\u001b[0;34m:\u001b[0m\u001b[0;34m\u001b[0m\u001b[0;34m\u001b[0m\u001b[0m\n\u001b[0;32m--> 188\u001b[0;31m         \u001b[0mcall\u001b[0m \u001b[0;34m=\u001b[0m \u001b[0;32mlambda\u001b[0m \u001b[0mf\u001b[0m\u001b[0;34m,\u001b[0m \u001b[0;34m*\u001b[0m\u001b[0ma\u001b[0m\u001b[0;34m,\u001b[0m \u001b[0;34m**\u001b[0m\u001b[0mk\u001b[0m\u001b[0;34m:\u001b[0m \u001b[0mf\u001b[0m\u001b[0;34m(\u001b[0m\u001b[0;34m*\u001b[0m\u001b[0ma\u001b[0m\u001b[0;34m,\u001b[0m \u001b[0;34m**\u001b[0m\u001b[0mk\u001b[0m\u001b[0;34m)\u001b[0m\u001b[0;34m\u001b[0m\u001b[0;34m\u001b[0m\u001b[0m\n\u001b[0m\u001b[1;32m    189\u001b[0m \u001b[0;34m\u001b[0m\u001b[0m\n\u001b[1;32m    190\u001b[0m         \u001b[0;32mif\u001b[0m \u001b[0mcallable\u001b[0m\u001b[0;34m(\u001b[0m\u001b[0marg\u001b[0m\u001b[0;34m)\u001b[0m\u001b[0;34m:\u001b[0m\u001b[0;34m\u001b[0m\u001b[0;34m\u001b[0m\u001b[0m\n",
      "\u001b[0;32m/usr/local/lib/python3.7/dist-packages/IPython/core/magics/execution.py\u001b[0m in \u001b[0;36mtime\u001b[0;34m(self, line, cell, local_ns)\u001b[0m\n\u001b[1;32m   1191\u001b[0m         \u001b[0;32melse\u001b[0m\u001b[0;34m:\u001b[0m\u001b[0;34m\u001b[0m\u001b[0;34m\u001b[0m\u001b[0m\n\u001b[1;32m   1192\u001b[0m             \u001b[0mst\u001b[0m \u001b[0;34m=\u001b[0m \u001b[0mclock2\u001b[0m\u001b[0;34m(\u001b[0m\u001b[0;34m)\u001b[0m\u001b[0;34m\u001b[0m\u001b[0;34m\u001b[0m\u001b[0m\n\u001b[0;32m-> 1193\u001b[0;31m             \u001b[0mexec\u001b[0m\u001b[0;34m(\u001b[0m\u001b[0mcode\u001b[0m\u001b[0;34m,\u001b[0m \u001b[0mglob\u001b[0m\u001b[0;34m,\u001b[0m \u001b[0mlocal_ns\u001b[0m\u001b[0;34m)\u001b[0m\u001b[0;34m\u001b[0m\u001b[0;34m\u001b[0m\u001b[0m\n\u001b[0m\u001b[1;32m   1194\u001b[0m             \u001b[0mend\u001b[0m \u001b[0;34m=\u001b[0m \u001b[0mclock2\u001b[0m\u001b[0;34m(\u001b[0m\u001b[0;34m)\u001b[0m\u001b[0;34m\u001b[0m\u001b[0;34m\u001b[0m\u001b[0m\n\u001b[1;32m   1195\u001b[0m             \u001b[0mout\u001b[0m \u001b[0;34m=\u001b[0m \u001b[0;32mNone\u001b[0m\u001b[0;34m\u001b[0m\u001b[0;34m\u001b[0m\u001b[0m\n",
      "\u001b[0;32m<timed exec>\u001b[0m in \u001b[0;36m<module>\u001b[0;34m()\u001b[0m\n",
      "\u001b[0;31mNameError\u001b[0m: name 'np' is not defined"
     ]
    }
   ],
   "source": [
    "# Create a datetime64 object\n",
    "%%time\n",
    "date64 = np.datetime64('2021-10-19 19:41:10')\n",
    "date64"
   ]
  },
  {
   "cell_type": "code",
   "execution_count": null,
   "id": "0c886262",
   "metadata": {
    "id": "0c886262",
    "outputId": "e05a04ab-5fc8-453d-dcaa-4ae5b72d4d06"
   },
   "outputs": [
    {
     "data": {
      "text/plain": [
       "numpy.datetime64('2021-10-19')"
      ]
     },
     "execution_count": 121,
     "metadata": {},
     "output_type": "execute_result"
    }
   ],
   "source": [
    "# Drop the time part from the datetime64 object\n",
    "dt64 = np.datetime64(date64, 'D')\n",
    "dt64"
   ]
  },
  {
   "cell_type": "markdown",
   "id": "e69376f2",
   "metadata": {
    "id": "e69376f2"
   },
   "source": [
    "By default, if you add a number increases the number of days. But if you need to increase any other time unit like months, hours, seconds etc, then the timedelta object is much convenient."
   ]
  },
  {
   "cell_type": "code",
   "execution_count": null,
   "id": "b584a837",
   "metadata": {
    "id": "b584a837",
    "outputId": "67ea6672-cc29-4a43-cd80-babe389f3d46"
   },
   "outputs": [
    {
     "name": "stdout",
     "output_type": "stream",
     "text": [
      "Add 10 days:  2021-10-29\n",
      "Add 10 minutes:  2021-10-19T00:10\n",
      "Add 10 seconds:  2021-10-19T00:00:10\n",
      "Add 10 nanoseconds:  2021-10-19T00:00:00.000000010\n"
     ]
    }
   ],
   "source": [
    "# Create the timedeltas (individual units of time)\n",
    "tenminutes = np.timedelta64(10, 'm')  # 10 minutes\n",
    "tenseconds = np.timedelta64(10, 's')  # 10 seconds\n",
    "tennanoseconds = np.timedelta64(10, 'ns')  # 10 nanoseconds\n",
    "\n",
    "print('Add 10 days: ', dt64 + 10)\n",
    "print('Add 10 minutes: ', dt64 + tenminutes)\n",
    "print('Add 10 seconds: ', dt64 + tenseconds)\n",
    "print('Add 10 nanoseconds: ', dt64 + tennanoseconds)"
   ]
  },
  {
   "cell_type": "markdown",
   "id": "087706a5",
   "metadata": {
    "id": "087706a5"
   },
   "source": [
    "Let me convert the dt64 back to a string.\n",
    "\n"
   ]
  },
  {
   "cell_type": "code",
   "execution_count": null,
   "id": "0579e58f",
   "metadata": {
    "id": "0579e58f",
    "outputId": "c13ce66f-4ae7-4250-9f8a-53a526f8e5ad"
   },
   "outputs": [
    {
     "data": {
      "text/plain": [
       "'2021-10-19'"
      ]
     },
     "execution_count": 123,
     "metadata": {},
     "output_type": "execute_result"
    }
   ],
   "source": [
    "# Convert np.datetime64 back to a string\n",
    "np.datetime_as_string(dt64)\n"
   ]
  },
  {
   "cell_type": "markdown",
   "id": "16f4e673",
   "metadata": {
    "id": "16f4e673"
   },
   "source": [
    "When working with dates, you would often need to filter out the business days from the data. You can know if a given date is a business day or not using the \n",
    "\n",
    "np.is_busday()."
   ]
  },
  {
   "cell_type": "code",
   "execution_count": null,
   "id": "6ec5302c",
   "metadata": {
    "id": "6ec5302c",
    "outputId": "528d638a-a482-4c4a-801c-9ad79a9bb1b1"
   },
   "outputs": [
    {
     "name": "stdout",
     "output_type": "stream",
     "text": [
      "Date:  2021-10-19\n",
      "Is it a business day?:  True\n",
      "Add 2 business days, rolling forward to nearest biz day:  2021-10-21\n",
      "Add 2 business days, rolling backward to nearest biz day:  2021-10-21\n"
     ]
    }
   ],
   "source": [
    "print('Date: ', dt64)\n",
    "print(\"Is it a business day?: \", np.is_busday(dt64))  \n",
    "print(\"Add 2 business days, rolling forward to nearest biz day: \", np.busday_offset(dt64, 2, roll='forward'))  \n",
    "print(\"Add 2 business days, rolling backward to nearest biz day: \", np.busday_offset(dt64, 2, roll='backward'))"
   ]
  },
  {
   "cell_type": "markdown",
   "id": "3f7dc464",
   "metadata": {
    "id": "3f7dc464"
   },
   "source": [
    "# How to create a sequence of dates?\n",
    "\n",
    "It can simply be done using the np.arange itself.\n",
    "\n"
   ]
  },
  {
   "cell_type": "code",
   "execution_count": null,
   "id": "2806bcd1",
   "metadata": {
    "id": "2806bcd1",
    "outputId": "dc8a4d51-ceda-4018-af93-911bf8b2e0ac"
   },
   "outputs": [
    {
     "name": "stdout",
     "output_type": "stream",
     "text": [
      "['2018-02-01' '2018-02-02' '2018-02-03' '2018-02-04' '2018-02-05'\n",
      " '2018-02-06' '2018-02-07' '2018-02-08' '2018-02-09']\n"
     ]
    },
    {
     "data": {
      "text/plain": [
       "array([ True,  True, False, False,  True,  True,  True,  True,  True])"
      ]
     },
     "execution_count": 125,
     "metadata": {},
     "output_type": "execute_result"
    }
   ],
   "source": [
    "# Create date sequence\n",
    "dates = np.arange(np.datetime64('2018-02-01'), np.datetime64('2018-02-10'))\n",
    "print(dates)\n",
    "\n",
    "# Check if its a business day\n",
    "np.is_busday(dates)\n"
   ]
  },
  {
   "cell_type": "markdown",
   "id": "1e36a86a",
   "metadata": {
    "id": "1e36a86a"
   },
   "source": [
    "# How to convert numpy.datetime64 to datetime.datetime object?"
   ]
  },
  {
   "cell_type": "code",
   "execution_count": null,
   "id": "95116ef8",
   "metadata": {
    "id": "95116ef8",
    "outputId": "a7700dec-0f31-4a16-977c-0fe6e224f6bc"
   },
   "outputs": [
    {
     "data": {
      "text/plain": [
       "datetime.date(2021, 10, 19)"
      ]
     },
     "execution_count": 126,
     "metadata": {},
     "output_type": "execute_result"
    }
   ],
   "source": [
    "# Convert np.datetime64 to datetime.datetime\n",
    "import datetime\n",
    "dt = dt64.tolist()\n",
    "dt"
   ]
  },
  {
   "cell_type": "markdown",
   "id": "1b79c85d",
   "metadata": {
    "id": "1b79c85d"
   },
   "source": [
    "Once you convert it to a datetime.date object, you have a lot more facilities to extract the day of month, month of year etc."
   ]
  },
  {
   "cell_type": "code",
   "execution_count": null,
   "id": "39578a1a",
   "metadata": {
    "id": "39578a1a",
    "outputId": "6be3ed60-751f-4976-d0fa-ee6fe3297e90"
   },
   "outputs": [
    {
     "name": "stdout",
     "output_type": "stream",
     "text": [
      "Year:  2021\n",
      "Day of month:  19\n",
      "Month of year:  10\n",
      "Day of Week:  1\n"
     ]
    }
   ],
   "source": [
    "print('Year: ', dt.year)  \n",
    "print('Day of month: ', dt.day)\n",
    "print('Month of year: ', dt.month)  \n",
    "print('Day of Week: ', dt.weekday())  # Sunday"
   ]
  },
  {
   "cell_type": "markdown",
   "id": "e3e4ef1f",
   "metadata": {
    "id": "e3e4ef1f"
   },
   "source": [
    "# End of the Notebook"
   ]
  }
 ],
 "metadata": {
  "colab": {
   "name": "Darshan - Numpy.ipynb",
   "provenance": []
  },
  "kernelspec": {
   "display_name": "Python 3",
   "language": "python",
   "name": "python3"
  },
  "language_info": {
   "codemirror_mode": {
    "name": "ipython",
    "version": 3
   },
   "file_extension": ".py",
   "mimetype": "text/x-python",
   "name": "python",
   "nbconvert_exporter": "python",
   "pygments_lexer": "ipython3",
   "version": "3.8.2"
  }
 },
 "nbformat": 4,
 "nbformat_minor": 5
}
